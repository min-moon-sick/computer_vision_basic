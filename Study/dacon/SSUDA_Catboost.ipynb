{
 "cells": [
  {
   "cell_type": "markdown",
   "metadata": {
    "id": "AmO98KVSYM-b"
   },
   "source": [
    "## 최종 결과물 : Catboost(Public : 5.1721157857, Private : 8.4329062881)\n"
   ]
  },
  {
   "cell_type": "markdown",
   "metadata": {
    "id": "udonF9tQaCcw"
   },
   "source": [
    "## 1.Library & Data Load"
   ]
  },
  {
   "cell_type": "code",
   "execution_count": 1,
   "metadata": {
    "colab": {
     "base_uri": "https://localhost:8080/"
    },
    "executionInfo": {
     "elapsed": 17130,
     "status": "ok",
     "timestamp": 1640066600675,
     "user": {
      "displayName": "조경덕",
      "photoUrl": "https://lh3.googleusercontent.com/a/default-user=s64",
      "userId": "14679603036547633295"
     },
     "user_tz": -540
    },
    "id": "8gaBhOEhSYdF",
    "outputId": "b047d77a-32a2-4977-8186-e6ea3f096ccb"
   },
   "outputs": [],
   "source": [
    "# from google.colab import drive\n",
    "# drive.mount('/content/drive')      "
   ]
  },
  {
   "cell_type": "code",
   "execution_count": 2,
   "metadata": {
    "id": "F9lyXc90w-sP"
   },
   "outputs": [],
   "source": [
    "# !pip install catboost\n",
    "# !pip install optuna"
   ]
  },
  {
   "cell_type": "code",
   "execution_count": 3,
   "metadata": {
    "executionInfo": {
     "elapsed": 2569,
     "status": "ok",
     "timestamp": 1640066627649,
     "user": {
      "displayName": "조경덕",
      "photoUrl": "https://lh3.googleusercontent.com/a/default-user=s64",
      "userId": "14679603036547633295"
     },
     "user_tz": -540
    },
    "id": "Yld6Bu1JUNNS"
   },
   "outputs": [],
   "source": [
    "import pandas as pd\n",
    "import numpy as np\n",
    "from catboost import CatBoostRegressor\n",
    "\n",
    "from tqdm import tqdm\n",
    "from sklearn.model_selection import StratifiedKFold,train_test_split\n",
    "from sklearn.metrics import mean_squared_error\n",
    "\n",
    "import random\n",
    "import optuna\n",
    "from optuna.samplers import TPESampler"
   ]
  },
  {
   "cell_type": "code",
   "execution_count": 4,
   "metadata": {
    "executionInfo": {
     "elapsed": 268,
     "status": "ok",
     "timestamp": 1640066670304,
     "user": {
      "displayName": "조경덕",
      "photoUrl": "https://lh3.googleusercontent.com/a/default-user=s64",
      "userId": "14679603036547633295"
     },
     "user_tz": -540
    },
    "id": "qh4mNZPWSzuI"
   },
   "outputs": [],
   "source": [
    "path='./dataset/물류 유통량 예측 경진대회/'"
   ]
  },
  {
   "cell_type": "code",
   "execution_count": 5,
   "metadata": {
    "executionInfo": {
     "elapsed": 1365,
     "status": "ok",
     "timestamp": 1640066680755,
     "user": {
      "displayName": "조경덕",
      "photoUrl": "https://lh3.googleusercontent.com/a/default-user=s64",
      "userId": "14679603036547633295"
     },
     "user_tz": -540
    },
    "id": "em7Q46G1UF7a"
   },
   "outputs": [],
   "source": [
    "train = pd.read_csv(path+'train.csv', engine='python')\n",
    "test = pd.read_csv(path+'test.csv', engine='python')\n",
    "\n",
    "submission = pd.read_csv(path+'sample_submission.csv')"
   ]
  },
  {
   "cell_type": "markdown",
   "metadata": {
    "id": "fXG4hQAMaG5Y"
   },
   "source": [
    "## 2. Data Preprocess"
   ]
  },
  {
   "cell_type": "markdown",
   "metadata": {
    "id": "wuJ-SWx3aQCH"
   },
   "source": [
    "송하인 격자공간고유번호와 수하인격자공간고유번호가 연속형 자료로 취급하면 안된다고 생각하였습니다.\n",
    "\n",
    "격자공간고유번호의 16자리 중 자릿수마다 담고 있는 정보가 다를 것이라 생각하였고,\n",
    "데이터를 탐색해본 결과 1 ~ 5자리, 6 ~ 9자리, 10, 11 ~ 16자리가 가지고 있는 정보가 다를 것이라 생각했습니다.\n",
    "\n",
    "그리고 송하인 격자공간고유번호의 unique 수는 꽤 되지만 수하인 격자공간고유번호의 unique 수는 얼마 되지 않았습니다. \n",
    "\n",
    "따라서 송하인 격자공간고유번호는 1 ~ 5, 6 ~ 9, 10, 11 ~ 16자릿수로 나누고\n",
    "수하인 격자공간고유번호는 자릿수 별로 변수를 생성하였습니다.\n",
    "\n",
    "총 22개의 설명변수로 이루어진 데이터로 변환하였습니다."
   ]
  },
  {
   "cell_type": "code",
   "execution_count": 9,
   "metadata": {
    "executionInfo": {
     "elapsed": 261,
     "status": "ok",
     "timestamp": 1640066684412,
     "user": {
      "displayName": "조경덕",
      "photoUrl": "https://lh3.googleusercontent.com/a/default-user=s64",
      "userId": "14679603036547633295"
     },
     "user_tz": -540
    },
    "id": "5EcknHeRygpi"
   },
   "outputs": [],
   "source": [
    "def numround(number, digit):\n",
    "    num=[]\n",
    "    while(number!=0):\n",
    "        num.append(number % 10)\n",
    "        number = number //10\n",
    "\n",
    "    return int(num[-digit])"
   ]
  },
  {
   "cell_type": "code",
   "execution_count": 10,
   "metadata": {
    "colab": {
     "base_uri": "https://localhost:8080/"
    },
    "executionInfo": {
     "elapsed": 629178,
     "status": "ok",
     "timestamp": 1640067313861,
     "user": {
      "displayName": "조경덕",
      "photoUrl": "https://lh3.googleusercontent.com/a/default-user=s64",
      "userId": "14679603036547633295"
     },
     "user_tz": -540
    },
    "id": "4mEaeYX74_PI",
    "outputId": "e739eea5-c769-46c2-8a2b-f6d16e355e62"
   },
   "outputs": [
    {
     "name": "stderr",
     "output_type": "stream",
     "text": [
      "  0%|                                                                                           | 0/16 [00:00<?, ?it/s]\n"
     ]
    },
    {
     "ename": "KeyError",
     "evalue": "'SEND_SPG_INNB'",
     "output_type": "error",
     "traceback": [
      "\u001b[1;31m---------------------------------------------------------------------------\u001b[0m",
      "\u001b[1;31mKeyError\u001b[0m                                  Traceback (most recent call last)",
      "\u001b[1;32m~\\anaconda3\\lib\\site-packages\\pandas\\core\\indexes\\base.py\u001b[0m in \u001b[0;36mget_loc\u001b[1;34m(self, key, method, tolerance)\u001b[0m\n\u001b[0;32m   3360\u001b[0m             \u001b[1;32mtry\u001b[0m\u001b[1;33m:\u001b[0m\u001b[1;33m\u001b[0m\u001b[1;33m\u001b[0m\u001b[0m\n\u001b[1;32m-> 3361\u001b[1;33m                 \u001b[1;32mreturn\u001b[0m \u001b[0mself\u001b[0m\u001b[1;33m.\u001b[0m\u001b[0m_engine\u001b[0m\u001b[1;33m.\u001b[0m\u001b[0mget_loc\u001b[0m\u001b[1;33m(\u001b[0m\u001b[0mcasted_key\u001b[0m\u001b[1;33m)\u001b[0m\u001b[1;33m\u001b[0m\u001b[1;33m\u001b[0m\u001b[0m\n\u001b[0m\u001b[0;32m   3362\u001b[0m             \u001b[1;32mexcept\u001b[0m \u001b[0mKeyError\u001b[0m \u001b[1;32mas\u001b[0m \u001b[0merr\u001b[0m\u001b[1;33m:\u001b[0m\u001b[1;33m\u001b[0m\u001b[1;33m\u001b[0m\u001b[0m\n",
      "\u001b[1;32m~\\anaconda3\\lib\\site-packages\\pandas\\_libs\\index.pyx\u001b[0m in \u001b[0;36mpandas._libs.index.IndexEngine.get_loc\u001b[1;34m()\u001b[0m\n",
      "\u001b[1;32m~\\anaconda3\\lib\\site-packages\\pandas\\_libs\\index.pyx\u001b[0m in \u001b[0;36mpandas._libs.index.IndexEngine.get_loc\u001b[1;34m()\u001b[0m\n",
      "\u001b[1;32mpandas\\_libs\\hashtable_class_helper.pxi\u001b[0m in \u001b[0;36mpandas._libs.hashtable.PyObjectHashTable.get_item\u001b[1;34m()\u001b[0m\n",
      "\u001b[1;32mpandas\\_libs\\hashtable_class_helper.pxi\u001b[0m in \u001b[0;36mpandas._libs.hashtable.PyObjectHashTable.get_item\u001b[1;34m()\u001b[0m\n",
      "\u001b[1;31mKeyError\u001b[0m: 'SEND_SPG_INNB'",
      "\nThe above exception was the direct cause of the following exception:\n",
      "\u001b[1;31mKeyError\u001b[0m                                  Traceback (most recent call last)",
      "\u001b[1;32m~\\AppData\\Local\\Temp/ipykernel_11740/4240560415.py\u001b[0m in \u001b[0;36m<module>\u001b[1;34m\u001b[0m\n\u001b[0;32m      5\u001b[0m     \u001b[0mtest\u001b[0m\u001b[1;33m[\u001b[0m\u001b[1;34mf'REC_SPG_INNB_{i+1}'\u001b[0m\u001b[1;33m]\u001b[0m \u001b[1;33m=\u001b[0m \u001b[1;36m0\u001b[0m\u001b[1;33m\u001b[0m\u001b[1;33m\u001b[0m\u001b[0m\n\u001b[0;32m      6\u001b[0m     \u001b[1;32mfor\u001b[0m \u001b[0mj\u001b[0m \u001b[1;32min\u001b[0m \u001b[0mrange\u001b[0m\u001b[1;33m(\u001b[0m\u001b[0mtrain\u001b[0m\u001b[1;33m.\u001b[0m\u001b[0mshape\u001b[0m\u001b[1;33m[\u001b[0m\u001b[1;36m0\u001b[0m\u001b[1;33m]\u001b[0m\u001b[1;33m)\u001b[0m\u001b[1;33m:\u001b[0m\u001b[1;33m\u001b[0m\u001b[1;33m\u001b[0m\u001b[0m\n\u001b[1;32m----> 7\u001b[1;33m         \u001b[0mtrain\u001b[0m\u001b[1;33m.\u001b[0m\u001b[0mloc\u001b[0m\u001b[1;33m[\u001b[0m\u001b[0mj\u001b[0m\u001b[1;33m,\u001b[0m\u001b[1;34mf'SEND_SPG_INNB_{i+1}'\u001b[0m\u001b[1;33m]\u001b[0m\u001b[1;33m=\u001b[0m\u001b[0mnumround\u001b[0m\u001b[1;33m(\u001b[0m\u001b[0mtrain\u001b[0m\u001b[1;33m.\u001b[0m\u001b[0mloc\u001b[0m\u001b[1;33m[\u001b[0m\u001b[0mj\u001b[0m\u001b[1;33m,\u001b[0m\u001b[1;34m'SEND_SPG_INNB'\u001b[0m\u001b[1;33m]\u001b[0m\u001b[1;33m,\u001b[0m\u001b[0mi\u001b[0m\u001b[1;33m+\u001b[0m\u001b[1;36m1\u001b[0m\u001b[1;33m)\u001b[0m\u001b[1;33m\u001b[0m\u001b[1;33m\u001b[0m\u001b[0m\n\u001b[0m\u001b[0;32m      8\u001b[0m         \u001b[0mtrain\u001b[0m\u001b[1;33m.\u001b[0m\u001b[0mloc\u001b[0m\u001b[1;33m[\u001b[0m\u001b[0mj\u001b[0m\u001b[1;33m,\u001b[0m\u001b[1;34mf'REC_SPG_INNB_{i+1}'\u001b[0m\u001b[1;33m]\u001b[0m\u001b[1;33m=\u001b[0m\u001b[0mnumround\u001b[0m\u001b[1;33m(\u001b[0m\u001b[0mtrain\u001b[0m\u001b[1;33m.\u001b[0m\u001b[0mloc\u001b[0m\u001b[1;33m[\u001b[0m\u001b[0mj\u001b[0m\u001b[1;33m,\u001b[0m\u001b[1;34m'REC_SPG_INNB'\u001b[0m\u001b[1;33m]\u001b[0m\u001b[1;33m,\u001b[0m\u001b[0mi\u001b[0m\u001b[1;33m+\u001b[0m\u001b[1;36m1\u001b[0m\u001b[1;33m)\u001b[0m\u001b[1;33m\u001b[0m\u001b[1;33m\u001b[0m\u001b[0m\n\u001b[0;32m      9\u001b[0m \u001b[1;33m\u001b[0m\u001b[0m\n",
      "\u001b[1;32m~\\anaconda3\\lib\\site-packages\\pandas\\core\\indexing.py\u001b[0m in \u001b[0;36m__getitem__\u001b[1;34m(self, key)\u001b[0m\n\u001b[0;32m    923\u001b[0m                 \u001b[1;32mwith\u001b[0m \u001b[0msuppress\u001b[0m\u001b[1;33m(\u001b[0m\u001b[0mKeyError\u001b[0m\u001b[1;33m,\u001b[0m \u001b[0mIndexError\u001b[0m\u001b[1;33m)\u001b[0m\u001b[1;33m:\u001b[0m\u001b[1;33m\u001b[0m\u001b[1;33m\u001b[0m\u001b[0m\n\u001b[0;32m    924\u001b[0m                     \u001b[1;32mreturn\u001b[0m \u001b[0mself\u001b[0m\u001b[1;33m.\u001b[0m\u001b[0mobj\u001b[0m\u001b[1;33m.\u001b[0m\u001b[0m_get_value\u001b[0m\u001b[1;33m(\u001b[0m\u001b[1;33m*\u001b[0m\u001b[0mkey\u001b[0m\u001b[1;33m,\u001b[0m \u001b[0mtakeable\u001b[0m\u001b[1;33m=\u001b[0m\u001b[0mself\u001b[0m\u001b[1;33m.\u001b[0m\u001b[0m_takeable\u001b[0m\u001b[1;33m)\u001b[0m\u001b[1;33m\u001b[0m\u001b[1;33m\u001b[0m\u001b[0m\n\u001b[1;32m--> 925\u001b[1;33m             \u001b[1;32mreturn\u001b[0m \u001b[0mself\u001b[0m\u001b[1;33m.\u001b[0m\u001b[0m_getitem_tuple\u001b[0m\u001b[1;33m(\u001b[0m\u001b[0mkey\u001b[0m\u001b[1;33m)\u001b[0m\u001b[1;33m\u001b[0m\u001b[1;33m\u001b[0m\u001b[0m\n\u001b[0m\u001b[0;32m    926\u001b[0m         \u001b[1;32melse\u001b[0m\u001b[1;33m:\u001b[0m\u001b[1;33m\u001b[0m\u001b[1;33m\u001b[0m\u001b[0m\n\u001b[0;32m    927\u001b[0m             \u001b[1;31m# we by definition only have the 0th axis\u001b[0m\u001b[1;33m\u001b[0m\u001b[1;33m\u001b[0m\u001b[1;33m\u001b[0m\u001b[0m\n",
      "\u001b[1;32m~\\anaconda3\\lib\\site-packages\\pandas\\core\\indexing.py\u001b[0m in \u001b[0;36m_getitem_tuple\u001b[1;34m(self, tup)\u001b[0m\n\u001b[0;32m   1098\u001b[0m     \u001b[1;32mdef\u001b[0m \u001b[0m_getitem_tuple\u001b[0m\u001b[1;33m(\u001b[0m\u001b[0mself\u001b[0m\u001b[1;33m,\u001b[0m \u001b[0mtup\u001b[0m\u001b[1;33m:\u001b[0m \u001b[0mtuple\u001b[0m\u001b[1;33m)\u001b[0m\u001b[1;33m:\u001b[0m\u001b[1;33m\u001b[0m\u001b[1;33m\u001b[0m\u001b[0m\n\u001b[0;32m   1099\u001b[0m         \u001b[1;32mwith\u001b[0m \u001b[0msuppress\u001b[0m\u001b[1;33m(\u001b[0m\u001b[0mIndexingError\u001b[0m\u001b[1;33m)\u001b[0m\u001b[1;33m:\u001b[0m\u001b[1;33m\u001b[0m\u001b[1;33m\u001b[0m\u001b[0m\n\u001b[1;32m-> 1100\u001b[1;33m             \u001b[1;32mreturn\u001b[0m \u001b[0mself\u001b[0m\u001b[1;33m.\u001b[0m\u001b[0m_getitem_lowerdim\u001b[0m\u001b[1;33m(\u001b[0m\u001b[0mtup\u001b[0m\u001b[1;33m)\u001b[0m\u001b[1;33m\u001b[0m\u001b[1;33m\u001b[0m\u001b[0m\n\u001b[0m\u001b[0;32m   1101\u001b[0m \u001b[1;33m\u001b[0m\u001b[0m\n\u001b[0;32m   1102\u001b[0m         \u001b[1;31m# no multi-index, so validate all of the indexers\u001b[0m\u001b[1;33m\u001b[0m\u001b[1;33m\u001b[0m\u001b[1;33m\u001b[0m\u001b[0m\n",
      "\u001b[1;32m~\\anaconda3\\lib\\site-packages\\pandas\\core\\indexing.py\u001b[0m in \u001b[0;36m_getitem_lowerdim\u001b[1;34m(self, tup)\u001b[0m\n\u001b[0;32m    860\u001b[0m                     \u001b[1;32mreturn\u001b[0m \u001b[0msection\u001b[0m\u001b[1;33m\u001b[0m\u001b[1;33m\u001b[0m\u001b[0m\n\u001b[0;32m    861\u001b[0m                 \u001b[1;31m# This is an elided recursive call to iloc/loc\u001b[0m\u001b[1;33m\u001b[0m\u001b[1;33m\u001b[0m\u001b[1;33m\u001b[0m\u001b[0m\n\u001b[1;32m--> 862\u001b[1;33m                 \u001b[1;32mreturn\u001b[0m \u001b[0mgetattr\u001b[0m\u001b[1;33m(\u001b[0m\u001b[0msection\u001b[0m\u001b[1;33m,\u001b[0m \u001b[0mself\u001b[0m\u001b[1;33m.\u001b[0m\u001b[0mname\u001b[0m\u001b[1;33m)\u001b[0m\u001b[1;33m[\u001b[0m\u001b[0mnew_key\u001b[0m\u001b[1;33m]\u001b[0m\u001b[1;33m\u001b[0m\u001b[1;33m\u001b[0m\u001b[0m\n\u001b[0m\u001b[0;32m    863\u001b[0m \u001b[1;33m\u001b[0m\u001b[0m\n\u001b[0;32m    864\u001b[0m         \u001b[1;32mraise\u001b[0m \u001b[0mIndexingError\u001b[0m\u001b[1;33m(\u001b[0m\u001b[1;34m\"not applicable\"\u001b[0m\u001b[1;33m)\u001b[0m\u001b[1;33m\u001b[0m\u001b[1;33m\u001b[0m\u001b[0m\n",
      "\u001b[1;32m~\\anaconda3\\lib\\site-packages\\pandas\\core\\indexing.py\u001b[0m in \u001b[0;36m__getitem__\u001b[1;34m(self, key)\u001b[0m\n\u001b[0;32m    929\u001b[0m \u001b[1;33m\u001b[0m\u001b[0m\n\u001b[0;32m    930\u001b[0m             \u001b[0mmaybe_callable\u001b[0m \u001b[1;33m=\u001b[0m \u001b[0mcom\u001b[0m\u001b[1;33m.\u001b[0m\u001b[0mapply_if_callable\u001b[0m\u001b[1;33m(\u001b[0m\u001b[0mkey\u001b[0m\u001b[1;33m,\u001b[0m \u001b[0mself\u001b[0m\u001b[1;33m.\u001b[0m\u001b[0mobj\u001b[0m\u001b[1;33m)\u001b[0m\u001b[1;33m\u001b[0m\u001b[1;33m\u001b[0m\u001b[0m\n\u001b[1;32m--> 931\u001b[1;33m             \u001b[1;32mreturn\u001b[0m \u001b[0mself\u001b[0m\u001b[1;33m.\u001b[0m\u001b[0m_getitem_axis\u001b[0m\u001b[1;33m(\u001b[0m\u001b[0mmaybe_callable\u001b[0m\u001b[1;33m,\u001b[0m \u001b[0maxis\u001b[0m\u001b[1;33m=\u001b[0m\u001b[0maxis\u001b[0m\u001b[1;33m)\u001b[0m\u001b[1;33m\u001b[0m\u001b[1;33m\u001b[0m\u001b[0m\n\u001b[0m\u001b[0;32m    932\u001b[0m \u001b[1;33m\u001b[0m\u001b[0m\n\u001b[0;32m    933\u001b[0m     \u001b[1;32mdef\u001b[0m \u001b[0m_is_scalar_access\u001b[0m\u001b[1;33m(\u001b[0m\u001b[0mself\u001b[0m\u001b[1;33m,\u001b[0m \u001b[0mkey\u001b[0m\u001b[1;33m:\u001b[0m \u001b[0mtuple\u001b[0m\u001b[1;33m)\u001b[0m\u001b[1;33m:\u001b[0m\u001b[1;33m\u001b[0m\u001b[1;33m\u001b[0m\u001b[0m\n",
      "\u001b[1;32m~\\anaconda3\\lib\\site-packages\\pandas\\core\\indexing.py\u001b[0m in \u001b[0;36m_getitem_axis\u001b[1;34m(self, key, axis)\u001b[0m\n\u001b[0;32m   1162\u001b[0m         \u001b[1;31m# fall thru to straight lookup\u001b[0m\u001b[1;33m\u001b[0m\u001b[1;33m\u001b[0m\u001b[1;33m\u001b[0m\u001b[0m\n\u001b[0;32m   1163\u001b[0m         \u001b[0mself\u001b[0m\u001b[1;33m.\u001b[0m\u001b[0m_validate_key\u001b[0m\u001b[1;33m(\u001b[0m\u001b[0mkey\u001b[0m\u001b[1;33m,\u001b[0m \u001b[0maxis\u001b[0m\u001b[1;33m)\u001b[0m\u001b[1;33m\u001b[0m\u001b[1;33m\u001b[0m\u001b[0m\n\u001b[1;32m-> 1164\u001b[1;33m         \u001b[1;32mreturn\u001b[0m \u001b[0mself\u001b[0m\u001b[1;33m.\u001b[0m\u001b[0m_get_label\u001b[0m\u001b[1;33m(\u001b[0m\u001b[0mkey\u001b[0m\u001b[1;33m,\u001b[0m \u001b[0maxis\u001b[0m\u001b[1;33m=\u001b[0m\u001b[0maxis\u001b[0m\u001b[1;33m)\u001b[0m\u001b[1;33m\u001b[0m\u001b[1;33m\u001b[0m\u001b[0m\n\u001b[0m\u001b[0;32m   1165\u001b[0m \u001b[1;33m\u001b[0m\u001b[0m\n\u001b[0;32m   1166\u001b[0m     \u001b[1;32mdef\u001b[0m \u001b[0m_get_slice_axis\u001b[0m\u001b[1;33m(\u001b[0m\u001b[0mself\u001b[0m\u001b[1;33m,\u001b[0m \u001b[0mslice_obj\u001b[0m\u001b[1;33m:\u001b[0m \u001b[0mslice\u001b[0m\u001b[1;33m,\u001b[0m \u001b[0maxis\u001b[0m\u001b[1;33m:\u001b[0m \u001b[0mint\u001b[0m\u001b[1;33m)\u001b[0m\u001b[1;33m:\u001b[0m\u001b[1;33m\u001b[0m\u001b[1;33m\u001b[0m\u001b[0m\n",
      "\u001b[1;32m~\\anaconda3\\lib\\site-packages\\pandas\\core\\indexing.py\u001b[0m in \u001b[0;36m_get_label\u001b[1;34m(self, label, axis)\u001b[0m\n\u001b[0;32m   1111\u001b[0m     \u001b[1;32mdef\u001b[0m \u001b[0m_get_label\u001b[0m\u001b[1;33m(\u001b[0m\u001b[0mself\u001b[0m\u001b[1;33m,\u001b[0m \u001b[0mlabel\u001b[0m\u001b[1;33m,\u001b[0m \u001b[0maxis\u001b[0m\u001b[1;33m:\u001b[0m \u001b[0mint\u001b[0m\u001b[1;33m)\u001b[0m\u001b[1;33m:\u001b[0m\u001b[1;33m\u001b[0m\u001b[1;33m\u001b[0m\u001b[0m\n\u001b[0;32m   1112\u001b[0m         \u001b[1;31m# GH#5667 this will fail if the label is not present in the axis.\u001b[0m\u001b[1;33m\u001b[0m\u001b[1;33m\u001b[0m\u001b[1;33m\u001b[0m\u001b[0m\n\u001b[1;32m-> 1113\u001b[1;33m         \u001b[1;32mreturn\u001b[0m \u001b[0mself\u001b[0m\u001b[1;33m.\u001b[0m\u001b[0mobj\u001b[0m\u001b[1;33m.\u001b[0m\u001b[0mxs\u001b[0m\u001b[1;33m(\u001b[0m\u001b[0mlabel\u001b[0m\u001b[1;33m,\u001b[0m \u001b[0maxis\u001b[0m\u001b[1;33m=\u001b[0m\u001b[0maxis\u001b[0m\u001b[1;33m)\u001b[0m\u001b[1;33m\u001b[0m\u001b[1;33m\u001b[0m\u001b[0m\n\u001b[0m\u001b[0;32m   1114\u001b[0m \u001b[1;33m\u001b[0m\u001b[0m\n\u001b[0;32m   1115\u001b[0m     \u001b[1;32mdef\u001b[0m \u001b[0m_handle_lowerdim_multi_index_axis0\u001b[0m\u001b[1;33m(\u001b[0m\u001b[0mself\u001b[0m\u001b[1;33m,\u001b[0m \u001b[0mtup\u001b[0m\u001b[1;33m:\u001b[0m \u001b[0mtuple\u001b[0m\u001b[1;33m)\u001b[0m\u001b[1;33m:\u001b[0m\u001b[1;33m\u001b[0m\u001b[1;33m\u001b[0m\u001b[0m\n",
      "\u001b[1;32m~\\anaconda3\\lib\\site-packages\\pandas\\core\\generic.py\u001b[0m in \u001b[0;36mxs\u001b[1;34m(self, key, axis, level, drop_level)\u001b[0m\n\u001b[0;32m   3774\u001b[0m                 \u001b[1;32mraise\u001b[0m \u001b[0mTypeError\u001b[0m\u001b[1;33m(\u001b[0m\u001b[1;34mf\"Expected label or tuple of labels, got {key}\"\u001b[0m\u001b[1;33m)\u001b[0m \u001b[1;32mfrom\u001b[0m \u001b[0me\u001b[0m\u001b[1;33m\u001b[0m\u001b[1;33m\u001b[0m\u001b[0m\n\u001b[0;32m   3775\u001b[0m         \u001b[1;32melse\u001b[0m\u001b[1;33m:\u001b[0m\u001b[1;33m\u001b[0m\u001b[1;33m\u001b[0m\u001b[0m\n\u001b[1;32m-> 3776\u001b[1;33m             \u001b[0mloc\u001b[0m \u001b[1;33m=\u001b[0m \u001b[0mindex\u001b[0m\u001b[1;33m.\u001b[0m\u001b[0mget_loc\u001b[0m\u001b[1;33m(\u001b[0m\u001b[0mkey\u001b[0m\u001b[1;33m)\u001b[0m\u001b[1;33m\u001b[0m\u001b[1;33m\u001b[0m\u001b[0m\n\u001b[0m\u001b[0;32m   3777\u001b[0m \u001b[1;33m\u001b[0m\u001b[0m\n\u001b[0;32m   3778\u001b[0m             \u001b[1;32mif\u001b[0m \u001b[0misinstance\u001b[0m\u001b[1;33m(\u001b[0m\u001b[0mloc\u001b[0m\u001b[1;33m,\u001b[0m \u001b[0mnp\u001b[0m\u001b[1;33m.\u001b[0m\u001b[0mndarray\u001b[0m\u001b[1;33m)\u001b[0m\u001b[1;33m:\u001b[0m\u001b[1;33m\u001b[0m\u001b[1;33m\u001b[0m\u001b[0m\n",
      "\u001b[1;32m~\\anaconda3\\lib\\site-packages\\pandas\\core\\indexes\\base.py\u001b[0m in \u001b[0;36mget_loc\u001b[1;34m(self, key, method, tolerance)\u001b[0m\n\u001b[0;32m   3361\u001b[0m                 \u001b[1;32mreturn\u001b[0m \u001b[0mself\u001b[0m\u001b[1;33m.\u001b[0m\u001b[0m_engine\u001b[0m\u001b[1;33m.\u001b[0m\u001b[0mget_loc\u001b[0m\u001b[1;33m(\u001b[0m\u001b[0mcasted_key\u001b[0m\u001b[1;33m)\u001b[0m\u001b[1;33m\u001b[0m\u001b[1;33m\u001b[0m\u001b[0m\n\u001b[0;32m   3362\u001b[0m             \u001b[1;32mexcept\u001b[0m \u001b[0mKeyError\u001b[0m \u001b[1;32mas\u001b[0m \u001b[0merr\u001b[0m\u001b[1;33m:\u001b[0m\u001b[1;33m\u001b[0m\u001b[1;33m\u001b[0m\u001b[0m\n\u001b[1;32m-> 3363\u001b[1;33m                 \u001b[1;32mraise\u001b[0m \u001b[0mKeyError\u001b[0m\u001b[1;33m(\u001b[0m\u001b[0mkey\u001b[0m\u001b[1;33m)\u001b[0m \u001b[1;32mfrom\u001b[0m \u001b[0merr\u001b[0m\u001b[1;33m\u001b[0m\u001b[1;33m\u001b[0m\u001b[0m\n\u001b[0m\u001b[0;32m   3364\u001b[0m \u001b[1;33m\u001b[0m\u001b[0m\n\u001b[0;32m   3365\u001b[0m         \u001b[1;32mif\u001b[0m \u001b[0mis_scalar\u001b[0m\u001b[1;33m(\u001b[0m\u001b[0mkey\u001b[0m\u001b[1;33m)\u001b[0m \u001b[1;32mand\u001b[0m \u001b[0misna\u001b[0m\u001b[1;33m(\u001b[0m\u001b[0mkey\u001b[0m\u001b[1;33m)\u001b[0m \u001b[1;32mand\u001b[0m \u001b[1;32mnot\u001b[0m \u001b[0mself\u001b[0m\u001b[1;33m.\u001b[0m\u001b[0mhasnans\u001b[0m\u001b[1;33m:\u001b[0m\u001b[1;33m\u001b[0m\u001b[1;33m\u001b[0m\u001b[0m\n",
      "\u001b[1;31mKeyError\u001b[0m: 'SEND_SPG_INNB'"
     ]
    }
   ],
   "source": [
    "for i in tqdm(range(16)):\n",
    "    train[f'SEND_SPG_INNB_{i+1}'] = 0\n",
    "    train[f'REC_SPG_INNB_{i+1}'] = 0\n",
    "    test[f'SEND_SPG_INNB_{i+1}'] = 0\n",
    "    test[f'REC_SPG_INNB_{i+1}'] = 0\n",
    "    for j in range(train.shape[0]):\n",
    "        train.loc[j,f'SEND_SPG_INNB_{i+1}']=numround(train.loc[j,'SEND_SPG_INNB'],i+1)\n",
    "        train.loc[j,f'REC_SPG_INNB_{i+1}']=numround(train.loc[j,'REC_SPG_INNB'],i+1)\n",
    "\n",
    "    for j in range(test.shape[0]):\n",
    "        test.loc[j,f'SEND_SPG_INNB_{i+1}']=numround(test.loc[j,'SEND_SPG_INNB'],i+1)\n",
    "        test.loc[j,f'REC_SPG_INNB_{i+1}']=numround(test.loc[j,'REC_SPG_INNB'],i+1)\n"
   ]
  },
  {
   "cell_type": "code",
   "execution_count": null,
   "metadata": {
    "executionInfo": {
     "elapsed": 13,
     "status": "ok",
     "timestamp": 1640067313861,
     "user": {
      "displayName": "조경덕",
      "photoUrl": "https://lh3.googleusercontent.com/a/default-user=s64",
      "userId": "14679603036547633295"
     },
     "user_tz": -540
    },
    "id": "-Zy_xrTUw-Gg"
   },
   "outputs": [],
   "source": [
    "train['SEND_SPG_INNB_1~5']=train['SEND_SPG_INNB_1']+train['SEND_SPG_INNB_2']+train['SEND_SPG_INNB_3']+train['SEND_SPG_INNB_4']+train['SEND_SPG_INNB_5']\n",
    "train['SEND_SPG_INNB_6~9']=train['SEND_SPG_INNB_6']+train['SEND_SPG_INNB_7']+train['SEND_SPG_INNB_8']+train['SEND_SPG_INNB_9']\n",
    "train['SEND_SPG_INNB_10']=train['SEND_SPG_INNB_10']\n",
    "train['SEND_SPG_INNB_11~16']=train['SEND_SPG_INNB_11']+train['SEND_SPG_INNB_12']+train['SEND_SPG_INNB_13']+train['SEND_SPG_INNB_14']+train['SEND_SPG_INNB_15']+train['SEND_SPG_INNB_16']\n",
    "\n",
    "test['SEND_SPG_INNB_1~5']=test['SEND_SPG_INNB_1']+test['SEND_SPG_INNB_2']+test['SEND_SPG_INNB_3']+test['SEND_SPG_INNB_4']+test['SEND_SPG_INNB_5']\n",
    "test['SEND_SPG_INNB_6~9']=test['SEND_SPG_INNB_6']+test['SEND_SPG_INNB_7']+test['SEND_SPG_INNB_8']+test['SEND_SPG_INNB_9']\n",
    "test['SEND_SPG_INNB_10']=test['SEND_SPG_INNB_10']\n",
    "test['SEND_SPG_INNB_11~16']=test['SEND_SPG_INNB_11']+test['SEND_SPG_INNB_12']+test['SEND_SPG_INNB_13']+test['SEND_SPG_INNB_14']+test['SEND_SPG_INNB_15']+test['SEND_SPG_INNB_16']\n"
   ]
  },
  {
   "cell_type": "code",
   "execution_count": null,
   "metadata": {
    "executionInfo": {
     "elapsed": 5,
     "status": "ok",
     "timestamp": 1640067313862,
     "user": {
      "displayName": "조경덕",
      "photoUrl": "https://lh3.googleusercontent.com/a/default-user=s64",
      "userId": "14679603036547633295"
     },
     "user_tz": -540
    },
    "id": "EZ7Hhu66roPP"
   },
   "outputs": [],
   "source": [
    "train.index=train['index']\n",
    "test.index=test['index']\n",
    "train.drop(['REC_SPG_INNB','SEND_SPG_INNB','SEND_SPG_INNB_1','SEND_SPG_INNB_2','SEND_SPG_INNB_3','SEND_SPG_INNB_4','SEND_SPG_INNB_5','SEND_SPG_INNB_6','SEND_SPG_INNB_7',\n",
    "            'SEND_SPG_INNB_8','SEND_SPG_INNB_9','SEND_SPG_INNB_11','SEND_SPG_INNB_12','SEND_SPG_INNB_13','SEND_SPG_INNB_14','SEND_SPG_INNB_15','SEND_SPG_INNB_16','index'],axis=1,inplace=True)\n",
    "test.drop(['REC_SPG_INNB','SEND_SPG_INNB','SEND_SPG_INNB_1','SEND_SPG_INNB_2','SEND_SPG_INNB_3','SEND_SPG_INNB_4','SEND_SPG_INNB_5','SEND_SPG_INNB_6','SEND_SPG_INNB_7',\n",
    "            'SEND_SPG_INNB_8','SEND_SPG_INNB_9','SEND_SPG_INNB_11','SEND_SPG_INNB_12','SEND_SPG_INNB_13','SEND_SPG_INNB_14','SEND_SPG_INNB_15','SEND_SPG_INNB_16','index'],axis=1,inplace=True)"
   ]
  },
  {
   "cell_type": "code",
   "execution_count": null,
   "metadata": {
    "executionInfo": {
     "elapsed": 542,
     "status": "ok",
     "timestamp": 1640067314400,
     "user": {
      "displayName": "조경덕",
      "photoUrl": "https://lh3.googleusercontent.com/a/default-user=s64",
      "userId": "14679603036547633295"
     },
     "user_tz": -540
    },
    "id": "xCzg8FuCxNZ5"
   },
   "outputs": [],
   "source": [
    "for col in test.columns:\n",
    "  train[col]=train[col].astype('category')\n",
    "  test[col]=test[col].astype('category')"
   ]
  },
  {
   "cell_type": "code",
   "execution_count": null,
   "metadata": {
    "executionInfo": {
     "elapsed": 18,
     "status": "ok",
     "timestamp": 1640067314401,
     "user": {
      "displayName": "조경덕",
      "photoUrl": "https://lh3.googleusercontent.com/a/default-user=s64",
      "userId": "14679603036547633295"
     },
     "user_tz": -540
    },
    "id": "cFczb9CAqy5X"
   },
   "outputs": [],
   "source": [
    "#Optuna용 Train셋\n",
    "X = train.drop(['INVC_CONT'],axis=1)\n",
    "y = train['INVC_CONT']\n",
    "X_test = test.copy()"
   ]
  },
  {
   "cell_type": "code",
   "execution_count": null,
   "metadata": {
    "colab": {
     "base_uri": "https://localhost:8080/",
     "height": 301
    },
    "executionInfo": {
     "elapsed": 19,
     "status": "ok",
     "timestamp": 1640067314402,
     "user": {
      "displayName": "조경덕",
      "photoUrl": "https://lh3.googleusercontent.com/a/default-user=s64",
      "userId": "14679603036547633295"
     },
     "user_tz": -540
    },
    "id": "eFETkSq5UnNH",
    "outputId": "2c949e62-e8b2-4749-bdca-983eb2c6b64e"
   },
   "outputs": [],
   "source": [
    "X.head()"
   ]
  },
  {
   "cell_type": "code",
   "execution_count": null,
   "metadata": {
    "colab": {
     "base_uri": "https://localhost:8080/"
    },
    "executionInfo": {
     "elapsed": 17,
     "status": "ok",
     "timestamp": 1640067314403,
     "user": {
      "displayName": "조경덕",
      "photoUrl": "https://lh3.googleusercontent.com/a/default-user=s64",
      "userId": "14679603036547633295"
     },
     "user_tz": -540
    },
    "id": "SoiqO6YFUn2f",
    "outputId": "c24c436d-685f-49fd-f4d1-d38b1f76bb7f"
   },
   "outputs": [],
   "source": [
    "y.head()"
   ]
  },
  {
   "cell_type": "code",
   "execution_count": null,
   "metadata": {
    "colab": {
     "base_uri": "https://localhost:8080/",
     "height": 301
    },
    "executionInfo": {
     "elapsed": 16,
     "status": "ok",
     "timestamp": 1640067314404,
     "user": {
      "displayName": "조경덕",
      "photoUrl": "https://lh3.googleusercontent.com/a/default-user=s64",
      "userId": "14679603036547633295"
     },
     "user_tz": -540
    },
    "id": "z-PY51VuUpBZ",
    "outputId": "ef75a6da-90c8-4aee-a3f5-545b880e026c"
   },
   "outputs": [],
   "source": [
    "X_test.head()"
   ]
  },
  {
   "cell_type": "code",
   "execution_count": null,
   "metadata": {
    "colab": {
     "base_uri": "https://localhost:8080/"
    },
    "executionInfo": {
     "elapsed": 16,
     "status": "ok",
     "timestamp": 1640067314405,
     "user": {
      "displayName": "조경덕",
      "photoUrl": "https://lh3.googleusercontent.com/a/default-user=s64",
      "userId": "14679603036547633295"
     },
     "user_tz": -540
    },
    "id": "ZVx2LsrKhI93",
    "outputId": "5aa1a71e-596b-44c3-d962-2b3981a5358d"
   },
   "outputs": [],
   "source": [
    "train.info()"
   ]
  },
  {
   "cell_type": "markdown",
   "metadata": {
    "id": "UCAuqJlZbZJw"
   },
   "source": [
    "## 3. 모델링"
   ]
  },
  {
   "cell_type": "markdown",
   "metadata": {
    "id": "mjnK6n0YbdMo"
   },
   "source": [
    "Optuna로 Random Search를 통해 Catboost 최적의 파라미터를 사용하였습니다.\n",
    "objective 함수의 param에 파라미터를 넣고, 구간을 넣으면 랜덤한 값으로 학습되며\n",
    "rmse값이 반환되는 함수입니다. \"trial\"에 반복 횟수를 작성하면 됩니다.\n",
    "\n",
    "Catboost 특성상 학습이 오래 걸리기 때문에 최적의 파라미터를 찾아 cat_param로 정의하였습니다.\n",
    "\n",
    "(아래코드는 AIBoo님의 신용카드 사용자 연체 예측 AI 경진대회 [Private 8위 0.66203] | TYKIM | Catboost 코드를 참고하여 수정하였습니다.)"
   ]
  },
  {
   "cell_type": "code",
   "execution_count": null,
   "metadata": {
    "executionInfo": {
     "elapsed": 13,
     "status": "ok",
     "timestamp": 1640067314405,
     "user": {
      "displayName": "조경덕",
      "photoUrl": "https://lh3.googleusercontent.com/a/default-user=s64",
      "userId": "14679603036547633295"
     },
     "user_tz": -540
    },
    "id": "RyZ8xXe2sYdb"
   },
   "outputs": [],
   "source": [
    "# def objective(trial):\n",
    "#   param = {\n",
    "#       \"random_state\":42,\n",
    "#       'learning_rate' : trial.suggest_loguniform('learning_rate', 0.01, 0.05),\n",
    "#       'bagging_temperature' :trial.suggest_loguniform('bagging_temperature', 0.01, 100.00),\n",
    "#       \"n_estimators\":trial.suggest_int(\"n_estimators\", 500, 5000),\n",
    "#       \"max_depth\":trial.suggest_int(\"max_depth\", 4, 16),\n",
    "#       'random_strength' :trial.suggest_int('random_strength', 0, 100),\n",
    "#       \"colsample_bylevel\":trial.suggest_float(\"colsample_bylevel\", 0.4, 1.0),\n",
    "#       \"l2_leaf_reg\":trial.suggest_float(\"l2_leaf_reg\",1e-8,3e-5),\n",
    "#       \"min_child_samples\": trial.suggest_int(\"min_child_samples\", 5, 100),\n",
    "#       \"max_bin\": trial.suggest_int(\"max_bin\", 200, 500),\n",
    "#       'od_type': trial.suggest_categorical('od_type', ['IncToDec', 'Iter']),\n",
    "#   }\n",
    "#   X_train, X_valid, y_train, y_valid = train_test_split(X,y,test_size=0.2)\n",
    "#   cat_features = range(X_test.shape[1])\n",
    "#   cat = CatBoostRegressor(**param)\n",
    "#   cat.fit(X_train, y_train,\n",
    "#           eval_set=[(X_train, y_train), (X_valid,y_valid)],\n",
    "#           early_stopping_rounds=35,cat_features=cat_features,\n",
    "#           verbose=100)\n",
    "#   cat_pred = cat.predict(X_valid)\n",
    "#   rmse = np.sqrt(mean_squared_error(y_valid, cat_pred))\n",
    "\n",
    "#   return rmse"
   ]
  },
  {
   "cell_type": "code",
   "execution_count": null,
   "metadata": {
    "executionInfo": {
     "elapsed": 15,
     "status": "ok",
     "timestamp": 1640067314407,
     "user": {
      "displayName": "조경덕",
      "photoUrl": "https://lh3.googleusercontent.com/a/default-user=s64",
      "userId": "14679603036547633295"
     },
     "user_tz": -540
    },
    "id": "pOmw72046PZg"
   },
   "outputs": [],
   "source": [
    "# sampler = TPESampler(seed=42)\n",
    "# study = optuna.create_study(\n",
    "#     study_name = 'cat_parameter_opt',\n",
    "#     direction = 'minimize',\n",
    "#     sampler = sampler,\n",
    "# )\n",
    "\n",
    "# study.optimize(objective, n_trials=10)\n",
    "# print(\"Best Score:\",study.best_value)\n",
    "# print(\"Best trial\",study.best_trial.params)"
   ]
  },
  {
   "cell_type": "code",
   "execution_count": null,
   "metadata": {
    "executionInfo": {
     "elapsed": 266,
     "status": "ok",
     "timestamp": 1640067314659,
     "user": {
      "displayName": "조경덕",
      "photoUrl": "https://lh3.googleusercontent.com/a/default-user=s64",
      "userId": "14679603036547633295"
     },
     "user_tz": -540
    },
    "id": "cnsES_K6JOPF"
   },
   "outputs": [],
   "source": [
    "cat_param={'learning_rate': 0.018272261776066247, \n",
    "           'bagging_temperature': 63.512210106407046, \n",
    "           'n_estimators': 3794, \n",
    "           'max_depth': 11, \n",
    "           'random_strength': 15, \n",
    "           'colsample_bylevel': 0.49359671220172163, \n",
    "           'l2_leaf_reg': 1.7519275289243016e-06, \n",
    "           'min_child_samples': 88, \n",
    "           'max_bin': 380, \n",
    "           'od_type': 'IncToDec'\n",
    "           }\n"
   ]
  },
  {
   "cell_type": "code",
   "execution_count": null,
   "metadata": {
    "colab": {
     "base_uri": "https://localhost:8080/"
    },
    "executionInfo": {
     "elapsed": 7,
     "status": "ok",
     "timestamp": 1640067314659,
     "user": {
      "displayName": "조경덕",
      "photoUrl": "https://lh3.googleusercontent.com/a/default-user=s64",
      "userId": "14679603036547633295"
     },
     "user_tz": -540
    },
    "id": "IfZZRGUNJEP4",
    "outputId": "8bca3582-a493-44d7-8603-d06c63e8e650"
   },
   "outputs": [],
   "source": [
    "skf = StratifiedKFold(n_splits=10, shuffle=True, random_state=42)\n",
    "folds = []\n",
    "for train_idx, valid_idx in skf.split(train, train['INVC_CONT']):\n",
    "  folds.append((train_idx,valid_idx))"
   ]
  },
  {
   "cell_type": "markdown",
   "metadata": {
    "id": "wPQJcXImcalP"
   },
   "source": [
    "train 데이터를 K-Fold 하여 각 Fold의 학습 값을 가지고 test 예측값을 구한 후\n",
    "평균을 구하였습니다."
   ]
  },
  {
   "cell_type": "code",
   "execution_count": null,
   "metadata": {
    "colab": {
     "base_uri": "https://localhost:8080/"
    },
    "executionInfo": {
     "elapsed": 1725559,
     "status": "ok",
     "timestamp": 1640069040214,
     "user": {
      "displayName": "조경덕",
      "photoUrl": "https://lh3.googleusercontent.com/a/default-user=s64",
      "userId": "14679603036547633295"
     },
     "user_tz": -540
    },
    "id": "AbQtP_perdqS",
    "outputId": "64697910-f5c3-46f2-9f48-7713a20aae50"
   },
   "outputs": [],
   "source": [
    "skf = StratifiedKFold(n_splits=10, shuffle=True, random_state=42)\n",
    "folds = []\n",
    "for train_idx, valid_idx in skf.split(train, train['INVC_CONT']):\n",
    "  folds.append((train_idx,valid_idx))\n",
    "\n",
    "random.seed(42)\n",
    "cat_models={}\n",
    "\n",
    "cat_features =range(X_test.shape[1])\n",
    "\n",
    "for fold in range(10):\n",
    "  print(f'===================================={fold+1}============================================')\n",
    "  train_idx, valid_idx = folds[fold]\n",
    "  X_train = train.drop(['INVC_CONT'],axis=1).iloc[train_idx]\n",
    "  X_valid = train.drop(['INVC_CONT'],axis=1).iloc[valid_idx]\n",
    "  y_train = train['INVC_CONT'][train_idx].values\n",
    "  y_valid = train['INVC_CONT'][valid_idx].values\n",
    "\n",
    "  cat = CatBoostRegressor(**cat_param)\n",
    "  cat.fit(X_train, y_train,\n",
    "          eval_set=[(X_train, y_train), (X_valid,y_valid)],\n",
    "          early_stopping_rounds=35,cat_features=cat_features,\n",
    "          verbose=100)\n",
    "  cat_models[fold] = cat\n",
    "  print(f'================================================================================\\n\\n')"
   ]
  },
  {
   "cell_type": "code",
   "execution_count": null,
   "metadata": {
    "executionInfo": {
     "elapsed": 1012,
     "status": "ok",
     "timestamp": 1640069041212,
     "user": {
      "displayName": "조경덕",
      "photoUrl": "https://lh3.googleusercontent.com/a/default-user=s64",
      "userId": "14679603036547633295"
     },
     "user_tz": -540
    },
    "id": "rEHfo474Vx7I"
   },
   "outputs": [],
   "source": [
    "submission.loc[:,'INVC_CONT']=0\n",
    "for fold in range(10):\n",
    "  submission.loc[:,'INVC_CONT'] += cat_models[fold].predict(test)/10"
   ]
  },
  {
   "cell_type": "markdown",
   "metadata": {
    "id": "UWNZkNazc-l4"
   },
   "source": [
    "train을 K-fold한 값의 평균을 구하다 보니 예측값의 극단값이 작아질 수 밖에 없습니다.\n",
    "\n",
    "따라서 INVC_CONT가 30 이상인 값에 적당한 값을 곱하여서 조정하였습니다."
   ]
  },
  {
   "cell_type": "code",
   "execution_count": null,
   "metadata": {
    "executionInfo": {
     "elapsed": 7,
     "status": "ok",
     "timestamp": 1640069041214,
     "user": {
      "displayName": "조경덕",
      "photoUrl": "https://lh3.googleusercontent.com/a/default-user=s64",
      "userId": "14679603036547633295"
     },
     "user_tz": -540
    },
    "id": "oLT2Czv6V0ia"
   },
   "outputs": [],
   "source": [
    "submission.loc[submission.INVC_CONT>30,'INVC_CONT']=submission.loc[submission.INVC_CONT>30,'INVC_CONT']*4.8\n",
    "submission.to_csv('/data/submission/마지막 확인용.csv',index = False)"
   ]
  }
 ],
 "metadata": {
  "colab": {
   "authorship_tag": "ABX9TyNkAUVk7q1lGnTHg/aelxpN",
   "collapsed_sections": [],
   "name": "Logistics distribution forecasting contest.ipynb",
   "provenance": []
  },
  "kernelspec": {
   "display_name": "Python 3 (ipykernel)",
   "language": "python",
   "name": "python3"
  },
  "language_info": {
   "codemirror_mode": {
    "name": "ipython",
    "version": 3
   },
   "file_extension": ".py",
   "mimetype": "text/x-python",
   "name": "python",
   "nbconvert_exporter": "python",
   "pygments_lexer": "ipython3",
   "version": "3.8.12"
  }
 },
 "nbformat": 4,
 "nbformat_minor": 1
}
