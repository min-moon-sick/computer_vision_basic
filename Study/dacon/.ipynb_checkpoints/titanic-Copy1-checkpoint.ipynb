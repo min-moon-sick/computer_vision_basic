{
 "cells": [
  {
   "cell_type": "markdown",
   "id": "d0fe3ac4",
   "metadata": {},
   "source": [
    "https://dacon.io/competitions/open/235539/overview/description\n",
    "\n",
    "타이타닉은 역사상 가장 유명한 난파선 중 하나입니다.\n",
    "\n",
    "1912년 4월 15일, 타이타닉은 항해중 빙산과의 충돌로 인해 침몰합니다. 탑승인원 2224명 중 1502명이 사망한 비극적인 사건이었고, 선박의 안전규정을 개선시키는 계기가 되었습니다.\n",
    "\n",
    "이 과제에서는 여러분은 어떤 종류의 사람들이 많이 살아남았는지에 대한 분석을 해야 합니다.\n",
    "그리고 머신러닝을 이용해 어떤 승객이 생존했을지 예측해보세요. \n",
    "\n",
    "1. train.csv / test.csv : 타이타닉 탑승자들 중 일부의 인적 정보와 생존 여부 데이터\n",
    "PassengerID : 탑승객 고유 아이디\n",
    "Survival : 탑승객 생존 유무 (0: 사망, 1: 생존)\n",
    "Pclass : 등실의 등급\n",
    "Name : 이름\n",
    "Sex : 성별\n",
    "Age : 나이\n",
    "Sibsp : 함께 탐승한 형제자매, 아내, 남편의 수\n",
    "Parch : 함께 탐승한 부모, 자식의 수\n",
    "Ticket :티켓 번호\n",
    "Fare : 티켓의 요금\n",
    "Cabin : 객실번호\n",
    "Embarked : 배에 탑승한 항구 이름 ( C = Cherbourn, Q = Queenstown, S = Southampton)\n",
    "\n",
    "2. sample_submission.csv : 정답 파일의 예시"
   ]
  },
  {
   "cell_type": "code",
   "execution_count": 84,
   "id": "f891cdb8",
   "metadata": {},
   "outputs": [],
   "source": [
    "import numpy as np\n",
    "import pandas as pd\n",
    "\n",
    "import matplotlib.pyplot as plt\n",
    "import seaborn as sns\n",
    "\n",
    "from sklearn.preprocessing import LabelEncoder\n",
    "\n",
    "import tensorflow as tf\n",
    "from sklearn.model_selection import GridSearchCV\n",
    "from sklearn.model_selection import StratifiedKFold\n",
    "from sklearn.model_selection import train_test_split\n",
    "from sklearn.model_selection import cross_validate\n",
    "\n",
    "from sklearn.linear_model    import LogisticRegression\n",
    "from sklearn.linear_model    import SGDClassifier\n",
    "from sklearn.metrics         import mean_squared_error\n",
    "\n",
    "from tensorflow.keras.models import Sequential\n",
    "from tensorflow.keras.layers import Dense\n",
    "from tensorflow.keras import optimizers"
   ]
  },
  {
   "cell_type": "code",
   "execution_count": 2,
   "id": "57fac221",
   "metadata": {},
   "outputs": [],
   "source": [
    "path = './dataset/타이타닉/'"
   ]
  },
  {
   "cell_type": "code",
   "execution_count": 3,
   "id": "b277ce76",
   "metadata": {},
   "outputs": [],
   "source": [
    "df_train = pd.read_csv(path + 'train.csv')\n",
    "df_test = pd.read_csv(path + 'test.csv')\n",
    "df_submission = pd.read_csv(path + 'submission.csv')"
   ]
  },
  {
   "cell_type": "code",
   "execution_count": 4,
   "id": "03c0d4ae",
   "metadata": {},
   "outputs": [
    {
     "data": {
      "text/html": [
       "<div>\n",
       "<style scoped>\n",
       "    .dataframe tbody tr th:only-of-type {\n",
       "        vertical-align: middle;\n",
       "    }\n",
       "\n",
       "    .dataframe tbody tr th {\n",
       "        vertical-align: top;\n",
       "    }\n",
       "\n",
       "    .dataframe thead th {\n",
       "        text-align: right;\n",
       "    }\n",
       "</style>\n",
       "<table border=\"1\" class=\"dataframe\">\n",
       "  <thead>\n",
       "    <tr style=\"text-align: right;\">\n",
       "      <th></th>\n",
       "      <th>PassengerId</th>\n",
       "      <th>Survived</th>\n",
       "      <th>Pclass</th>\n",
       "      <th>Name</th>\n",
       "      <th>Sex</th>\n",
       "      <th>Age</th>\n",
       "      <th>SibSp</th>\n",
       "      <th>Parch</th>\n",
       "      <th>Ticket</th>\n",
       "      <th>Fare</th>\n",
       "      <th>Cabin</th>\n",
       "      <th>Embarked</th>\n",
       "    </tr>\n",
       "  </thead>\n",
       "  <tbody>\n",
       "    <tr>\n",
       "      <th>0</th>\n",
       "      <td>1</td>\n",
       "      <td>0</td>\n",
       "      <td>3</td>\n",
       "      <td>Braund, Mr. Owen Harris</td>\n",
       "      <td>male</td>\n",
       "      <td>22.0</td>\n",
       "      <td>1</td>\n",
       "      <td>0</td>\n",
       "      <td>A/5 21171</td>\n",
       "      <td>7.2500</td>\n",
       "      <td>NaN</td>\n",
       "      <td>S</td>\n",
       "    </tr>\n",
       "    <tr>\n",
       "      <th>1</th>\n",
       "      <td>2</td>\n",
       "      <td>1</td>\n",
       "      <td>1</td>\n",
       "      <td>Cumings, Mrs. John Bradley (Florence Briggs Th...</td>\n",
       "      <td>female</td>\n",
       "      <td>38.0</td>\n",
       "      <td>1</td>\n",
       "      <td>0</td>\n",
       "      <td>PC 17599</td>\n",
       "      <td>71.2833</td>\n",
       "      <td>C85</td>\n",
       "      <td>C</td>\n",
       "    </tr>\n",
       "    <tr>\n",
       "      <th>2</th>\n",
       "      <td>3</td>\n",
       "      <td>1</td>\n",
       "      <td>3</td>\n",
       "      <td>Heikkinen, Miss. Laina</td>\n",
       "      <td>female</td>\n",
       "      <td>26.0</td>\n",
       "      <td>0</td>\n",
       "      <td>0</td>\n",
       "      <td>STON/O2. 3101282</td>\n",
       "      <td>7.9250</td>\n",
       "      <td>NaN</td>\n",
       "      <td>S</td>\n",
       "    </tr>\n",
       "    <tr>\n",
       "      <th>3</th>\n",
       "      <td>4</td>\n",
       "      <td>1</td>\n",
       "      <td>1</td>\n",
       "      <td>Futrelle, Mrs. Jacques Heath (Lily May Peel)</td>\n",
       "      <td>female</td>\n",
       "      <td>35.0</td>\n",
       "      <td>1</td>\n",
       "      <td>0</td>\n",
       "      <td>113803</td>\n",
       "      <td>53.1000</td>\n",
       "      <td>C123</td>\n",
       "      <td>S</td>\n",
       "    </tr>\n",
       "    <tr>\n",
       "      <th>4</th>\n",
       "      <td>5</td>\n",
       "      <td>0</td>\n",
       "      <td>3</td>\n",
       "      <td>Allen, Mr. William Henry</td>\n",
       "      <td>male</td>\n",
       "      <td>35.0</td>\n",
       "      <td>0</td>\n",
       "      <td>0</td>\n",
       "      <td>373450</td>\n",
       "      <td>8.0500</td>\n",
       "      <td>NaN</td>\n",
       "      <td>S</td>\n",
       "    </tr>\n",
       "  </tbody>\n",
       "</table>\n",
       "</div>"
      ],
      "text/plain": [
       "   PassengerId  Survived  Pclass  \\\n",
       "0            1         0       3   \n",
       "1            2         1       1   \n",
       "2            3         1       3   \n",
       "3            4         1       1   \n",
       "4            5         0       3   \n",
       "\n",
       "                                                Name     Sex   Age  SibSp  \\\n",
       "0                            Braund, Mr. Owen Harris    male  22.0      1   \n",
       "1  Cumings, Mrs. John Bradley (Florence Briggs Th...  female  38.0      1   \n",
       "2                             Heikkinen, Miss. Laina  female  26.0      0   \n",
       "3       Futrelle, Mrs. Jacques Heath (Lily May Peel)  female  35.0      1   \n",
       "4                           Allen, Mr. William Henry    male  35.0      0   \n",
       "\n",
       "   Parch            Ticket     Fare Cabin Embarked  \n",
       "0      0         A/5 21171   7.2500   NaN        S  \n",
       "1      0          PC 17599  71.2833   C85        C  \n",
       "2      0  STON/O2. 3101282   7.9250   NaN        S  \n",
       "3      0            113803  53.1000  C123        S  \n",
       "4      0            373450   8.0500   NaN        S  "
      ]
     },
     "execution_count": 4,
     "metadata": {},
     "output_type": "execute_result"
    }
   ],
   "source": [
    "df_train.head()"
   ]
  },
  {
   "cell_type": "code",
   "execution_count": 5,
   "id": "d50f68b6",
   "metadata": {},
   "outputs": [
    {
     "data": {
      "text/html": [
       "<div>\n",
       "<style scoped>\n",
       "    .dataframe tbody tr th:only-of-type {\n",
       "        vertical-align: middle;\n",
       "    }\n",
       "\n",
       "    .dataframe tbody tr th {\n",
       "        vertical-align: top;\n",
       "    }\n",
       "\n",
       "    .dataframe thead th {\n",
       "        text-align: right;\n",
       "    }\n",
       "</style>\n",
       "<table border=\"1\" class=\"dataframe\">\n",
       "  <thead>\n",
       "    <tr style=\"text-align: right;\">\n",
       "      <th></th>\n",
       "      <th>PassengerId</th>\n",
       "      <th>Pclass</th>\n",
       "      <th>Name</th>\n",
       "      <th>Sex</th>\n",
       "      <th>Age</th>\n",
       "      <th>SibSp</th>\n",
       "      <th>Parch</th>\n",
       "      <th>Ticket</th>\n",
       "      <th>Fare</th>\n",
       "      <th>Cabin</th>\n",
       "      <th>Embarked</th>\n",
       "    </tr>\n",
       "  </thead>\n",
       "  <tbody>\n",
       "    <tr>\n",
       "      <th>0</th>\n",
       "      <td>892</td>\n",
       "      <td>3</td>\n",
       "      <td>Kelly, Mr. James</td>\n",
       "      <td>male</td>\n",
       "      <td>34.5</td>\n",
       "      <td>0</td>\n",
       "      <td>0</td>\n",
       "      <td>330911</td>\n",
       "      <td>7.8292</td>\n",
       "      <td>NaN</td>\n",
       "      <td>Q</td>\n",
       "    </tr>\n",
       "    <tr>\n",
       "      <th>1</th>\n",
       "      <td>893</td>\n",
       "      <td>3</td>\n",
       "      <td>Wilkes, Mrs. James (Ellen Needs)</td>\n",
       "      <td>female</td>\n",
       "      <td>47.0</td>\n",
       "      <td>1</td>\n",
       "      <td>0</td>\n",
       "      <td>363272</td>\n",
       "      <td>7.0000</td>\n",
       "      <td>NaN</td>\n",
       "      <td>S</td>\n",
       "    </tr>\n",
       "    <tr>\n",
       "      <th>2</th>\n",
       "      <td>894</td>\n",
       "      <td>2</td>\n",
       "      <td>Myles, Mr. Thomas Francis</td>\n",
       "      <td>male</td>\n",
       "      <td>62.0</td>\n",
       "      <td>0</td>\n",
       "      <td>0</td>\n",
       "      <td>240276</td>\n",
       "      <td>9.6875</td>\n",
       "      <td>NaN</td>\n",
       "      <td>Q</td>\n",
       "    </tr>\n",
       "    <tr>\n",
       "      <th>3</th>\n",
       "      <td>895</td>\n",
       "      <td>3</td>\n",
       "      <td>Wirz, Mr. Albert</td>\n",
       "      <td>male</td>\n",
       "      <td>27.0</td>\n",
       "      <td>0</td>\n",
       "      <td>0</td>\n",
       "      <td>315154</td>\n",
       "      <td>8.6625</td>\n",
       "      <td>NaN</td>\n",
       "      <td>S</td>\n",
       "    </tr>\n",
       "    <tr>\n",
       "      <th>4</th>\n",
       "      <td>896</td>\n",
       "      <td>3</td>\n",
       "      <td>Hirvonen, Mrs. Alexander (Helga E Lindqvist)</td>\n",
       "      <td>female</td>\n",
       "      <td>22.0</td>\n",
       "      <td>1</td>\n",
       "      <td>1</td>\n",
       "      <td>3101298</td>\n",
       "      <td>12.2875</td>\n",
       "      <td>NaN</td>\n",
       "      <td>S</td>\n",
       "    </tr>\n",
       "  </tbody>\n",
       "</table>\n",
       "</div>"
      ],
      "text/plain": [
       "   PassengerId  Pclass                                          Name     Sex  \\\n",
       "0          892       3                              Kelly, Mr. James    male   \n",
       "1          893       3              Wilkes, Mrs. James (Ellen Needs)  female   \n",
       "2          894       2                     Myles, Mr. Thomas Francis    male   \n",
       "3          895       3                              Wirz, Mr. Albert    male   \n",
       "4          896       3  Hirvonen, Mrs. Alexander (Helga E Lindqvist)  female   \n",
       "\n",
       "    Age  SibSp  Parch   Ticket     Fare Cabin Embarked  \n",
       "0  34.5      0      0   330911   7.8292   NaN        Q  \n",
       "1  47.0      1      0   363272   7.0000   NaN        S  \n",
       "2  62.0      0      0   240276   9.6875   NaN        Q  \n",
       "3  27.0      0      0   315154   8.6625   NaN        S  \n",
       "4  22.0      1      1  3101298  12.2875   NaN        S  "
      ]
     },
     "execution_count": 5,
     "metadata": {},
     "output_type": "execute_result"
    }
   ],
   "source": [
    "df_test.head()"
   ]
  },
  {
   "cell_type": "code",
   "execution_count": 6,
   "id": "9c18a7e2",
   "metadata": {},
   "outputs": [
    {
     "data": {
      "text/html": [
       "<div>\n",
       "<style scoped>\n",
       "    .dataframe tbody tr th:only-of-type {\n",
       "        vertical-align: middle;\n",
       "    }\n",
       "\n",
       "    .dataframe tbody tr th {\n",
       "        vertical-align: top;\n",
       "    }\n",
       "\n",
       "    .dataframe thead th {\n",
       "        text-align: right;\n",
       "    }\n",
       "</style>\n",
       "<table border=\"1\" class=\"dataframe\">\n",
       "  <thead>\n",
       "    <tr style=\"text-align: right;\">\n",
       "      <th></th>\n",
       "      <th>PassengerId</th>\n",
       "      <th>Survived</th>\n",
       "    </tr>\n",
       "  </thead>\n",
       "  <tbody>\n",
       "    <tr>\n",
       "      <th>0</th>\n",
       "      <td>892</td>\n",
       "      <td>0</td>\n",
       "    </tr>\n",
       "    <tr>\n",
       "      <th>1</th>\n",
       "      <td>893</td>\n",
       "      <td>1</td>\n",
       "    </tr>\n",
       "    <tr>\n",
       "      <th>2</th>\n",
       "      <td>894</td>\n",
       "      <td>0</td>\n",
       "    </tr>\n",
       "    <tr>\n",
       "      <th>3</th>\n",
       "      <td>895</td>\n",
       "      <td>0</td>\n",
       "    </tr>\n",
       "    <tr>\n",
       "      <th>4</th>\n",
       "      <td>896</td>\n",
       "      <td>1</td>\n",
       "    </tr>\n",
       "  </tbody>\n",
       "</table>\n",
       "</div>"
      ],
      "text/plain": [
       "   PassengerId  Survived\n",
       "0          892         0\n",
       "1          893         1\n",
       "2          894         0\n",
       "3          895         0\n",
       "4          896         1"
      ]
     },
     "execution_count": 6,
     "metadata": {},
     "output_type": "execute_result"
    }
   ],
   "source": [
    "df_submission.head()"
   ]
  },
  {
   "cell_type": "markdown",
   "id": "6e494749",
   "metadata": {},
   "source": [
    "## Data preprocessing"
   ]
  },
  {
   "cell_type": "code",
   "execution_count": 7,
   "id": "05551373",
   "metadata": {},
   "outputs": [
    {
     "name": "stdout",
     "output_type": "stream",
     "text": [
      "<class 'pandas.core.frame.DataFrame'>\n",
      "RangeIndex: 891 entries, 0 to 890\n",
      "Data columns (total 12 columns):\n",
      " #   Column       Non-Null Count  Dtype  \n",
      "---  ------       --------------  -----  \n",
      " 0   PassengerId  891 non-null    int64  \n",
      " 1   Survived     891 non-null    int64  \n",
      " 2   Pclass       891 non-null    int64  \n",
      " 3   Name         891 non-null    object \n",
      " 4   Sex          891 non-null    object \n",
      " 5   Age          714 non-null    float64\n",
      " 6   SibSp        891 non-null    int64  \n",
      " 7   Parch        891 non-null    int64  \n",
      " 8   Ticket       891 non-null    object \n",
      " 9   Fare         891 non-null    float64\n",
      " 10  Cabin        204 non-null    object \n",
      " 11  Embarked     889 non-null    object \n",
      "dtypes: float64(2), int64(5), object(5)\n",
      "memory usage: 83.7+ KB\n"
     ]
    }
   ],
   "source": [
    "df_train.info()"
   ]
  },
  {
   "cell_type": "code",
   "execution_count": 8,
   "id": "aa329029",
   "metadata": {},
   "outputs": [
    {
     "name": "stdout",
     "output_type": "stream",
     "text": [
      "<class 'pandas.core.frame.DataFrame'>\n",
      "RangeIndex: 418 entries, 0 to 417\n",
      "Data columns (total 11 columns):\n",
      " #   Column       Non-Null Count  Dtype  \n",
      "---  ------       --------------  -----  \n",
      " 0   PassengerId  418 non-null    int64  \n",
      " 1   Pclass       418 non-null    int64  \n",
      " 2   Name         418 non-null    object \n",
      " 3   Sex          418 non-null    object \n",
      " 4   Age          332 non-null    float64\n",
      " 5   SibSp        418 non-null    int64  \n",
      " 6   Parch        418 non-null    int64  \n",
      " 7   Ticket       418 non-null    object \n",
      " 8   Fare         417 non-null    float64\n",
      " 9   Cabin        91 non-null     object \n",
      " 10  Embarked     418 non-null    object \n",
      "dtypes: float64(2), int64(4), object(5)\n",
      "memory usage: 36.0+ KB\n"
     ]
    }
   ],
   "source": [
    "df_test.info()"
   ]
  },
  {
   "cell_type": "markdown",
   "id": "dec35ed5",
   "metadata": {},
   "source": [
    "### - 상관성이 없다고 판단되는 Name과 결측값이 많은 Cabin 제거"
   ]
  },
  {
   "cell_type": "code",
   "execution_count": 9,
   "id": "2a5ab689",
   "metadata": {},
   "outputs": [],
   "source": [
    "df_train.drop(columns=['Name', 'Cabin'], inplace= True)\n",
    "df_test.drop(columns=['Name', 'Cabin'], inplace= True)"
   ]
  },
  {
   "cell_type": "code",
   "execution_count": 10,
   "id": "42447bfb",
   "metadata": {},
   "outputs": [
    {
     "name": "stdout",
     "output_type": "stream",
     "text": [
      "<class 'pandas.core.frame.DataFrame'>\n",
      "RangeIndex: 891 entries, 0 to 890\n",
      "Data columns (total 10 columns):\n",
      " #   Column       Non-Null Count  Dtype  \n",
      "---  ------       --------------  -----  \n",
      " 0   PassengerId  891 non-null    int64  \n",
      " 1   Survived     891 non-null    int64  \n",
      " 2   Pclass       891 non-null    int64  \n",
      " 3   Sex          891 non-null    object \n",
      " 4   Age          714 non-null    float64\n",
      " 5   SibSp        891 non-null    int64  \n",
      " 6   Parch        891 non-null    int64  \n",
      " 7   Ticket       891 non-null    object \n",
      " 8   Fare         891 non-null    float64\n",
      " 9   Embarked     889 non-null    object \n",
      "dtypes: float64(2), int64(5), object(3)\n",
      "memory usage: 69.7+ KB\n"
     ]
    }
   ],
   "source": [
    "df_train.info()"
   ]
  },
  {
   "cell_type": "markdown",
   "id": "2940fdf4",
   "metadata": {},
   "source": [
    "### - Nan 데이터 행 단위로 삭제"
   ]
  },
  {
   "cell_type": "code",
   "execution_count": 11,
   "id": "dc5d7b70",
   "metadata": {},
   "outputs": [],
   "source": [
    "df_train.dropna(axis=0, how='any', inplace=True)\n",
    "df_test.dropna(axis=0, how='any', inplace=True)"
   ]
  },
  {
   "cell_type": "code",
   "execution_count": 12,
   "id": "522c4122",
   "metadata": {},
   "outputs": [
    {
     "name": "stdout",
     "output_type": "stream",
     "text": [
      "<class 'pandas.core.frame.DataFrame'>\n",
      "Int64Index: 712 entries, 0 to 890\n",
      "Data columns (total 10 columns):\n",
      " #   Column       Non-Null Count  Dtype  \n",
      "---  ------       --------------  -----  \n",
      " 0   PassengerId  712 non-null    int64  \n",
      " 1   Survived     712 non-null    int64  \n",
      " 2   Pclass       712 non-null    int64  \n",
      " 3   Sex          712 non-null    object \n",
      " 4   Age          712 non-null    float64\n",
      " 5   SibSp        712 non-null    int64  \n",
      " 6   Parch        712 non-null    int64  \n",
      " 7   Ticket       712 non-null    object \n",
      " 8   Fare         712 non-null    float64\n",
      " 9   Embarked     712 non-null    object \n",
      "dtypes: float64(2), int64(5), object(3)\n",
      "memory usage: 61.2+ KB\n"
     ]
    }
   ],
   "source": [
    "df_train.info()"
   ]
  },
  {
   "cell_type": "markdown",
   "id": "b6de6f0e",
   "metadata": {},
   "source": [
    "### - Ticket 데이터 형변환"
   ]
  },
  {
   "cell_type": "code",
   "execution_count": 13,
   "id": "49a6c471",
   "metadata": {},
   "outputs": [],
   "source": [
    "df_train['Ticket'] = [i.split()[-1] for i in list(df_train['Ticket'])]\n",
    "df_test['Ticket'] = [i.split()[-1] for i in list(df_test['Ticket'])]"
   ]
  },
  {
   "cell_type": "code",
   "execution_count": 14,
   "id": "d7934e94",
   "metadata": {},
   "outputs": [],
   "source": [
    "df_train = df_train[(df_train['Ticket'] != 'LINE')]"
   ]
  },
  {
   "cell_type": "code",
   "execution_count": 15,
   "id": "c1dee1d8",
   "metadata": {},
   "outputs": [],
   "source": [
    "df_train['Ticket'] = df_train['Ticket'].astype('int64')\n",
    "df_test['Ticket'] = df_test['Ticket'].astype('int64')"
   ]
  },
  {
   "cell_type": "code",
   "execution_count": 16,
   "id": "9dccf9aa",
   "metadata": {},
   "outputs": [
    {
     "name": "stdout",
     "output_type": "stream",
     "text": [
      "<class 'pandas.core.frame.DataFrame'>\n",
      "Int64Index: 708 entries, 0 to 890\n",
      "Data columns (total 10 columns):\n",
      " #   Column       Non-Null Count  Dtype  \n",
      "---  ------       --------------  -----  \n",
      " 0   PassengerId  708 non-null    int64  \n",
      " 1   Survived     708 non-null    int64  \n",
      " 2   Pclass       708 non-null    int64  \n",
      " 3   Sex          708 non-null    object \n",
      " 4   Age          708 non-null    float64\n",
      " 5   SibSp        708 non-null    int64  \n",
      " 6   Parch        708 non-null    int64  \n",
      " 7   Ticket       708 non-null    int64  \n",
      " 8   Fare         708 non-null    float64\n",
      " 9   Embarked     708 non-null    object \n",
      "dtypes: float64(2), int64(6), object(2)\n",
      "memory usage: 60.8+ KB\n"
     ]
    }
   ],
   "source": [
    "df_train.info()"
   ]
  },
  {
   "cell_type": "markdown",
   "id": "988daf28",
   "metadata": {},
   "source": [
    "### - 레이블 인코딩 처리(Sex, Embarked)"
   ]
  },
  {
   "cell_type": "code",
   "execution_count": 17,
   "id": "cc0b4ec3",
   "metadata": {},
   "outputs": [],
   "source": [
    "df_train['Sex'] = np.where(df_train['Sex'] == 'male', 1 , 0)\n",
    "df_test['Sex'] = np.where(df_test['Sex'] == 'male', 1 , 0)"
   ]
  },
  {
   "cell_type": "code",
   "execution_count": 18,
   "id": "8a79c909",
   "metadata": {},
   "outputs": [],
   "source": [
    "le = LabelEncoder()\n",
    "\n",
    "le.fit(df_train['Embarked'])\n",
    "\n",
    "df_train['Embarked'] = le.transform(df_train['Embarked'])\n",
    "df_test['Embarked'] = le.transform(df_test['Embarked'])"
   ]
  },
  {
   "cell_type": "markdown",
   "id": "d93387bd",
   "metadata": {},
   "source": [
    "### - 상관 계수 확인"
   ]
  },
  {
   "cell_type": "code",
   "execution_count": 28,
   "id": "979a1808",
   "metadata": {},
   "outputs": [
    {
     "data": {
      "text/html": [
       "<div>\n",
       "<style scoped>\n",
       "    .dataframe tbody tr th:only-of-type {\n",
       "        vertical-align: middle;\n",
       "    }\n",
       "\n",
       "    .dataframe tbody tr th {\n",
       "        vertical-align: top;\n",
       "    }\n",
       "\n",
       "    .dataframe thead th {\n",
       "        text-align: right;\n",
       "    }\n",
       "</style>\n",
       "<table border=\"1\" class=\"dataframe\">\n",
       "  <thead>\n",
       "    <tr style=\"text-align: right;\">\n",
       "      <th></th>\n",
       "      <th>PassengerId</th>\n",
       "      <th>Survived</th>\n",
       "      <th>Pclass</th>\n",
       "      <th>Sex</th>\n",
       "      <th>Age</th>\n",
       "      <th>SibSp</th>\n",
       "      <th>Parch</th>\n",
       "      <th>Ticket</th>\n",
       "      <th>Fare</th>\n",
       "      <th>Embarked</th>\n",
       "    </tr>\n",
       "  </thead>\n",
       "  <tbody>\n",
       "    <tr>\n",
       "      <th>PassengerId</th>\n",
       "      <td>1.000000</td>\n",
       "      <td>0.029619</td>\n",
       "      <td>-0.033548</td>\n",
       "      <td>0.026582</td>\n",
       "      <td>0.032460</td>\n",
       "      <td>-0.084239</td>\n",
       "      <td>-0.012923</td>\n",
       "      <td>-0.029173</td>\n",
       "      <td>0.008102</td>\n",
       "      <td>-0.000585</td>\n",
       "    </tr>\n",
       "    <tr>\n",
       "      <th>Survived</th>\n",
       "      <td>0.029619</td>\n",
       "      <td>1.000000</td>\n",
       "      <td>-0.356557</td>\n",
       "      <td>-0.537611</td>\n",
       "      <td>-0.081042</td>\n",
       "      <td>-0.016561</td>\n",
       "      <td>0.094666</td>\n",
       "      <td>-0.104992</td>\n",
       "      <td>0.265914</td>\n",
       "      <td>-0.181642</td>\n",
       "    </tr>\n",
       "    <tr>\n",
       "      <th>Pclass</th>\n",
       "      <td>-0.033548</td>\n",
       "      <td>-0.356557</td>\n",
       "      <td>1.000000</td>\n",
       "      <td>0.147527</td>\n",
       "      <td>-0.368364</td>\n",
       "      <td>0.068242</td>\n",
       "      <td>0.026348</td>\n",
       "      <td>0.322058</td>\n",
       "      <td>-0.551491</td>\n",
       "      <td>0.242228</td>\n",
       "    </tr>\n",
       "    <tr>\n",
       "      <th>Sex</th>\n",
       "      <td>0.026582</td>\n",
       "      <td>-0.537611</td>\n",
       "      <td>0.147527</td>\n",
       "      <td>1.000000</td>\n",
       "      <td>0.098609</td>\n",
       "      <td>-0.104193</td>\n",
       "      <td>-0.247958</td>\n",
       "      <td>0.081889</td>\n",
       "      <td>-0.180174</td>\n",
       "      <td>0.107675</td>\n",
       "    </tr>\n",
       "    <tr>\n",
       "      <th>Age</th>\n",
       "      <td>0.032460</td>\n",
       "      <td>-0.081042</td>\n",
       "      <td>-0.368364</td>\n",
       "      <td>0.098609</td>\n",
       "      <td>1.000000</td>\n",
       "      <td>-0.307621</td>\n",
       "      <td>-0.187863</td>\n",
       "      <td>-0.106422</td>\n",
       "      <td>0.094094</td>\n",
       "      <td>-0.033180</td>\n",
       "    </tr>\n",
       "    <tr>\n",
       "      <th>SibSp</th>\n",
       "      <td>-0.084239</td>\n",
       "      <td>-0.016561</td>\n",
       "      <td>0.068242</td>\n",
       "      <td>-0.104193</td>\n",
       "      <td>-0.307621</td>\n",
       "      <td>1.000000</td>\n",
       "      <td>0.382362</td>\n",
       "      <td>0.095227</td>\n",
       "      <td>0.138106</td>\n",
       "      <td>0.034743</td>\n",
       "    </tr>\n",
       "    <tr>\n",
       "      <th>Parch</th>\n",
       "      <td>-0.012923</td>\n",
       "      <td>0.094666</td>\n",
       "      <td>0.026348</td>\n",
       "      <td>-0.247958</td>\n",
       "      <td>-0.187863</td>\n",
       "      <td>0.382362</td>\n",
       "      <td>1.000000</td>\n",
       "      <td>-0.033503</td>\n",
       "      <td>0.205149</td>\n",
       "      <td>0.013310</td>\n",
       "    </tr>\n",
       "    <tr>\n",
       "      <th>Ticket</th>\n",
       "      <td>-0.029173</td>\n",
       "      <td>-0.104992</td>\n",
       "      <td>0.322058</td>\n",
       "      <td>0.081889</td>\n",
       "      <td>-0.106422</td>\n",
       "      <td>0.095227</td>\n",
       "      <td>-0.033503</td>\n",
       "      <td>1.000000</td>\n",
       "      <td>-0.161993</td>\n",
       "      <td>0.191212</td>\n",
       "    </tr>\n",
       "    <tr>\n",
       "      <th>Fare</th>\n",
       "      <td>0.008102</td>\n",
       "      <td>0.265914</td>\n",
       "      <td>-0.551491</td>\n",
       "      <td>-0.180174</td>\n",
       "      <td>0.094094</td>\n",
       "      <td>0.138106</td>\n",
       "      <td>0.205149</td>\n",
       "      <td>-0.161993</td>\n",
       "      <td>1.000000</td>\n",
       "      <td>-0.282148</td>\n",
       "    </tr>\n",
       "    <tr>\n",
       "      <th>Embarked</th>\n",
       "      <td>-0.000585</td>\n",
       "      <td>-0.181642</td>\n",
       "      <td>0.242228</td>\n",
       "      <td>0.107675</td>\n",
       "      <td>-0.033180</td>\n",
       "      <td>0.034743</td>\n",
       "      <td>0.013310</td>\n",
       "      <td>0.191212</td>\n",
       "      <td>-0.282148</td>\n",
       "      <td>1.000000</td>\n",
       "    </tr>\n",
       "  </tbody>\n",
       "</table>\n",
       "</div>"
      ],
      "text/plain": [
       "             PassengerId  Survived    Pclass       Sex       Age     SibSp  \\\n",
       "PassengerId     1.000000  0.029619 -0.033548  0.026582  0.032460 -0.084239   \n",
       "Survived        0.029619  1.000000 -0.356557 -0.537611 -0.081042 -0.016561   \n",
       "Pclass         -0.033548 -0.356557  1.000000  0.147527 -0.368364  0.068242   \n",
       "Sex             0.026582 -0.537611  0.147527  1.000000  0.098609 -0.104193   \n",
       "Age             0.032460 -0.081042 -0.368364  0.098609  1.000000 -0.307621   \n",
       "SibSp          -0.084239 -0.016561  0.068242 -0.104193 -0.307621  1.000000   \n",
       "Parch          -0.012923  0.094666  0.026348 -0.247958 -0.187863  0.382362   \n",
       "Ticket         -0.029173 -0.104992  0.322058  0.081889 -0.106422  0.095227   \n",
       "Fare            0.008102  0.265914 -0.551491 -0.180174  0.094094  0.138106   \n",
       "Embarked       -0.000585 -0.181642  0.242228  0.107675 -0.033180  0.034743   \n",
       "\n",
       "                Parch    Ticket      Fare  Embarked  \n",
       "PassengerId -0.012923 -0.029173  0.008102 -0.000585  \n",
       "Survived     0.094666 -0.104992  0.265914 -0.181642  \n",
       "Pclass       0.026348  0.322058 -0.551491  0.242228  \n",
       "Sex         -0.247958  0.081889 -0.180174  0.107675  \n",
       "Age         -0.187863 -0.106422  0.094094 -0.033180  \n",
       "SibSp        0.382362  0.095227  0.138106  0.034743  \n",
       "Parch        1.000000 -0.033503  0.205149  0.013310  \n",
       "Ticket      -0.033503  1.000000 -0.161993  0.191212  \n",
       "Fare         0.205149 -0.161993  1.000000 -0.282148  \n",
       "Embarked     0.013310  0.191212 -0.282148  1.000000  "
      ]
     },
     "execution_count": 28,
     "metadata": {},
     "output_type": "execute_result"
    }
   ],
   "source": [
    "df_train.corr(method='pearson')"
   ]
  },
  {
   "cell_type": "markdown",
   "id": "b6ef987f",
   "metadata": {},
   "source": [
    "- 상관 계수를 확인해볼 때 생존 유무와 연관성이 짙은 feature는 Pclass(등실의 등급), Sex(성별), Fare(티켓의 요금), Embarked(배에 탑승한 항구 이름)으로 나타난다."
   ]
  },
  {
   "cell_type": "markdown",
   "id": "5d431133",
   "metadata": {},
   "source": [
    "## Train & Evaluate"
   ]
  },
  {
   "cell_type": "code",
   "execution_count": 60,
   "id": "42007fd0",
   "metadata": {},
   "outputs": [],
   "source": [
    "x, y = df_train.loc[:, ['PassengerId', 'Pclass', 'Sex', 'Age', 'SibSp', 'Parch',\n",
    "       'Ticket', 'Fare', 'Embarked']], df_train.loc[:, 'Survived']"
   ]
  },
  {
   "cell_type": "code",
   "execution_count": 86,
   "id": "894ec3ed",
   "metadata": {},
   "outputs": [
    {
     "name": "stdout",
     "output_type": "stream",
     "text": [
      "stf.get_n_splits  :  5\n"
     ]
    },
    {
     "name": "stderr",
     "output_type": "stream",
     "text": [
      "C:\\Users\\HPE\\anaconda3\\lib\\site-packages\\keras\\optimizer_v2\\gradient_descent.py:102: UserWarning: The `lr` argument is deprecated, use `learning_rate` instead.\n",
      "  super(SGD, self).__init__(name, **kwargs)\n"
     ]
    }
   ],
   "source": [
    "stf = StratifiedKFold(n_splits=5, shuffle= True)\n",
    "\n",
    "print('stf.get_n_splits  : ', stf.get_n_splits(x, y))\n",
    "\n",
    "model_lr = LogisticRegression()\n",
    "\n",
    "model_lr_dl = Sequential()\n",
    "model_lr_dl.add(Dense(1, input_dim=1, activation='sigmoid'))\n",
    "\n",
    "sgd = optimizers.SGD(lr=0.01)\n",
    "model_lr_dl.compile(optimizer=sgd, loss='binary_crossentropy', metrics=['binary_accuracy'])\n",
    "\n",
    "\n",
    "score = []\n",
    "for train_idx, test_idx in stf.split(x, y):\n",
    "    X_train, X_test = x.values[train_idx], x.values[test_idx]\n",
    "    y_train, y_test = y.values[train_idx], y.values[test_idx]\n",
    "\n",
    "#     model_lr_dl.fit(X_train, y_train, epochs=200)\n",
    "#     pred_y = model_lr_dl.predict(X_test)\n",
    "    \n",
    "    model_lr.fit(X_train, y_train)\n",
    "    pred_y = model_lr.predict(X_test)\n",
    "    \n",
    "    score.append(mean_squared_error(y_test, pred_y))\n",
    "    "
   ]
  },
  {
   "cell_type": "code",
   "execution_count": 111,
   "id": "06b52e3d",
   "metadata": {},
   "outputs": [
    {
     "data": {
      "text/plain": [
       "0.3855558885226251"
      ]
     },
     "execution_count": 111,
     "metadata": {},
     "output_type": "execute_result"
    }
   ],
   "source": [
    "np.mean(score)"
   ]
  },
  {
   "cell_type": "markdown",
   "id": "89379c50",
   "metadata": {},
   "source": [
    "### - 상관 계수 0.1 이하 제거 후 다시 진행"
   ]
  },
  {
   "cell_type": "code",
   "execution_count": 90,
   "id": "2ec28f07",
   "metadata": {},
   "outputs": [
    {
     "data": {
      "text/plain": [
       "PassengerId    0.029619\n",
       "Survived       1.000000\n",
       "Pclass        -0.356557\n",
       "Sex           -0.537611\n",
       "Age           -0.081042\n",
       "SibSp         -0.016561\n",
       "Parch          0.094666\n",
       "Ticket        -0.104992\n",
       "Fare           0.265914\n",
       "Embarked      -0.181642\n",
       "Name: Survived, dtype: float64"
      ]
     },
     "execution_count": 90,
     "metadata": {},
     "output_type": "execute_result"
    }
   ],
   "source": [
    "df_train.corr(method='pearson').iloc[:, 1]"
   ]
  },
  {
   "cell_type": "code",
   "execution_count": 133,
   "id": "60a27f10",
   "metadata": {},
   "outputs": [],
   "source": [
    "df_train_modify = df_train.drop(columns= ['PassengerId', 'Age', 'SibSp', 'Parch', 'Ticket'])"
   ]
  },
  {
   "cell_type": "code",
   "execution_count": 134,
   "id": "13d81616",
   "metadata": {},
   "outputs": [
    {
     "data": {
      "text/plain": [
       "Index(['Survived', 'Pclass', 'Sex', 'Fare', 'Embarked'], dtype='object')"
      ]
     },
     "execution_count": 134,
     "metadata": {},
     "output_type": "execute_result"
    }
   ],
   "source": [
    "df_train_modify.keys()"
   ]
  },
  {
   "cell_type": "code",
   "execution_count": 139,
   "id": "9d09c047",
   "metadata": {},
   "outputs": [],
   "source": [
    "x_1, y_1 = df_train_modify.loc[:, ['Pclass', 'Sex', 'Fare', 'Embarked']], df_train.loc[:, 'Survived']"
   ]
  },
  {
   "cell_type": "code",
   "execution_count": 147,
   "id": "64b715e7",
   "metadata": {},
   "outputs": [
    {
     "name": "stdout",
     "output_type": "stream",
     "text": [
      "stf.get_n_splits  :  5\n"
     ]
    },
    {
     "name": "stderr",
     "output_type": "stream",
     "text": [
      "C:\\Users\\HPE\\anaconda3\\lib\\site-packages\\keras\\optimizer_v2\\gradient_descent.py:102: UserWarning: The `lr` argument is deprecated, use `learning_rate` instead.\n",
      "  super(SGD, self).__init__(name, **kwargs)\n"
     ]
    }
   ],
   "source": [
    "stf = StratifiedKFold(n_splits=5, shuffle= True)\n",
    "\n",
    "print('stf.get_n_splits  : ', stf.get_n_splits(x, y))\n",
    "\n",
    "model_lr = LogisticRegression()\n",
    "model_sgd = SGDClassifier()\n",
    "model_lr_dl = Sequential()\n",
    "model_lr_dl.add(Dense(1, input_dim=1, activation='sigmoid'))\n",
    "\n",
    "sgd = optimizers.SGD(lr=0.01)\n",
    "model_lr_dl.compile(optimizer=sgd, loss='binary_crossentropy', metrics=['binary_accuracy'])\n",
    "\n",
    "\n",
    "score = []\n",
    "for train_idx, test_idx in stf.split(x_1, y_1):\n",
    "    X_train, X_test = x_1.values[train_idx], x_1.values[test_idx]\n",
    "    y_train, y_test = y_1.values[train_idx], y_1.values[test_idx]\n",
    "\n",
    "#     model_lr_dl.fit(X_train, y_train, epochs=200)\n",
    "#     pred_y = model_lr_dl.predict(X_test)\n",
    "    \n",
    "    model_sgd.fit(X_train, y_train)\n",
    "    pred_y = model_sgd.predict(X_test)\n",
    "    \n",
    "    score.append(mean_squared_error(y_test, pred_y))\n",
    "    "
   ]
  },
  {
   "cell_type": "code",
   "execution_count": 148,
   "id": "4f6a358b",
   "metadata": {},
   "outputs": [
    {
     "data": {
      "text/plain": [
       "0.3248326840475477"
      ]
     },
     "execution_count": 148,
     "metadata": {},
     "output_type": "execute_result"
    }
   ],
   "source": [
    "np.mean(score)"
   ]
  },
  {
   "cell_type": "code",
   "execution_count": 132,
   "id": "5bff23ab",
   "metadata": {},
   "outputs": [
    {
     "data": {
      "text/plain": [
       "Survived    1.000000\n",
       "Pclass     -0.356557\n",
       "Sex        -0.537611\n",
       "Ticket     -0.104992\n",
       "Fare        0.265914\n",
       "Embarked   -0.181642\n",
       "Name: Survived, dtype: float64"
      ]
     },
     "execution_count": 132,
     "metadata": {},
     "output_type": "execute_result"
    }
   ],
   "source": [
    "df_train_modify.corr(method='pearson').iloc[:, 0]"
   ]
  },
  {
   "cell_type": "code",
   "execution_count": null,
   "id": "4acc815b",
   "metadata": {},
   "outputs": [],
   "source": []
  }
 ],
 "metadata": {
  "kernelspec": {
   "display_name": "Python 3 (ipykernel)",
   "language": "python",
   "name": "python3"
  },
  "language_info": {
   "codemirror_mode": {
    "name": "ipython",
    "version": 3
   },
   "file_extension": ".py",
   "mimetype": "text/x-python",
   "name": "python",
   "nbconvert_exporter": "python",
   "pygments_lexer": "ipython3",
   "version": "3.8.12"
  }
 },
 "nbformat": 4,
 "nbformat_minor": 5
}
