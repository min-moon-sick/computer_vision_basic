{
 "cells": [
  {
   "cell_type": "markdown",
   "metadata": {
    "id": "mhnVRDEso6TM"
   },
   "source": [
    "# 머신 러닝 교과서 3판"
   ]
  },
  {
   "cell_type": "markdown",
   "metadata": {
    "id": "iLYc3wMJo6TQ"
   },
   "source": [
    "# 17장 - 새로운 데이터 합성을 위한 생성적 적대 신경망 (2/2)"
   ]
  },
  {
   "cell_type": "markdown",
   "metadata": {
    "id": "zxnZcUDYo6TQ"
   },
   "source": [
    "**아래 링크를 통해 이 노트북을 주피터 노트북 뷰어(nbviewer.jupyter.org)로 보거나 구글 코랩(colab.research.google.com)에서 실행할 수 있습니다.**\n",
    "\n",
    "<table class=\"tfo-notebook-buttons\" align=\"left\">\n",
    "  <td>\n",
    "    <a target=\"_blank\" href=\"https://nbviewer.org/github/rickiepark/python-machine-learning-book-3rd-edition/blob/master/ch17/ch17_part2.ipynb\"><img src=\"https://jupyter.org/assets/share.png\" width=\"60\" />주피터 노트북 뷰어로 보기</a>\n",
    "  </td>\n",
    "  <td>\n",
    "    <a target=\"_blank\" href=\"https://colab.research.google.com/github/rickiepark/python-machine-learning-book-3rd-edition/blob/master/ch17/ch17_part2.ipynb\"><img src=\"https://www.tensorflow.org/images/colab_logo_32px.png\" />구글 코랩(Colab)에서 실행하기</a>\n",
    "  </td>\n",
    "</table>"
   ]
  },
  {
   "cell_type": "markdown",
   "metadata": {
    "id": "ILMW7pJpo6TR"
   },
   "source": [
    "### 목차"
   ]
  },
  {
   "cell_type": "markdown",
   "metadata": {
    "id": "2XQEMAilo6TR"
   },
   "source": [
    "- 합성곱 GAN과 와서스테인 GAN을 사용하여 합성 이미지의 품질 높이기\n",
    "    - 전치 합성곱\n",
    "    - 배치 정규화\n",
    "    - 생성자와 판별자 구현하기\n",
    "    - 두 분포 사이의 거리 측정하기\n",
    "    - GAN에 EM 거리 사용하기\n",
    "    - 그래디언트 페널티\n",
    "    - WGAN-GP로 DCGAN 모델 훈련하기\n",
    "    - 모드 붕괴\n",
    "- 다른 GAN 애플리케이션\n",
    "- 요약"
   ]
  },
  {
   "cell_type": "code",
   "execution_count": 1,
   "metadata": {
    "id": "fJJx82wno6TR"
   },
   "outputs": [],
   "source": [
    "from IPython.display import Image"
   ]
  },
  {
   "cell_type": "markdown",
   "metadata": {
    "id": "I8VoaURPo6TS"
   },
   "source": [
    "# 합성곱 GAN과 와서스테인 GAN을 사용하여 합성 이미지의 품질 높이기"
   ]
  },
  {
   "cell_type": "markdown",
   "metadata": {
    "id": "0J8TdXgIo6TS"
   },
   "source": [
    "## 전치 합성곱"
   ]
  },
  {
   "cell_type": "code",
   "execution_count": 2,
   "metadata": {
    "colab": {
     "base_uri": "https://localhost:8080/",
     "height": 269
    },
    "id": "doWkKGeMo6TS",
    "outputId": "ffea1d40-37dd-4020-cbaa-cb43e5daaef5"
   },
   "outputs": [
    {
     "data": {
      "text/html": [
       "<img src=\"https://git.io/JLjn7\" width=\"700\"/>"
      ],
      "text/plain": [
       "<IPython.core.display.Image object>"
      ]
     },
     "execution_count": 2,
     "metadata": {},
     "output_type": "execute_result"
    }
   ],
   "source": [
    "Image(url='https://git.io/JLjn7', width=700)"
   ]
  },
  {
   "cell_type": "code",
   "execution_count": 3,
   "metadata": {
    "colab": {
     "base_uri": "https://localhost:8080/",
     "height": 361
    },
    "id": "wXQNEuWJo6TT",
    "outputId": "3db1ec7f-4657-4cad-f56d-aec19bb84434"
   },
   "outputs": [
    {
     "data": {
      "text/html": [
       "<img src=\"https://git.io/JLjnb\" width=\"700\"/>"
      ],
      "text/plain": [
       "<IPython.core.display.Image object>"
      ]
     },
     "execution_count": 3,
     "metadata": {},
     "output_type": "execute_result"
    }
   ],
   "source": [
    "Image(url='https://git.io/JLjnb', width=700)"
   ]
  },
  {
   "cell_type": "markdown",
   "metadata": {
    "id": "v5OXSjCHo6TT"
   },
   "source": [
    "## 배치 정규화"
   ]
  },
  {
   "cell_type": "code",
   "execution_count": 4,
   "metadata": {
    "colab": {
     "base_uri": "https://localhost:8080/",
     "height": 479
    },
    "id": "T8sfMSHio6TT",
    "outputId": "c620928c-13d2-4ea1-9f15-0a372b560ac7"
   },
   "outputs": [
    {
     "data": {
      "text/html": [
       "<img src=\"https://git.io/JLjnA\" width=\"700\"/>"
      ],
      "text/plain": [
       "<IPython.core.display.Image object>"
      ]
     },
     "execution_count": 4,
     "metadata": {},
     "output_type": "execute_result"
    }
   ],
   "source": [
    "Image(url='https://git.io/JLjnA', width=700)"
   ]
  },
  {
   "cell_type": "markdown",
   "metadata": {
    "id": "7pqd-bBPo6TT"
   },
   "source": [
    "## 생성자와 판별자 구현하기"
   ]
  },
  {
   "cell_type": "code",
   "execution_count": 5,
   "metadata": {
    "colab": {
     "base_uri": "https://localhost:8080/",
     "height": 312
    },
    "id": "Botu3kjko6TT",
    "outputId": "5e08305a-d4b2-4363-ec51-8988c53646b2"
   },
   "outputs": [
    {
     "data": {
      "text/html": [
       "<img src=\"https://git.io/JLjnx\" width=\"700\"/>"
      ],
      "text/plain": [
       "<IPython.core.display.Image object>"
      ]
     },
     "execution_count": 5,
     "metadata": {},
     "output_type": "execute_result"
    }
   ],
   "source": [
    "Image(url='https://git.io/JLjnx', width=700)"
   ]
  },
  {
   "cell_type": "code",
   "execution_count": 6,
   "metadata": {
    "colab": {
     "base_uri": "https://localhost:8080/",
     "height": 386
    },
    "id": "bR-z6gxto6TU",
    "outputId": "1df842f4-038e-4587-97ce-bf44c3e5e38f"
   },
   "outputs": [
    {
     "data": {
      "text/html": [
       "<img src=\"https://git.io/JLjnj\" width=\"700\"/>"
      ],
      "text/plain": [
       "<IPython.core.display.Image object>"
      ]
     },
     "execution_count": 6,
     "metadata": {},
     "output_type": "execute_result"
    }
   ],
   "source": [
    "Image(url='https://git.io/JLjnj', width=700)"
   ]
  },
  {
   "cell_type": "markdown",
   "metadata": {
    "id": "gjndBoHAo6TU"
   },
   "source": [
    " * **구글 코랩 설정**"
   ]
  },
  {
   "cell_type": "code",
   "execution_count": 7,
   "metadata": {
    "id": "XnOWggQN3RbT"
   },
   "outputs": [],
   "source": [
    "#from google.colab import drive\n",
    "#drive.mount('/content/drive/')"
   ]
  },
  {
   "cell_type": "code",
   "execution_count": 8,
   "metadata": {
    "colab": {
     "base_uri": "https://localhost:8080/"
    },
    "id": "O9XN3qSZ6Kbr",
    "outputId": "45447be3-da29-4386-d011-6509518d4999"
   },
   "outputs": [
    {
     "name": "stdout",
     "output_type": "stream",
     "text": [
      "2.6.0\n",
      "GPU 여부: True\n",
      "/device:GPU:0\n"
     ]
    }
   ],
   "source": [
    "import tensorflow as tf\n",
    "\n",
    "\n",
    "print(tf.__version__)\n",
    "\n",
    "print(\"GPU 여부:\", len(tf.config.list_physical_devices('GPU')) > 0)\n",
    "\n",
    "if tf.config.list_physical_devices('GPU'):\n",
    "    device_name = tf.test.gpu_device_name()\n",
    "else:\n",
    "    device_name = 'CPU:0'\n",
    "    \n",
    "print(device_name)"
   ]
  },
  {
   "cell_type": "code",
   "execution_count": 9,
   "metadata": {
    "id": "VXasfQIW3XeR"
   },
   "outputs": [],
   "source": [
    "import tensorflow_datasets as tfds\n",
    "import numpy as np\n",
    "import matplotlib.pyplot as plt\n",
    "%matplotlib inline"
   ]
  },
  {
   "cell_type": "code",
   "execution_count": 10,
   "metadata": {
    "id": "O9QIFmPZ3jjg"
   },
   "outputs": [],
   "source": [
    "def make_dcgan_generator(\n",
    "        z_size=20, \n",
    "        output_size=(28, 28, 1),\n",
    "        n_filters=128, \n",
    "        n_blocks=2):\n",
    "    size_factor = 2**n_blocks\n",
    "    hidden_size = (\n",
    "        output_size[0]//size_factor, \n",
    "        output_size[1]//size_factor\n",
    "    )\n",
    "    \n",
    "    model = tf.keras.Sequential([\n",
    "        tf.keras.layers.Input(shape=(z_size,)),\n",
    "        \n",
    "        tf.keras.layers.Dense(\n",
    "            units=n_filters*np.prod(hidden_size), \n",
    "            use_bias=False),\n",
    "        tf.keras.layers.BatchNormalization(),\n",
    "        tf.keras.layers.LeakyReLU(),\n",
    "        tf.keras.layers.Reshape(\n",
    "            (hidden_size[0], hidden_size[1], n_filters)),\n",
    "    \n",
    "        tf.keras.layers.Conv2DTranspose(\n",
    "            filters=n_filters, kernel_size=(5, 5), strides=(1, 1),\n",
    "            padding='same', use_bias=False),\n",
    "        tf.keras.layers.BatchNormalization(),\n",
    "        tf.keras.layers.LeakyReLU()\n",
    "    ])\n",
    "        \n",
    "    nf = n_filters\n",
    "    for i in range(n_blocks):\n",
    "        nf = nf // 2\n",
    "        model.add(\n",
    "            tf.keras.layers.Conv2DTranspose(\n",
    "                filters=nf, kernel_size=(5, 5), strides=(2, 2),\n",
    "                padding='same', use_bias=False))\n",
    "        model.add(tf.keras.layers.BatchNormalization())\n",
    "        model.add(tf.keras.layers.LeakyReLU())\n",
    "                \n",
    "    model.add(\n",
    "        tf.keras.layers.Conv2DTranspose(\n",
    "            filters=output_size[2], kernel_size=(5, 5), \n",
    "            strides=(1, 1), padding='same', use_bias=False, \n",
    "            activation='tanh'))\n",
    "        \n",
    "    return model\n",
    "\n",
    "def make_dcgan_discriminator(\n",
    "        input_size=(28, 28, 1),\n",
    "        n_filters=64, \n",
    "        n_blocks=2):\n",
    "    model = tf.keras.Sequential([\n",
    "        tf.keras.layers.Input(shape=input_size),\n",
    "        tf.keras.layers.Conv2D(\n",
    "            filters=n_filters, kernel_size=5, \n",
    "            strides=(1, 1), padding='same'),\n",
    "        tf.keras.layers.BatchNormalization(),\n",
    "        tf.keras.layers.LeakyReLU()\n",
    "    ])\n",
    "    \n",
    "    nf = n_filters\n",
    "    for i in range(n_blocks):\n",
    "        nf = nf*2\n",
    "        model.add(\n",
    "            tf.keras.layers.Conv2D(\n",
    "                filters=nf, kernel_size=(5, 5), \n",
    "                strides=(2, 2),padding='same'))\n",
    "        model.add(tf.keras.layers.BatchNormalization())\n",
    "        model.add(tf.keras.layers.LeakyReLU())\n",
    "        model.add(tf.keras.layers.Dropout(0.3))\n",
    "        \n",
    "    model.add(tf.keras.layers.Conv2D(\n",
    "            filters=1, kernel_size=(7, 7), padding='valid'))\n",
    "    \n",
    "    model.add(tf.keras.layers.Reshape((1,)))\n",
    "    \n",
    "    return model"
   ]
  },
  {
   "cell_type": "code",
   "execution_count": 11,
   "metadata": {
    "colab": {
     "base_uri": "https://localhost:8080/"
    },
    "id": "DX4INL735ARw",
    "outputId": "3c04a092-3206-4e5d-be9a-ed1a6131da3c"
   },
   "outputs": [
    {
     "name": "stdout",
     "output_type": "stream",
     "text": [
      "Model: \"sequential\"\n",
      "_________________________________________________________________\n",
      "Layer (type)                 Output Shape              Param #   \n",
      "=================================================================\n",
      "dense (Dense)                (None, 6272)              125440    \n",
      "_________________________________________________________________\n",
      "batch_normalization (BatchNo (None, 6272)              25088     \n",
      "_________________________________________________________________\n",
      "leaky_re_lu (LeakyReLU)      (None, 6272)              0         \n",
      "_________________________________________________________________\n",
      "reshape (Reshape)            (None, 7, 7, 128)         0         \n",
      "_________________________________________________________________\n",
      "conv2d_transpose (Conv2DTran (None, 7, 7, 128)         409600    \n",
      "_________________________________________________________________\n",
      "batch_normalization_1 (Batch (None, 7, 7, 128)         512       \n",
      "_________________________________________________________________\n",
      "leaky_re_lu_1 (LeakyReLU)    (None, 7, 7, 128)         0         \n",
      "_________________________________________________________________\n",
      "conv2d_transpose_1 (Conv2DTr (None, 14, 14, 64)        204800    \n",
      "_________________________________________________________________\n",
      "batch_normalization_2 (Batch (None, 14, 14, 64)        256       \n",
      "_________________________________________________________________\n",
      "leaky_re_lu_2 (LeakyReLU)    (None, 14, 14, 64)        0         \n",
      "_________________________________________________________________\n",
      "conv2d_transpose_2 (Conv2DTr (None, 28, 28, 32)        51200     \n",
      "_________________________________________________________________\n",
      "batch_normalization_3 (Batch (None, 28, 28, 32)        128       \n",
      "_________________________________________________________________\n",
      "leaky_re_lu_3 (LeakyReLU)    (None, 28, 28, 32)        0         \n",
      "_________________________________________________________________\n",
      "conv2d_transpose_3 (Conv2DTr (None, 28, 28, 1)         800       \n",
      "=================================================================\n",
      "Total params: 817,824\n",
      "Trainable params: 804,832\n",
      "Non-trainable params: 12,992\n",
      "_________________________________________________________________\n",
      "Model: \"sequential_1\"\n",
      "_________________________________________________________________\n",
      "Layer (type)                 Output Shape              Param #   \n",
      "=================================================================\n",
      "conv2d (Conv2D)              (None, 28, 28, 64)        1664      \n",
      "_________________________________________________________________\n",
      "batch_normalization_4 (Batch (None, 28, 28, 64)        256       \n",
      "_________________________________________________________________\n",
      "leaky_re_lu_4 (LeakyReLU)    (None, 28, 28, 64)        0         \n",
      "_________________________________________________________________\n",
      "conv2d_1 (Conv2D)            (None, 14, 14, 128)       204928    \n",
      "_________________________________________________________________\n",
      "batch_normalization_5 (Batch (None, 14, 14, 128)       512       \n",
      "_________________________________________________________________\n",
      "leaky_re_lu_5 (LeakyReLU)    (None, 14, 14, 128)       0         \n",
      "_________________________________________________________________\n",
      "dropout (Dropout)            (None, 14, 14, 128)       0         \n",
      "_________________________________________________________________\n",
      "conv2d_2 (Conv2D)            (None, 7, 7, 256)         819456    \n",
      "_________________________________________________________________\n",
      "batch_normalization_6 (Batch (None, 7, 7, 256)         1024      \n",
      "_________________________________________________________________\n",
      "leaky_re_lu_6 (LeakyReLU)    (None, 7, 7, 256)         0         \n",
      "_________________________________________________________________\n",
      "dropout_1 (Dropout)          (None, 7, 7, 256)         0         \n",
      "_________________________________________________________________\n",
      "conv2d_3 (Conv2D)            (None, 1, 1, 1)           12545     \n",
      "_________________________________________________________________\n",
      "reshape_1 (Reshape)          (None, 1)                 0         \n",
      "=================================================================\n",
      "Total params: 1,040,385\n",
      "Trainable params: 1,039,489\n",
      "Non-trainable params: 896\n",
      "_________________________________________________________________\n"
     ]
    }
   ],
   "source": [
    "gen_model = make_dcgan_generator()\n",
    "gen_model.summary()\n",
    "\n",
    "disc_model = make_dcgan_discriminator()\n",
    "disc_model.summary()"
   ]
  },
  {
   "cell_type": "markdown",
   "metadata": {
    "id": "72tpmJjOo6TV"
   },
   "source": [
    "## 두 분포 사이의 거리 측정하기"
   ]
  },
  {
   "cell_type": "code",
   "execution_count": 12,
   "metadata": {
    "colab": {
     "base_uri": "https://localhost:8080/",
     "height": 356
    },
    "id": "-bKtNGBbo6TV",
    "outputId": "92082112-3722-43f9-cc2e-d827927ca2b3"
   },
   "outputs": [
    {
     "data": {
      "text/html": [
       "<img src=\"https://git.io/JLjcf\" width=\"700\"/>"
      ],
      "text/plain": [
       "<IPython.core.display.Image object>"
      ]
     },
     "execution_count": 12,
     "metadata": {},
     "output_type": "execute_result"
    }
   ],
   "source": [
    "Image(url='https://git.io/JLjcf', width=700)"
   ]
  },
  {
   "cell_type": "code",
   "execution_count": 13,
   "metadata": {
    "colab": {
     "base_uri": "https://localhost:8080/",
     "height": 555
    },
    "id": "QGqJNr5so6TW",
    "outputId": "18301c4b-2d70-40d9-e5f9-24dca419dccb"
   },
   "outputs": [
    {
     "data": {
      "text/html": [
       "<img src=\"https://git.io/JLjcJ\" width=\"800\"/>"
      ],
      "text/plain": [
       "<IPython.core.display.Image object>"
      ]
     },
     "execution_count": 13,
     "metadata": {},
     "output_type": "execute_result"
    }
   ],
   "source": [
    "Image(url='https://git.io/JLjcJ', width=800)"
   ]
  },
  {
   "cell_type": "markdown",
   "metadata": {
    "id": "MGNV_luKo6TW"
   },
   "source": [
    "## GAN에 EM 거리 사용하기\n",
    "\n",
    "## 그래디언트 페널티\n",
    "\n",
    "## WGAN-GP로 DCGAN 모델 훈련하기"
   ]
  },
  {
   "cell_type": "code",
   "execution_count": 14,
   "metadata": {
    "id": "-iAGk1Ta6xmQ"
   },
   "outputs": [],
   "source": [
    "mnist_bldr = tfds.builder('mnist')\n",
    "mnist_bldr.download_and_prepare()\n",
    "mnist = mnist_bldr.as_dataset(shuffle_files=False)\n",
    "\n",
    "def preprocess(ex, mode='uniform'):\n",
    "    image = ex['image']\n",
    "    image = tf.image.convert_image_dtype(image, tf.float32)\n",
    "\n",
    "    image = image*2 - 1.0\n",
    "    if mode == 'uniform':\n",
    "        input_z = tf.random.uniform(\n",
    "            shape=(z_size,), minval=-1.0, maxval=1.0)\n",
    "    elif mode == 'normal':\n",
    "        input_z = tf.random.normal(shape=(z_size,))\n",
    "    return input_z, image"
   ]
  },
  {
   "cell_type": "code",
   "execution_count": 15,
   "metadata": {
    "colab": {
     "base_uri": "https://localhost:8080/"
    },
    "id": "HCX0mOwEo6TW",
    "outputId": "3698293d-867b-4c5d-b12f-ac70b232579c"
   },
   "outputs": [
    {
     "name": "stdout",
     "output_type": "stream",
     "text": [
      "Model: \"sequential_2\"\n",
      "_________________________________________________________________\n",
      "Layer (type)                 Output Shape              Param #   \n",
      "=================================================================\n",
      "dense_1 (Dense)              (None, 6272)              125440    \n",
      "_________________________________________________________________\n",
      "batch_normalization_7 (Batch (None, 6272)              25088     \n",
      "_________________________________________________________________\n",
      "leaky_re_lu_7 (LeakyReLU)    (None, 6272)              0         \n",
      "_________________________________________________________________\n",
      "reshape_2 (Reshape)          (None, 7, 7, 128)         0         \n",
      "_________________________________________________________________\n",
      "conv2d_transpose_4 (Conv2DTr (None, 7, 7, 128)         409600    \n",
      "_________________________________________________________________\n",
      "batch_normalization_8 (Batch (None, 7, 7, 128)         512       \n",
      "_________________________________________________________________\n",
      "leaky_re_lu_8 (LeakyReLU)    (None, 7, 7, 128)         0         \n",
      "_________________________________________________________________\n",
      "conv2d_transpose_5 (Conv2DTr (None, 14, 14, 64)        204800    \n",
      "_________________________________________________________________\n",
      "batch_normalization_9 (Batch (None, 14, 14, 64)        256       \n",
      "_________________________________________________________________\n",
      "leaky_re_lu_9 (LeakyReLU)    (None, 14, 14, 64)        0         \n",
      "_________________________________________________________________\n",
      "conv2d_transpose_6 (Conv2DTr (None, 28, 28, 32)        51200     \n",
      "_________________________________________________________________\n",
      "batch_normalization_10 (Batc (None, 28, 28, 32)        128       \n",
      "_________________________________________________________________\n",
      "leaky_re_lu_10 (LeakyReLU)   (None, 28, 28, 32)        0         \n",
      "_________________________________________________________________\n",
      "conv2d_transpose_7 (Conv2DTr (None, 28, 28, 1)         800       \n",
      "=================================================================\n",
      "Total params: 817,824\n",
      "Trainable params: 804,832\n",
      "Non-trainable params: 12,992\n",
      "_________________________________________________________________\n",
      "Model: \"sequential_3\"\n",
      "_________________________________________________________________\n",
      "Layer (type)                 Output Shape              Param #   \n",
      "=================================================================\n",
      "conv2d_4 (Conv2D)            (None, 28, 28, 64)        1664      \n",
      "_________________________________________________________________\n",
      "batch_normalization_11 (Batc (None, 28, 28, 64)        256       \n",
      "_________________________________________________________________\n",
      "leaky_re_lu_11 (LeakyReLU)   (None, 28, 28, 64)        0         \n",
      "_________________________________________________________________\n",
      "conv2d_5 (Conv2D)            (None, 14, 14, 128)       204928    \n",
      "_________________________________________________________________\n",
      "batch_normalization_12 (Batc (None, 14, 14, 128)       512       \n",
      "_________________________________________________________________\n",
      "leaky_re_lu_12 (LeakyReLU)   (None, 14, 14, 128)       0         \n",
      "_________________________________________________________________\n",
      "dropout_2 (Dropout)          (None, 14, 14, 128)       0         \n",
      "_________________________________________________________________\n",
      "conv2d_6 (Conv2D)            (None, 7, 7, 256)         819456    \n",
      "_________________________________________________________________\n",
      "batch_normalization_13 (Batc (None, 7, 7, 256)         1024      \n",
      "_________________________________________________________________\n",
      "leaky_re_lu_13 (LeakyReLU)   (None, 7, 7, 256)         0         \n",
      "_________________________________________________________________\n",
      "dropout_3 (Dropout)          (None, 7, 7, 256)         0         \n",
      "_________________________________________________________________\n",
      "conv2d_7 (Conv2D)            (None, 1, 1, 1)           12545     \n",
      "_________________________________________________________________\n",
      "reshape_3 (Reshape)          (None, 1)                 0         \n",
      "=================================================================\n",
      "Total params: 1,040,385\n",
      "Trainable params: 1,039,489\n",
      "Non-trainable params: 896\n",
      "_________________________________________________________________\n"
     ]
    }
   ],
   "source": [
    "num_epochs = 100\n",
    "batch_size = 128\n",
    "image_size = (28, 28)\n",
    "z_size = 20\n",
    "mode_z = 'uniform'\n",
    "lambda_gp = 10.0\n",
    "\n",
    "tf.random.set_seed(1)\n",
    "np.random.seed(1)\n",
    "\n",
    "## 데이터셋 준비\n",
    "mnist_trainset = mnist['train']\n",
    "mnist_trainset = mnist_trainset.map(preprocess)\n",
    "\n",
    "mnist_trainset = mnist_trainset.shuffle(10000)\n",
    "mnist_trainset = mnist_trainset.batch(\n",
    "    batch_size, drop_remainder=True)\n",
    "\n",
    "## 모델 생성\n",
    "with tf.device(device_name):\n",
    "    gen_model = make_dcgan_generator()\n",
    "    gen_model.build(input_shape=(None, z_size))\n",
    "    gen_model.summary()\n",
    "\n",
    "    disc_model = make_dcgan_discriminator()\n",
    "    disc_model.build(input_shape=(None, np.prod(image_size)))\n",
    "    disc_model.summary()"
   ]
  },
  {
   "cell_type": "code",
   "execution_count": 16,
   "metadata": {
    "colab": {
     "base_uri": "https://localhost:8080/"
    },
    "id": "caAjzvI_o6TW",
    "outputId": "24719936-f437-44d0-eadf-2b09eca7ae01"
   },
   "outputs": [
    {
     "name": "stdout",
     "output_type": "stream",
     "text": [
      "에포크   1 | 시간 0.79 min | 평균 손실 >> 생성자/판별자 333.48/-594.79 [판별자-진짜: -350.77 판별자-가짜: -333.48]\n",
      "에포크   2 | 시간 1.52 min | 평균 손실 >> 생성자/판별자 254.48/-113.37 [판별자-진짜: -167.75 판별자-가짜: -254.48]\n",
      "에포크   3 | 시간 2.23 min | 평균 손실 >> 생성자/판별자 176.13/-54.25 [판별자-진짜: -79.29 판별자-가짜: -176.13]\n",
      "에포크   4 | 시간 2.95 min | 평균 손실 >> 생성자/판별자 124.96/ 28.97 [판별자-진짜: -12.22 판별자-가짜: -124.96]\n",
      "에포크   5 | 시간 3.66 min | 평균 손실 >> 생성자/판별자  75.09/ 16.60 [판별자-진짜:   8.64 판별자-가짜: -75.09]\n",
      "에포크   6 | 시간 4.38 min | 평균 손실 >> 생성자/판별자  66.30/  2.24 [판별자-진짜:  29.77 판별자-가짜: -66.30]\n",
      "에포크   7 | 시간 5.10 min | 평균 손실 >> 생성자/판별자  66.58/-16.97 [판별자-진짜:  32.26 판별자-가짜: -66.58]\n",
      "에포크   8 | 시간 5.82 min | 평균 손실 >> 생성자/판별자  79.17/-45.39 [판별자-진짜:  23.60 판별자-가짜: -79.17]\n",
      "에포크   9 | 시간 6.54 min | 평균 손실 >> 생성자/판별자  66.99/-34.34 [판별자-진짜:  21.69 판별자-가짜: -66.99]\n",
      "에포크  10 | 시간 7.26 min | 평균 손실 >> 생성자/판별자  66.67/-31.58 [판별자-진짜:  14.27 판별자-가짜: -66.67]\n",
      "에포크  11 | 시간 7.97 min | 평균 손실 >> 생성자/판별자  80.22/-32.90 [판별자-진짜:  31.74 판별자-가짜: -80.22]\n",
      "에포크  12 | 시간 8.68 min | 평균 손실 >> 생성자/판별자  80.98/-32.90 [판별자-진짜:  33.27 판별자-가짜: -80.98]\n",
      "에포크  13 | 시간 9.39 min | 평균 손실 >> 생성자/판별자  68.81/-31.08 [판별자-진짜:  23.33 판별자-가짜: -68.81]\n",
      "에포크  14 | 시간 10.10 min | 평균 손실 >> 생성자/판별자  63.14/-28.75 [판별자-진짜:  22.19 판별자-가짜: -63.14]\n",
      "에포크  15 | 시간 10.82 min | 평균 손실 >> 생성자/판별자  92.05/-39.40 [판별자-진짜:  44.30 판별자-가짜: -92.05]\n",
      "에포크  16 | 시간 11.53 min | 평균 손실 >> 생성자/판별자  76.77/-34.26 [판별자-진짜:  31.81 판별자-가짜: -76.77]\n",
      "에포크  17 | 시간 12.24 min | 평균 손실 >> 생성자/판별자  80.57/-38.98 [판별자-진짜:  28.85 판별자-가짜: -80.57]\n",
      "에포크  18 | 시간 12.96 min | 평균 손실 >> 생성자/판별자  93.77/-39.45 [판별자-진짜:  42.42 판별자-가짜: -93.77]\n",
      "에포크  19 | 시간 13.67 min | 평균 손실 >> 생성자/판별자  85.32/ 43.85 [판별자-진짜:  58.29 판별자-가짜: -85.32]\n",
      "에포크  20 | 시간 14.38 min | 평균 손실 >> 생성자/판별자  54.70/ -0.58 [판별자-진짜:  42.75 판별자-가짜: -54.70]\n",
      "에포크  21 | 시간 15.09 min | 평균 손실 >> 생성자/판별자  75.02/-19.31 [판별자-진짜:  51.59 판별자-가짜: -75.02]\n",
      "에포크  22 | 시간 15.81 min | 평균 손실 >> 생성자/판별자  89.85/-33.87 [판별자-진짜:  53.14 판별자-가짜: -89.85]\n",
      "에포크  23 | 시간 16.53 min | 평균 손실 >> 생성자/판별자  81.72/-34.57 [판별자-진짜:  44.10 판별자-가짜: -81.72]\n",
      "에포크  24 | 시간 17.24 min | 평균 손실 >> 생성자/판별자  92.06/-31.92 [판별자-진짜:  54.76 판별자-가짜: -92.06]\n",
      "에포크  25 | 시간 17.96 min | 평균 손실 >> 생성자/판별자 114.21/-39.17 [판별자-진짜:  66.42 판별자-가짜: -114.21]\n",
      "에포크  26 | 시간 18.67 min | 평균 손실 >> 생성자/판별자  83.83/-37.82 [판별자-진짜:  34.27 판별자-가짜: -83.83]\n",
      "에포크  27 | 시간 19.38 min | 평균 손실 >> 생성자/판별자 103.30/-38.45 [판별자-진짜:  53.88 판별자-가짜: -103.30]\n",
      "에포크  28 | 시간 20.10 min | 평균 손실 >> 생성자/판별자 120.72/-38.75 [판별자-진짜:  71.34 판별자-가짜: -120.72]\n",
      "에포크  29 | 시간 20.82 min | 평균 손실 >> 생성자/판별자 144.79/-27.88 [판별자-진짜: 101.07 판별자-가짜: -144.79]\n",
      "에포크  30 | 시간 21.54 min | 평균 손실 >> 생성자/판별자  98.03/-31.81 [판별자-진짜:  51.38 판별자-가짜: -98.03]\n",
      "에포크  31 | 시간 22.27 min | 평균 손실 >> 생성자/판별자 157.50/-31.15 [판별자-진짜: 119.04 판별자-가짜: -157.50]\n",
      "에포크  32 | 시간 23.00 min | 평균 손실 >> 생성자/판별자 120.18/-33.28 [판별자-진짜:  76.19 판별자-가짜: -120.18]\n",
      "에포크  33 | 시간 23.72 min | 평균 손실 >> 생성자/판별자 152.37/-39.87 [판별자-진짜: 100.55 판별자-가짜: -152.37]\n",
      "에포크  34 | 시간 24.45 min | 평균 손실 >> 생성자/판별자 146.84/-39.32 [판별자-진짜:  90.13 판별자-가짜: -146.84]\n",
      "에포크  35 | 시간 25.18 min | 평균 손실 >> 생성자/판별자 125.57/-54.82 [판별자-진짜:  58.91 판별자-가짜: -125.57]\n",
      "에포크  36 | 시간 25.91 min | 평균 손실 >> 생성자/판별자 127.30/-36.52 [판별자-진짜:  75.67 판별자-가짜: -127.30]\n",
      "에포크  37 | 시간 26.63 min | 평균 손실 >> 생성자/판별자 132.22/-46.37 [판별자-진짜:  71.81 판별자-가짜: -132.22]\n",
      "에포크  38 | 시간 27.35 min | 평균 손실 >> 생성자/판별자 170.62/-42.58 [판별자-진짜: 116.53 판별자-가짜: -170.62]\n",
      "에포크  39 | 시간 28.08 min | 평균 손실 >> 생성자/판별자 150.63/-43.79 [판별자-진짜:  89.25 판별자-가짜: -150.63]\n",
      "에포크  40 | 시간 28.79 min | 평균 손실 >> 생성자/판별자 173.30/-48.41 [판별자-진짜: 115.90 판별자-가짜: -173.30]\n",
      "에포크  41 | 시간 29.50 min | 평균 손실 >> 생성자/판별자 182.47/-39.87 [판별자-진짜: 118.98 판별자-가짜: -182.47]\n",
      "에포크  42 | 시간 30.22 min | 평균 손실 >> 생성자/판별자 161.29/-48.19 [판별자-진짜: 102.77 판별자-가짜: -161.29]\n",
      "에포크  43 | 시간 30.93 min | 평균 손실 >> 생성자/판별자 202.96/-39.47 [판별자-진짜: 148.44 판별자-가짜: -202.96]\n",
      "에포크  44 | 시간 31.66 min | 평균 손실 >> 생성자/판별자 195.24/-34.56 [판별자-진짜: 132.93 판별자-가짜: -195.24]\n",
      "에포크  45 | 시간 32.38 min | 평균 손실 >> 생성자/판별자 172.26/-22.65 [판별자-진짜: 109.56 판별자-가짜: -172.26]\n",
      "에포크  46 | 시간 33.10 min | 평균 손실 >> 생성자/판별자 115.15/ 57.62 [판별자-진짜:  90.33 판별자-가짜: -115.15]\n",
      "에포크  47 | 시간 33.82 min | 평균 손실 >> 생성자/판별자 166.20/ -8.24 [판별자-진짜: 153.22 판별자-가짜: -166.20]\n",
      "에포크  48 | 시간 34.54 min | 평균 손실 >> 생성자/판별자 206.52/-23.51 [판별자-진짜: 178.24 판별자-가짜: -206.52]\n",
      "에포크  49 | 시간 35.25 min | 평균 손실 >> 생성자/판별자 190.67/-40.19 [판별자-진짜: 146.11 판별자-가짜: -190.67]\n",
      "에포크  50 | 시간 35.96 min | 평균 손실 >> 생성자/판별자 134.94/-36.71 [판별자-진짜:  92.93 판별자-가짜: -134.94]\n",
      "에포크  51 | 시간 36.67 min | 평균 손실 >> 생성자/판별자 174.75/-37.86 [판별자-진짜: 131.53 판별자-가짜: -174.75]\n",
      "에포크  52 | 시간 37.38 min | 평균 손실 >> 생성자/판별자 138.65/-41.13 [판별자-진짜:  90.19 판별자-가짜: -138.65]\n",
      "에포크  53 | 시간 38.09 min | 평균 손실 >> 생성자/판별자 235.46/-47.20 [판별자-진짜: 182.12 판별자-가짜: -235.46]\n",
      "에포크  54 | 시간 38.80 min | 평균 손실 >> 생성자/판별자 292.14/-50.98 [판별자-진짜: 229.36 판별자-가짜: -292.14]\n",
      "에포크  55 | 시간 39.51 min | 평균 손실 >> 생성자/판별자 309.17/-48.01 [판별자-진짜: 251.61 판별자-가짜: -309.17]\n",
      "에포크  56 | 시간 40.22 min | 평균 손실 >> 생성자/판별자 238.11/-65.00 [판별자-진짜: 161.12 판별자-가짜: -238.11]\n",
      "에포크  57 | 시간 40.93 min | 평균 손실 >> 생성자/판별자 302.59/-51.10 [판별자-진짜: 239.43 판별자-가짜: -302.59]\n",
      "에포크  58 | 시간 41.64 min | 평균 손실 >> 생성자/판별자 267.14/-57.07 [판별자-진짜: 200.29 판별자-가짜: -267.14]\n",
      "에포크  59 | 시간 42.34 min | 평균 손실 >> 생성자/판별자 249.76/-35.82 [판별자-진짜: 203.19 판별자-가짜: -249.76]\n",
      "에포크  60 | 시간 43.05 min | 평균 손실 >> 생성자/판별자 409.93/-63.22 [판별자-진짜: 333.26 판별자-가짜: -409.93]\n",
      "에포크  61 | 시간 43.76 min | 평균 손실 >> 생성자/판별자 397.11/-48.11 [판별자-진짜: 343.40 판별자-가짜: -397.11]\n",
      "에포크  62 | 시간 44.47 min | 평균 손실 >> 생성자/판별자 514.27/-66.26 [판별자-진짜: 441.50 판별자-가짜: -514.27]\n",
      "에포크  63 | 시간 45.18 min | 평균 손실 >> 생성자/판별자 566.10/-72.71 [판별자-진짜: 478.50 판별자-가짜: -566.10]\n",
      "에포크  64 | 시간 45.89 min | 평균 손실 >> 생성자/판별자 607.14/-78.96 [판별자-진짜: 519.54 판별자-가짜: -607.14]\n",
      "에포크  65 | 시간 46.60 min | 평균 손실 >> 생성자/판별자 674.40/-86.36 [판별자-진짜: 577.97 판별자-가짜: -674.40]\n",
      "에포크  66 | 시간 47.31 min | 평균 손실 >> 생성자/판별자 768.16/-74.23 [판별자-진짜: 680.29 판별자-가짜: -768.16]\n",
      "에포크  67 | 시간 48.01 min | 평균 손실 >> 생성자/판별자 454.56/-42.59 [판별자-진짜: 409.32 판별자-가짜: -454.56]\n",
      "에포크  68 | 시간 48.72 min | 평균 손실 >> 생성자/판별자 794.75/-52.75 [판별자-진짜: 695.66 판별자-가짜: -794.75]\n",
      "에포크  69 | 시간 49.42 min | 평균 손실 >> 생성자/판별자 655.27/-63.86 [판별자-진짜: 588.59 판별자-가짜: -655.27]\n",
      "에포크  70 | 시간 50.13 min | 평균 손실 >> 생성자/판별자 809.27/-89.92 [판별자-진짜: 711.89 판별자-가짜: -809.27]\n",
      "에포크  71 | 시간 50.85 min | 평균 손실 >> 생성자/판별자 1007.45/-113.33 [판별자-진짜: 873.23 판별자-가짜: -1007.45]\n",
      "에포크  72 | 시간 51.56 min | 평균 손실 >> 생성자/판별자 938.66/-122.62 [판별자-진짜: 809.26 판별자-가짜: -938.66]\n",
      "에포크  73 | 시간 52.27 min | 평균 손실 >> 생성자/판별자 940.91/-134.98 [판별자-진짜: 795.88 판별자-가짜: -940.91]\n",
      "에포크  74 | 시간 52.98 min | 평균 손실 >> 생성자/판별자 999.03/-132.42 [판별자-진짜: 851.36 판별자-가짜: -999.03]\n",
      "에포크  75 | 시간 53.69 min | 평균 손실 >> 생성자/판별자 1147.36/-168.03 [판별자-진짜: 958.92 판별자-가짜: -1147.36]\n",
      "에포크  76 | 시간 54.41 min | 평균 손실 >> 생성자/판별자 1374.61/-214.04 [판별자-진짜: 1140.18 판별자-가짜: -1374.61]\n",
      "에포크  77 | 시간 55.12 min | 평균 손실 >> 생성자/판별자 1410.99/-212.30 [판별자-진짜: 1175.37 판별자-가짜: -1410.99]\n",
      "에포크  78 | 시간 55.83 min | 평균 손실 >> 생성자/판별자 1522.71/-239.52 [판별자-진짜: 1261.16 판별자-가짜: -1522.71]\n",
      "에포크  79 | 시간 56.55 min | 평균 손실 >> 생성자/판별자 1630.12/-265.56 [판별자-진짜: 1335.89 판별자-가짜: -1630.12]\n",
      "에포크  80 | 시간 57.27 min | 평균 손실 >> 생성자/판별자 1790.91/-350.49 [판별자-진짜: 1400.00 판별자-가짜: -1790.91]\n",
      "에포크  81 | 시간 57.98 min | 평균 손실 >> 생성자/판별자 1821.34/-342.28 [판별자-진짜: 1445.73 판별자-가짜: -1821.34]\n",
      "에포크  82 | 시간 58.70 min | 평균 손실 >> 생성자/판별자 1968.89/-392.47 [판별자-진짜: 1535.95 판별자-가짜: -1968.89]\n",
      "에포크  83 | 시간 59.42 min | 평균 손실 >> 생성자/판별자 2056.48/-456.63 [판별자-진짜: 1550.57 판별자-가짜: -2056.48]\n",
      "에포크  84 | 시간 60.14 min | 평균 손실 >> 생성자/판별자 1862.22/-432.60 [판별자-진짜: 1402.40 판별자-가짜: -1862.22]\n",
      "에포크  85 | 시간 60.85 min | 평균 손실 >> 생성자/판별자 1229.62/-299.30 [판별자-진짜: 917.57 판별자-가짜: -1229.62]\n",
      "에포크  86 | 시간 61.56 min | 평균 손실 >> 생성자/판별자 1596.23/-436.82 [판별자-진짜: 1125.83 판별자-가짜: -1596.23]\n",
      "에포크  87 | 시간 62.26 min | 평균 손실 >> 생성자/판별자 1570.69/-424.02 [판별자-진짜: 1136.00 판별자-가짜: -1570.69]\n",
      "에포크  88 | 시간 62.96 min | 평균 손실 >> 생성자/판별자 1944.68/-437.87 [판별자-진짜: 1468.23 판별자-가짜: -1944.68]\n",
      "에포크  89 | 시간 63.65 min | 평균 손실 >> 생성자/판별자 2476.49/-585.25 [판별자-진짜: 1851.70 판별자-가짜: -2476.49]\n",
      "에포크  90 | 시간 64.36 min | 평균 손실 >> 생성자/판별자 1427.94/-387.85 [판별자-진짜: 1023.91 판별자-가짜: -1427.94]\n",
      "에포크  91 | 시간 65.06 min | 평균 손실 >> 생성자/판별자 3014.16/-722.51 [판별자-진짜: 2220.30 판별자-가짜: -3014.16]\n",
      "에포크  92 | 시간 65.77 min | 평균 손실 >> 생성자/판별자 3056.99/-723.64 [판별자-진짜: 2264.57 판별자-가짜: -3056.99]\n",
      "에포크  93 | 시간 66.48 min | 평균 손실 >> 생성자/판별자 3273.56/-880.77 [판별자-진짜: 2364.36 판별자-가짜: -3273.56]\n",
      "에포크  94 | 시간 67.19 min | 평균 손실 >> 생성자/판별자 2934.10/-831.60 [판별자-진짜: 2048.65 판별자-가짜: -2934.10]\n",
      "에포크  95 | 시간 67.90 min | 평균 손실 >> 생성자/판별자 3443.29/-958.07 [판별자-진짜: 2438.14 판별자-가짜: -3443.29]\n",
      "에포크  96 | 시간 68.60 min | 평균 손실 >> 생성자/판별자 3791.50/-975.72 [판별자-진짜: 2683.86 판별자-가짜: -3791.50]\n",
      "에포크  97 | 시간 69.32 min | 평균 손실 >> 생성자/판별자 4045.13/-1134.52 [판별자-진짜: 2849.60 판별자-가짜: -4045.13]\n",
      "에포크  98 | 시간 70.03 min | 평균 손실 >> 생성자/판별자 3857.99/-1047.59 [판별자-진짜: 2781.84 판별자-가짜: -3857.99]\n",
      "에포크  99 | 시간 70.74 min | 평균 손실 >> 생성자/판별자 3871.94/-1081.49 [판별자-진짜: 2752.38 판별자-가짜: -3871.94]\n",
      "에포크 100 | 시간 71.45 min | 평균 손실 >> 생성자/판별자 4323.06/-1223.38 [판별자-진짜: 3044.64 판별자-가짜: -4323.06]\n"
     ]
    }
   ],
   "source": [
    "import time\n",
    "\n",
    "\n",
    "## 옵티마이저:\n",
    "g_optimizer = tf.keras.optimizers.Adam(0.0002)\n",
    "d_optimizer = tf.keras.optimizers.Adam(0.0002)\n",
    "\n",
    "if mode_z == 'uniform':\n",
    "    fixed_z = tf.random.uniform(\n",
    "        shape=(batch_size, z_size),\n",
    "        minval=-1, maxval=1)\n",
    "elif mode_z == 'normal':\n",
    "    fixed_z = tf.random.normal(\n",
    "        shape=(batch_size, z_size))\n",
    "\n",
    "def create_samples(g_model, input_z):\n",
    "    g_output = g_model(input_z, training=False)\n",
    "    images = tf.reshape(g_output, (batch_size, *image_size))    \n",
    "    return (images+1)/2.0\n",
    "\n",
    "all_losses = []\n",
    "epoch_samples = []\n",
    "\n",
    "start_time = time.time()\n",
    "\n",
    "for epoch in range(1, num_epochs+1):\n",
    "    epoch_losses = []\n",
    "    for i,(input_z,input_real) in enumerate(mnist_trainset):\n",
    "        \n",
    "        with tf.GradientTape() as d_tape, tf.GradientTape() as g_tape:\n",
    "            g_output = gen_model(input_z, training=True)\n",
    "            \n",
    "            d_critics_real = disc_model(input_real, training=True)\n",
    "            d_critics_fake = disc_model(g_output, training=True)\n",
    "\n",
    "            ## 생성자 손실을 계산합니다:\n",
    "            g_loss = -tf.math.reduce_mean(d_critics_fake)\n",
    "\n",
    "            ## 판별자 손실을 계산합니다:\n",
    "            d_loss_real = -tf.math.reduce_mean(d_critics_real)\n",
    "            d_loss_fake =  tf.math.reduce_mean(d_critics_fake)\n",
    "            d_loss = d_loss_real + d_loss_fake\n",
    "\n",
    "            ## 그래디언트 페널티:\n",
    "            with tf.GradientTape() as gp_tape:\n",
    "                alpha = tf.random.uniform(\n",
    "                    shape=[d_critics_real.shape[0], 1, 1, 1], \n",
    "                    minval=0.0, maxval=1.0)\n",
    "                interpolated = (\n",
    "                    alpha*input_real + (1-alpha)*g_output)\n",
    "                gp_tape.watch(interpolated)\n",
    "                d_critics_intp = disc_model(interpolated)\n",
    "            \n",
    "            grads_intp = gp_tape.gradient(\n",
    "                d_critics_intp, [interpolated,])[0]\n",
    "            grads_intp_l2 = tf.sqrt(\n",
    "                tf.reduce_sum(tf.square(grads_intp), axis=[1, 2, 3]))\n",
    "            grad_penalty = tf.reduce_mean(tf.square(grads_intp_l2 - 1.0))\n",
    "        \n",
    "            d_loss = d_loss + lambda_gp*grad_penalty\n",
    "        \n",
    "        ## 최적화: 그래디언트를 계산하고 적용합니다\n",
    "        d_grads = d_tape.gradient(d_loss, disc_model.trainable_variables)\n",
    "        d_optimizer.apply_gradients(\n",
    "            grads_and_vars=zip(d_grads, disc_model.trainable_variables))\n",
    "        \n",
    "        g_grads = g_tape.gradient(g_loss, gen_model.trainable_variables)\n",
    "        g_optimizer.apply_gradients(\n",
    "            grads_and_vars=zip(g_grads, gen_model.trainable_variables))\n",
    "\n",
    "        epoch_losses.append(\n",
    "            (g_loss.numpy(), d_loss.numpy(), \n",
    "             d_loss_real.numpy(), d_loss_fake.numpy()))\n",
    "                    \n",
    "    all_losses.append(epoch_losses)\n",
    "    \n",
    "    print('에포크 {:-3d} | 시간 {:.2f} min | 평균 손실 >>'\n",
    "          ' 생성자/판별자 {:6.2f}/{:6.2f} [판별자-진짜: {:6.2f} 판별자-가짜: {:6.2f}]'\n",
    "          .format(epoch, (time.time() - start_time)/60, \n",
    "                  *list(np.mean(all_losses[-1], axis=0)))\n",
    "    )\n",
    "    \n",
    "    epoch_samples.append(\n",
    "        create_samples(gen_model, fixed_z).numpy()\n",
    "    )"
   ]
  },
  {
   "cell_type": "code",
   "execution_count": 17,
   "metadata": {
    "colab": {
     "base_uri": "https://localhost:8080/",
     "height": 460
    },
    "id": "EhyoIu75o6TX",
    "outputId": "692fd19e-edd2-42f7-94a3-6b8eecd7361f"
   },
   "outputs": [
    {
     "data": {
      "image/png": "[encoded data removed]",
      "text/plain": [
       "<Figure size 576x432 with 2 Axes>"
      ]
     },
     "metadata": {},
     "output_type": "display_data"
    }
   ],
   "source": [
    "import itertools\n",
    "\n",
    "\n",
    "fig = plt.figure(figsize=(8, 6))\n",
    "\n",
    "## 손실 그래프\n",
    "ax = fig.add_subplot(1, 1, 1)\n",
    "g_losses = [item[0] for item in itertools.chain(*all_losses)]\n",
    "d_losses = [item[1] for item in itertools.chain(*all_losses)]\n",
    "plt.plot(g_losses, label='Generator loss', alpha=0.95)\n",
    "plt.plot(d_losses, label='Discriminator loss', alpha=0.95)\n",
    "plt.legend(fontsize=20)\n",
    "ax.set_xlabel('Iteration', size=15)\n",
    "ax.set_ylabel('Loss', size=15)\n",
    "\n",
    "epochs = np.arange(1, 101)\n",
    "epoch2iter = lambda e: e*len(all_losses[-1])\n",
    "epoch_ticks = [1, 20, 40, 60, 80, 100]\n",
    "newpos   = [epoch2iter(e) for e in epoch_ticks]\n",
    "ax2 = ax.twiny()\n",
    "ax2.set_xticks(newpos)\n",
    "ax2.set_xticklabels(epoch_ticks)\n",
    "ax2.xaxis.set_ticks_position('bottom')\n",
    "ax2.xaxis.set_label_position('bottom')\n",
    "ax2.spines['bottom'].set_position(('outward', 60))\n",
    "ax2.set_xlabel('Epoch', size=15)\n",
    "ax2.set_xlim(ax.get_xlim())\n",
    "ax.tick_params(axis='both', which='major', labelsize=15)\n",
    "ax2.tick_params(axis='both', which='major', labelsize=15)\n",
    "\n",
    "plt.show()"
   ]
  },
  {
   "cell_type": "code",
   "execution_count": 18,
   "metadata": {
    "colab": {
     "base_uri": "https://localhost:8080/",
     "height": 783
    },
    "id": "FPW5iPQeo6TX",
    "outputId": "6b5c8696-9232-4baf-8e00-6b9f1711f8a0"
   },
   "outputs": [
    {
     "data": {
      "image/png": "[encoded data removed]",
      "text/plain": [
       "<Figure size 720x1008 with 30 Axes>"
      ]
     },
     "metadata": {},
     "output_type": "display_data"
    }
   ],
   "source": [
    "selected_epochs = [1, 2, 4, 10, 50, 100]\n",
    "fig = plt.figure(figsize=(10, 14))\n",
    "for i,e in enumerate(selected_epochs):\n",
    "    for j in range(5):\n",
    "        ax = fig.add_subplot(6, 5, i*5+j+1)\n",
    "        ax.set_xticks([])\n",
    "        ax.set_yticks([])\n",
    "        if j == 0:\n",
    "            ax.text(\n",
    "                -0.06, 0.5, 'Epoch {}'.format(e),\n",
    "                rotation=90, size=18, color='red',\n",
    "                horizontalalignment='right',\n",
    "                verticalalignment='center', \n",
    "                transform=ax.transAxes)\n",
    "        \n",
    "        image = epoch_samples[e-1][j]\n",
    "        ax.imshow(image, cmap='gray_r')\n",
    "\n",
    "plt.show()"
   ]
  },
  {
   "cell_type": "markdown",
   "metadata": {
    "id": "YBrkP6vWo6TY"
   },
   "source": [
    "## 모드 붕괴"
   ]
  },
  {
   "cell_type": "code",
   "execution_count": 19,
   "metadata": {
    "colab": {
     "base_uri": "https://localhost:8080/",
     "height": 622
    },
    "id": "y0a0y7LEo6TY",
    "outputId": "511b863b-7512-44e2-b7ec-08608894eaa9"
   },
   "outputs": [
    {
     "data": {
      "text/html": [
       "<img src=\"https://git.io/JLjcT\" width=\"600\"/>"
      ],
      "text/plain": [
       "<IPython.core.display.Image object>"
      ]
     },
     "execution_count": null,
     "metadata": {},
     "output_type": "execute_result"
    }
   ],
   "source": [
    "Image(url='https://git.io/JLjcT', width=600)"
   ]
  }
 ],
 "metadata": {
  "accelerator": "GPU",
  "colab": {
   "collapsed_sections": [],
   "machine_shape": "hm",
   "name": "ch17-DCGAN.ipynb",
   "provenance": []
  },
  "kernelspec": {
   "display_name": "Python 3",
   "language": "python",
   "name": "python3"
  },
  "language_info": {
   "codemirror_mode": {
    "name": "ipython",
    "version": 3
   },
   "file_extension": ".py",
   "mimetype": "text/x-python",
   "name": "python",
   "nbconvert_exporter": "python",
   "pygments_lexer": "ipython3",
   "version": "3.7.3"
  }
 },
 "nbformat": 4,
 "nbformat_minor": 1
}
