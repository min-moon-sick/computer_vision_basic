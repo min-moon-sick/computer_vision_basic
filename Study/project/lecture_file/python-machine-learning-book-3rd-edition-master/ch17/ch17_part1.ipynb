{
 "cells": [
  {
   "cell_type": "markdown",
   "metadata": {
    "id": "9y222HgfM-OA"
   },
   "source": [
    "# 머신 러닝 교과서 3판"
   ]
  },
  {
   "cell_type": "markdown",
   "metadata": {
    "id": "-5SXCZX_M-OD"
   },
   "source": [
    "# 17장 - 새로운 데이터 합성을 위한 생성적 적대 신경망 (1/2)"
   ]
  },
  {
   "cell_type": "markdown",
   "metadata": {
    "id": "hx1MAB0FbouH"
   },
   "source": [
    "**아래 링크를 통해 이 노트북을 주피터 노트북 뷰어(nbviewer.jupyter.org)로 보거나 구글 코랩(colab.research.google.com)에서 실행할 수 있습니다.**\n",
    "\n",
    "<table class=\"tfo-notebook-buttons\" align=\"left\">\n",
    "  <td>\n",
    "    <a target=\"_blank\" href=\"https://nbviewer.org/github/rickiepark/python-machine-learning-book-3rd-edition/blob/master/ch17/ch17_part1.ipynb\"><img src=\"https://jupyter.org/assets/share.png\" width=\"60\" />주피터 노트북 뷰어로 보기</a>\n",
    "  </td>\n",
    "  <td>\n",
    "    <a target=\"_blank\" href=\"https://colab.research.google.com/github/rickiepark/python-machine-learning-book-3rd-edition/blob/master/ch17/ch17_part1.ipynb\"><img src=\"https://www.tensorflow.org/images/colab_logo_32px.png\" />구글 코랩(Colab)에서 실행하기</a>\n",
    "  </td>\n",
    "</table>"
   ]
  },
  {
   "cell_type": "markdown",
   "metadata": {
    "id": "4wzfKSEhbouH"
   },
   "source": [
    "### 목차"
   ]
  },
  {
   "cell_type": "markdown",
   "metadata": {
    "id": "1vc8_zr4bouH"
   },
   "source": [
    "- 생성적 적대 신경망 소개\n",
    "    - 오토인코더\n",
    "    - 새로운 데이터 합성을 위한 생성 모델\n",
    "    - GAN으로 새로운 샘플 생성하기\n",
    "    - GAN의 생성자와 판별자 손실 함수 이해하기\n",
    "- 밑바닥부터 GAN 모델 구현하기\n",
    "    - 구글 코랩에서 GAN 모델 훈련하기\n",
    "    - 생성자와 판별자 신경망 구현하기\n",
    "    - 훈련 데이터셋 정의하기\n",
    "    - GAN 모델 훈련하기"
   ]
  },
  {
   "cell_type": "code",
   "execution_count": 1,
   "metadata": {
    "id": "2AfJgihdM-OE"
   },
   "outputs": [],
   "source": [
    "from IPython.display import Image"
   ]
  },
  {
   "cell_type": "markdown",
   "metadata": {
    "id": "41bk3eM5M-OE"
   },
   "source": [
    "# 생성적 적대 신경망 소개\n",
    "\n",
    "## 오토인코더"
   ]
  },
  {
   "cell_type": "code",
   "execution_count": 2,
   "metadata": {
    "colab": {
     "base_uri": "https://localhost:8080/",
     "height": 470
    },
    "id": "phbH6zGQM-OE",
    "outputId": "03557b49-3992-47c2-e2a7-064ad791b76c"
   },
   "outputs": [
    {
     "data": {
      "text/html": [
       "<img src=\"https://git.io/JLAQ2\" width=\"500\"/>"
      ],
      "text/plain": [
       "<IPython.core.display.Image object>"
      ]
     },
     "execution_count": 2,
     "metadata": {},
     "output_type": "execute_result"
    }
   ],
   "source": [
    "Image(url='https://git.io/JLAQ2', width=500)"
   ]
  },
  {
   "cell_type": "markdown",
   "metadata": {
    "id": "Cuw0DGR2M-OF"
   },
   "source": [
    "## 새로운 데이터 합성을 위한 생성 모델"
   ]
  },
  {
   "cell_type": "code",
   "execution_count": 3,
   "metadata": {
    "colab": {
     "base_uri": "https://localhost:8080/",
     "height": 437
    },
    "id": "ziTpZ3G5M-OF",
    "outputId": "e29b3a97-91e9-41ce-db86-b955d9349de5"
   },
   "outputs": [
    {
     "data": {
      "text/html": [
       "<img src=\"https://git.io/JLAQH\" width=\"700\"/>"
      ],
      "text/plain": [
       "<IPython.core.display.Image object>"
      ]
     },
     "execution_count": 3,
     "metadata": {},
     "output_type": "execute_result"
    }
   ],
   "source": [
    "Image(url='https://git.io/JLAQH', width=700)"
   ]
  },
  {
   "cell_type": "markdown",
   "metadata": {
    "id": "U1DsTJvLM-OF"
   },
   "source": [
    "## GAN으로 새로운 샘플 생성하기"
   ]
  },
  {
   "cell_type": "code",
   "execution_count": 4,
   "metadata": {
    "colab": {
     "base_uri": "https://localhost:8080/",
     "height": 338
    },
    "id": "2DijKimVM-OF",
    "outputId": "c64f3c41-c334-4c7c-c78d-1d1b427fc962"
   },
   "outputs": [
    {
     "data": {
      "text/html": [
       "<img src=\"https://git.io/JLAQ7\" width=\"700\"/>"
      ],
      "text/plain": [
       "<IPython.core.display.Image object>"
      ]
     },
     "execution_count": 4,
     "metadata": {},
     "output_type": "execute_result"
    }
   ],
   "source": [
    "Image(url='https://git.io/JLAQ7', width=700)"
   ]
  },
  {
   "cell_type": "markdown",
   "metadata": {
    "id": "iamOayQfM-OF"
   },
   "source": [
    "## GAN의 생성자와 판별자 손실 함수 이해하기"
   ]
  },
  {
   "cell_type": "code",
   "execution_count": 5,
   "metadata": {
    "colab": {
     "base_uri": "https://localhost:8080/",
     "height": 516
    },
    "id": "P0SEKNGpM-OG",
    "outputId": "836d0202-096d-49a5-d754-e59752bec750"
   },
   "outputs": [
    {
     "data": {
      "text/html": [
       "<img src=\"https://git.io/JLAQF\" width=\"800\"/>"
      ],
      "text/plain": [
       "<IPython.core.display.Image object>"
      ]
     },
     "execution_count": 5,
     "metadata": {},
     "output_type": "execute_result"
    }
   ],
   "source": [
    "Image(url='https://git.io/JLAQF', width=800)"
   ]
  },
  {
   "cell_type": "markdown",
   "metadata": {
    "id": "mgleEEF1M-OG"
   },
   "source": [
    "# 밑바닥부터 GAN 모델 구현하기"
   ]
  },
  {
   "cell_type": "markdown",
   "metadata": {
    "id": "a1UBoKm_M-OG"
   },
   "source": [
    "## 구글 코랩에서 GAN 모델 훈련하기"
   ]
  },
  {
   "cell_type": "code",
   "execution_count": 6,
   "metadata": {
    "colab": {
     "base_uri": "https://localhost:8080/",
     "height": 507
    },
    "id": "sBdI0g22M-OG",
    "outputId": "3dd803ea-f4ad-4a6e-be71-3365e3a839fb"
   },
   "outputs": [
    {
     "data": {
      "text/html": [
       "<img src=\"https://git.io/JLAQb\" width=\"700\"/>"
      ],
      "text/plain": [
       "<IPython.core.display.Image object>"
      ]
     },
     "execution_count": 6,
     "metadata": {},
     "output_type": "execute_result"
    }
   ],
   "source": [
    "Image(url='https://git.io/JLAQb', width=700)"
   ]
  },
  {
   "cell_type": "code",
   "execution_count": 7,
   "metadata": {
    "colab": {
     "base_uri": "https://localhost:8080/",
     "height": 526
    },
    "id": "Mf0pXqraM-OH",
    "outputId": "a6448bb0-2e1f-4f74-8d4b-3f24938a8f24"
   },
   "outputs": [
    {
     "data": {
      "text/html": [
       "<img src=\"https://git.io/JLAQN\" width=\"600\"/>"
      ],
      "text/plain": [
       "<IPython.core.display.Image object>"
      ]
     },
     "execution_count": 7,
     "metadata": {},
     "output_type": "execute_result"
    }
   ],
   "source": [
    "Image(url='https://git.io/JLAQN', width=600)"
   ]
  },
  {
   "cell_type": "code",
   "execution_count": 8,
   "metadata": {
    "colab": {
     "base_uri": "https://localhost:8080/",
     "height": 534
    },
    "id": "Nd67sNNIM-OH",
    "outputId": "23a4b833-5375-4e01-dd59-8d797a98da59"
   },
   "outputs": [
    {
     "data": {
      "text/html": [
       "<img src=\"https://git.io/JLAQA\" width=\"600\"/>"
      ],
      "text/plain": [
       "<IPython.core.display.Image object>"
      ]
     },
     "execution_count": 8,
     "metadata": {},
     "output_type": "execute_result"
    }
   ],
   "source": [
    "Image(url='https://git.io/JLAQA', width=600)"
   ]
  },
  {
   "cell_type": "code",
   "execution_count": 9,
   "metadata": {
    "colab": {
     "base_uri": "https://localhost:8080/"
    },
    "id": "_khN3hi1xxQ-",
    "outputId": "c0c6fc5d-ed2c-40e0-81fa-642e7f27f5b6"
   },
   "outputs": [
    {
     "name": "stdout",
     "output_type": "stream",
     "text": [
      "2.6.0\n",
      "GPU 여부: True\n",
      "/device:GPU:0\n"
     ]
    }
   ],
   "source": [
    "import tensorflow as tf\n",
    "print(tf.__version__)\n",
    "\n",
    "print(\"GPU 여부:\", len(tf.config.list_physical_devices('GPU')) > 0)\n",
    "\n",
    "if tf.config.list_physical_devices('GPU'):\n",
    "    device_name = tf.test.gpu_device_name()\n",
    "else:\n",
    "    device_name = 'cpu:0'\n",
    "    \n",
    "print(device_name)"
   ]
  },
  {
   "cell_type": "code",
   "execution_count": 10,
   "metadata": {
    "colab": {
     "base_uri": "https://localhost:8080/"
    },
    "id": "ceNFHOHHNVwz",
    "outputId": "fdebd8a5-c92b-4959-9e44-32a3f44f69fd"
   },
   "outputs": [
    {
     "name": "stdout",
     "output_type": "stream",
     "text": [
      "WARNING:tensorflow:From <ipython-input-10-b9c5066405f4>:1: get_memory_usage (from tensorflow.python.framework.config) is deprecated and will be removed in a future version.\n",
      "Instructions for updating:\n",
      "Use tf.config.experimental.get_memory_info(device)['current'] instead.\n"
     ]
    },
    {
     "data": {
      "text/plain": [
       "0"
      ]
     },
     "execution_count": 10,
     "metadata": {},
     "output_type": "execute_result"
    }
   ],
   "source": [
    "tf.config.experimental.get_memory_usage('GPU:0')"
   ]
  },
  {
   "cell_type": "code",
   "execution_count": 11,
   "metadata": {
    "colab": {
     "base_uri": "https://localhost:8080/"
    },
    "id": "5sNcfuwHPQMs",
    "outputId": "f9531ae9-9621-4228-faf0-891b2ae7d22d"
   },
   "outputs": [
    {
     "name": "stdout",
     "output_type": "stream",
     "text": [
      "Sat Aug 21 11:07:48 2021       \n",
      "+-----------------------------------------------------------------------------+\n",
      "| NVIDIA-SMI 470.57.02    Driver Version: 460.32.03    CUDA Version: 11.2     |\n",
      "|-------------------------------+----------------------+----------------------+\n",
      "| GPU  Name        Persistence-M| Bus-Id        Disp.A | Volatile Uncorr. ECC |\n",
      "| Fan  Temp  Perf  Pwr:Usage/Cap|         Memory-Usage | GPU-Util  Compute M. |\n",
      "|                               |                      |               MIG M. |\n",
      "|===============================+======================+======================|\n",
      "|   0  Tesla T4            Off  | 00000000:00:04.0 Off |                    0 |\n",
      "| N/A   57C    P0    29W /  70W |    220MiB / 15109MiB |      0%      Default |\n",
      "|                               |                      |                  N/A |\n",
      "+-------------------------------+----------------------+----------------------+\n",
      "                                                                               \n",
      "+-----------------------------------------------------------------------------+\n",
      "| Processes:                                                                  |\n",
      "|  GPU   GI   CI        PID   Type   Process name                  GPU Memory |\n",
      "|        ID   ID                                                   Usage      |\n",
      "|=============================================================================|\n",
      "|  No running processes found                                                 |\n",
      "+-----------------------------------------------------------------------------+\n"
     ]
    }
   ],
   "source": [
    "!nvidia-smi"
   ]
  },
  {
   "cell_type": "code",
   "execution_count": 12,
   "metadata": {
    "colab": {
     "base_uri": "https://localhost:8080/"
    },
    "id": "4_yH3L4wTOLb",
    "outputId": "bfd350b6-45ab-43b2-8c4e-0a56ecddc581"
   },
   "outputs": [
    {
     "name": "stdout",
     "output_type": "stream",
     "text": [
      "No LSB modules are available.\n",
      "Distributor ID:\tUbuntu\n",
      "Description:\tUbuntu 18.04.5 LTS\n",
      "Release:\t18.04\n",
      "Codename:\tbionic\n"
     ]
    }
   ],
   "source": [
    "!lsb_release -a"
   ]
  },
  {
   "cell_type": "code",
   "execution_count": 13,
   "metadata": {
    "id": "ehoy80rqwNnl"
   },
   "outputs": [],
   "source": [
    "#from google.colab import drive\n",
    "#drive.mount('/content/drive/')"
   ]
  },
  {
   "cell_type": "markdown",
   "metadata": {
    "id": "jHHcQfM2M-OI"
   },
   "source": [
    "## 생성자와 판별자 신경망 구현하기"
   ]
  },
  {
   "cell_type": "code",
   "execution_count": 14,
   "metadata": {
    "colab": {
     "base_uri": "https://localhost:8080/",
     "height": 474
    },
    "id": "ig_rZtXqM-OI",
    "outputId": "60e730d7-8851-4e54-b328-0c9653b546ed"
   },
   "outputs": [
    {
     "data": {
      "text/html": [
       "<img src=\"https://git.io/JLAQp\" width=\"600\"/>"
      ],
      "text/plain": [
       "<IPython.core.display.Image object>"
      ]
     },
     "execution_count": 14,
     "metadata": {},
     "output_type": "execute_result"
    }
   ],
   "source": [
    "Image(url='https://git.io/JLAQp', width=600)"
   ]
  },
  {
   "cell_type": "code",
   "execution_count": 15,
   "metadata": {
    "colab": {
     "base_uri": "https://localhost:8080/",
     "height": 360
    },
    "id": "uc4FQzczM-OJ",
    "outputId": "76137b33-5c3e-4b5e-c988-ad7343905acc"
   },
   "outputs": [
    {
     "data": {
      "text/html": [
       "<img src=\"https://git.io/JLAQh\" width=\"600\"/>"
      ],
      "text/plain": [
       "<IPython.core.display.Image object>"
      ]
     },
     "execution_count": 15,
     "metadata": {},
     "output_type": "execute_result"
    }
   ],
   "source": [
    "Image(url='https://git.io/JLAQh', width=600)"
   ]
  },
  {
   "cell_type": "code",
   "execution_count": 16,
   "metadata": {
    "id": "FRh8E66HwXRL"
   },
   "outputs": [],
   "source": [
    "import tensorflow as tf\n",
    "import tensorflow_datasets as tfds\n",
    "import numpy as np\n",
    "import matplotlib.pyplot as plt"
   ]
  },
  {
   "cell_type": "code",
   "execution_count": 17,
   "metadata": {
    "id": "tOL56FmXwoL-"
   },
   "outputs": [],
   "source": [
    "## 생성자 함수를 정의합니다:\n",
    "def make_generator_network(\n",
    "        num_hidden_layers=1,\n",
    "        num_hidden_units=100,\n",
    "        num_output_units=784):\n",
    "    model = tf.keras.Sequential()\n",
    "    for i in range(num_hidden_layers):\n",
    "        model.add(\n",
    "            tf.keras.layers.Dense(\n",
    "                units=num_hidden_units, \n",
    "                use_bias=False)\n",
    "            )\n",
    "        model.add(tf.keras.layers.LeakyReLU())\n",
    "        \n",
    "    model.add(tf.keras.layers.Dense(\n",
    "        units=num_output_units, activation='tanh'))\n",
    "    return model\n",
    "\n",
    "## 판별자 함수를 정의합니다:\n",
    "def make_discriminator_network(\n",
    "        num_hidden_layers=1,\n",
    "        num_hidden_units=100,\n",
    "        num_output_units=1):\n",
    "    model = tf.keras.Sequential()\n",
    "    for i in range(num_hidden_layers):\n",
    "        model.add(tf.keras.layers.Dense(units=num_hidden_units))\n",
    "        model.add(tf.keras.layers.LeakyReLU())\n",
    "        model.add(tf.keras.layers.Dropout(rate=0.5))\n",
    "        \n",
    "    model.add(\n",
    "        tf.keras.layers.Dense(\n",
    "            units=num_output_units, \n",
    "            activation=None)\n",
    "        )\n",
    "    return model"
   ]
  },
  {
   "cell_type": "code",
   "execution_count": 18,
   "metadata": {
    "colab": {
     "base_uri": "https://localhost:8080/"
    },
    "id": "9Z4JQb9MxD5p",
    "outputId": "ca106474-a221-4a09-ff8a-1f9297b0ac37"
   },
   "outputs": [
    {
     "name": "stdout",
     "output_type": "stream",
     "text": [
      "Model: \"sequential\"\n",
      "_________________________________________________________________\n",
      "Layer (type)                 Output Shape              Param #   \n",
      "=================================================================\n",
      "dense (Dense)                (None, 100)               2000      \n",
      "_________________________________________________________________\n",
      "leaky_re_lu (LeakyReLU)      (None, 100)               0         \n",
      "_________________________________________________________________\n",
      "dense_1 (Dense)              (None, 784)               79184     \n",
      "=================================================================\n",
      "Total params: 81,184\n",
      "Trainable params: 81,184\n",
      "Non-trainable params: 0\n",
      "_________________________________________________________________\n"
     ]
    }
   ],
   "source": [
    "image_size = (28, 28)\n",
    "z_size = 20\n",
    "mode_z = 'uniform'  # 'uniform' vs. 'normal'\n",
    "gen_hidden_layers = 1\n",
    "gen_hidden_size = 100\n",
    "disc_hidden_layers = 1\n",
    "disc_hidden_size = 100\n",
    "\n",
    "tf.random.set_seed(1)\n",
    "\n",
    "gen_model = make_generator_network(\n",
    "    num_hidden_layers=gen_hidden_layers, \n",
    "    num_hidden_units=gen_hidden_size,\n",
    "    num_output_units=np.prod(image_size))\n",
    "\n",
    "gen_model.build(input_shape=(None, z_size))\n",
    "gen_model.summary()"
   ]
  },
  {
   "cell_type": "code",
   "execution_count": 19,
   "metadata": {
    "colab": {
     "base_uri": "https://localhost:8080/"
    },
    "id": "QAhbOUZHxN1b",
    "outputId": "06c277eb-e7a1-4dfa-9b50-0d11ddebe49f"
   },
   "outputs": [
    {
     "name": "stdout",
     "output_type": "stream",
     "text": [
      "Model: \"sequential_1\"\n",
      "_________________________________________________________________\n",
      "Layer (type)                 Output Shape              Param #   \n",
      "=================================================================\n",
      "dense_2 (Dense)              (None, 100)               78500     \n",
      "_________________________________________________________________\n",
      "leaky_re_lu_1 (LeakyReLU)    (None, 100)               0         \n",
      "_________________________________________________________________\n",
      "dropout (Dropout)            (None, 100)               0         \n",
      "_________________________________________________________________\n",
      "dense_3 (Dense)              (None, 1)                 101       \n",
      "=================================================================\n",
      "Total params: 78,601\n",
      "Trainable params: 78,601\n",
      "Non-trainable params: 0\n",
      "_________________________________________________________________\n"
     ]
    }
   ],
   "source": [
    "disc_model = make_discriminator_network(\n",
    "    num_hidden_layers=disc_hidden_layers,\n",
    "    num_hidden_units=disc_hidden_size)\n",
    "\n",
    "disc_model.build(input_shape=(None, np.prod(image_size)))\n",
    "disc_model.summary()"
   ]
  },
  {
   "cell_type": "markdown",
   "metadata": {
    "id": "edHUQPQxM-OK"
   },
   "source": [
    "## 훈련 데이터셋 정의하기"
   ]
  },
  {
   "cell_type": "code",
   "execution_count": 20,
   "metadata": {
    "colab": {
     "base_uri": "https://localhost:8080/",
     "height": 276,
     "referenced_widgets": [
      "0aba11ef99204a2e9da2ded94decfa63",
      "deb8f1b8e7ac420385784ede5614893d",
      "eaad5ff14d9742c2b8d7d24c7275eb36",
      "31fecdb6a0ef46e48370f930a8c4bf4e",
      "143fc1816e484b1aa1201a6a351de616",
      "60e521a82f8847a68bc39575831ae3de",
      "5cae2d156acf4fedab62532ba81a364b",
      "358941583a784ac4aefe8e628647648d",
      "e4021f7dc20a4238b9351dff048641ec",
      "9588b9f1579a4ecd958985f7fddc4fa7",
      "c3af75f9ae4249648f1d2b4a0934a696"
     ]
    },
    "id": "ApQ1ICJixf2w",
    "outputId": "0df3fa7a-4d20-4e70-9def-c7a073a27d78"
   },
   "outputs": [
    {
     "name": "stdout",
     "output_type": "stream",
     "text": [
      "\u001b[1mDownloading and preparing dataset mnist/3.0.1 (download: 11.06 MiB, generated: 21.00 MiB, total: 32.06 MiB) to /root/tensorflow_datasets/mnist/3.0.1...\u001b[0m\n"
     ]
    },
    {
     "name": "stderr",
     "output_type": "stream",
     "text": [
      "WARNING:absl:Dataset mnist is hosted on GCS. It will automatically be downloaded to your\n",
      "local data directory. If you'd instead prefer to read directly from our public\n",
      "GCS bucket (recommended if you're running on GCP), you can instead pass\n",
      "`try_gcs=True` to `tfds.load` or set `data_dir=gs://tfds-data/datasets`.\n",
      "\n"
     ]
    },
    {
     "data": {
      "application/vnd.jupyter.widget-view+json": {
       "model_id": "0aba11ef99204a2e9da2ded94decfa63",
       "version_major": 2,
       "version_minor": 0
      },
      "text/plain": [
       "Dl Completed...:   0%|          | 0/4 [00:00<?, ? file/s]"
      ]
     },
     "metadata": {},
     "output_type": "display_data"
    },
    {
     "name": "stdout",
     "output_type": "stream",
     "text": [
      "\n",
      "\u001b[1mDataset mnist downloaded and prepared to /root/tensorflow_datasets/mnist/3.0.1. Subsequent calls will reuse this data.\u001b[0m\n",
      "전처리 전:  \n",
      "dtype:  <dtype: 'uint8'>  최소: 0 최대: 255\n",
      "전처리 후:  \n",
      "dtype:  <dtype: 'float32'>  최소: -0.8737728595733643 최대: 0.9460210800170898\n"
     ]
    }
   ],
   "source": [
    "mnist_bldr = tfds.builder('mnist')\n",
    "mnist_bldr.download_and_prepare()\n",
    "mnist = mnist_bldr.as_dataset(shuffle_files=False)\n",
    "\n",
    "def preprocess(ex, mode='uniform'):\n",
    "    image = ex['image']\n",
    "    image = tf.image.convert_image_dtype(image, tf.float32)\n",
    "    image = tf.reshape(image, [-1])\n",
    "    image = image*2 - 1.0\n",
    "    if mode == 'uniform':\n",
    "        input_z = tf.random.uniform(\n",
    "            shape=(z_size,), minval=-1.0, maxval=1.0)\n",
    "    elif mode == 'normal':\n",
    "        input_z = tf.random.normal(shape=(z_size,))\n",
    "    return input_z, image\n",
    "\n",
    "\n",
    "\n",
    "mnist_trainset = mnist['train']\n",
    "\n",
    "print('전처리 전:  ')\n",
    "example = next(iter(mnist_trainset))['image']\n",
    "print('dtype: ', example.dtype, ' 최소: {} 최대: {}'.format(np.min(example), np.max(example)))\n",
    "\n",
    "mnist_trainset = mnist_trainset.map(preprocess)\n",
    "\n",
    "print('전처리 후:  ')\n",
    "example = next(iter(mnist_trainset))[0]\n",
    "print('dtype: ', example.dtype, ' 최소: {} 최대: {}'.format(np.min(example), np.max(example)))"
   ]
  },
  {
   "cell_type": "markdown",
   "metadata": {
    "id": "HT57CGAz0RDr"
   },
   "source": [
    " * **데이터 흐름을 단계별로 밟아보기**"
   ]
  },
  {
   "cell_type": "code",
   "execution_count": 21,
   "metadata": {
    "colab": {
     "base_uri": "https://localhost:8080/"
    },
    "id": "kdAXXUtryFGs",
    "outputId": "bd46ff0e-fda8-4cf5-f4df-7cb584acc0cd"
   },
   "outputs": [
    {
     "name": "stdout",
     "output_type": "stream",
     "text": [
      "input-z -- 크기: (32, 20)\n",
      "input-real -- 크기: (32, 784)\n",
      "생성자 출력 -- 크기: (32, 784)\n",
      "판별자 (진짜) -- 크기: (32, 1)\n",
      "판별자 (가짜) -- 크기: (32, 1)\n"
     ]
    }
   ],
   "source": [
    "mnist_trainset = mnist_trainset.batch(32, drop_remainder=True)\n",
    "input_z, input_real = next(iter(mnist_trainset))\n",
    "print('input-z -- 크기:', input_z.shape)\n",
    "print('input-real -- 크기:', input_real.shape)\n",
    "\n",
    "g_output = gen_model(input_z)\n",
    "print('생성자 출력 -- 크기:', g_output.shape)\n",
    "\n",
    "d_logits_real = disc_model(input_real)\n",
    "d_logits_fake = disc_model(g_output)\n",
    "print('판별자 (진짜) -- 크기:', d_logits_real.shape)\n",
    "print('판별자 (가짜) -- 크기:', d_logits_fake.shape)"
   ]
  },
  {
   "cell_type": "markdown",
   "metadata": {
    "id": "Nb2H-Ac3M-OK"
   },
   "source": [
    "## GAN 모델 훈련하기"
   ]
  },
  {
   "cell_type": "code",
   "execution_count": 22,
   "metadata": {
    "colab": {
     "base_uri": "https://localhost:8080/"
    },
    "id": "-c9xVvjJySZk",
    "outputId": "4912495c-c6e7-40b9-eaf3-b6184e703454"
   },
   "outputs": [
    {
     "name": "stdout",
     "output_type": "stream",
     "text": [
      "생성자 손실: 0.7355\n",
      "판별자 손실: 진짜 1.5073 가짜 0.6583\n"
     ]
    }
   ],
   "source": [
    "loss_fn = tf.keras.losses.BinaryCrossentropy(from_logits=True)\n",
    "\n",
    "## 생성자 손실\n",
    "g_labels_real = tf.ones_like(d_logits_fake)\n",
    "g_loss = loss_fn(y_true=g_labels_real, y_pred=d_logits_fake)\n",
    "print('생성자 손실: {:.4f}'.format(g_loss))\n",
    "\n",
    "## 판별자 손실\n",
    "d_labels_real = tf.ones_like(d_logits_real)\n",
    "d_labels_fake = tf.zeros_like(d_logits_fake)\n",
    "\n",
    "d_loss_real = loss_fn(y_true=d_labels_real, y_pred=d_logits_real)\n",
    "d_loss_fake = loss_fn(y_true=d_labels_fake, y_pred=d_logits_fake)\n",
    "print('판별자 손실: 진짜 {:.4f} 가짜 {:.4f}'\n",
    "      .format(d_loss_real.numpy(), d_loss_fake.numpy()))"
   ]
  },
  {
   "cell_type": "markdown",
   "metadata": {
    "id": "jtxdTVyF0KCF"
   },
   "source": [
    " * **최종 훈련**"
   ]
  },
  {
   "cell_type": "code",
   "execution_count": 23,
   "metadata": {
    "colab": {
     "base_uri": "https://localhost:8080/"
    },
    "id": "yeFKLGNfAF5J",
    "outputId": "2630b60f-bb27-4b3c-8d69-3132de6e25f1"
   },
   "outputs": [
    {
     "name": "stdout",
     "output_type": "stream",
     "text": [
      "에포크 001 | 시간 0.43 min | 평균 손실 >> 생성자/판별자 2.8619/0.2890 [판별자-진짜: 0.0333 판별자-가짜: 0.2557]\n",
      "에포크 002 | 시간 0.80 min | 평균 손실 >> 생성자/판별자 5.2556/0.3357 [판별자-진짜: 0.1082 판별자-가짜: 0.2275]\n",
      "에포크 003 | 시간 1.18 min | 평균 손실 >> 생성자/판별자 3.2048/0.6823 [판별자-진짜: 0.3033 판별자-가짜: 0.3791]\n",
      "에포크 004 | 시간 1.56 min | 평균 손실 >> 생성자/판별자 2.2370/0.8360 [판별자-진짜: 0.4271 판별자-가짜: 0.4089]\n",
      "에포크 005 | 시간 1.94 min | 평균 손실 >> 생성자/판별자 2.1083/0.8131 [판별자-진짜: 0.4385 판별자-가짜: 0.3746]\n",
      "에포크 006 | 시간 2.31 min | 평균 손실 >> 생성자/판별자 1.7609/0.9193 [판별자-진짜: 0.4988 판별자-가짜: 0.4204]\n",
      "에포크 007 | 시간 2.69 min | 평균 손실 >> 생성자/판별자 1.5653/0.9947 [판별자-진짜: 0.5352 판별자-가짜: 0.4595]\n",
      "에포크 008 | 시간 3.07 min | 평균 손실 >> 생성자/판별자 1.5385/0.9672 [판별자-진짜: 0.5279 판별자-가짜: 0.4393]\n",
      "에포크 009 | 시간 3.44 min | 평균 손실 >> 생성자/판별자 1.5485/0.9928 [판별자-진짜: 0.5411 판별자-가짜: 0.4517]\n",
      "에포크 010 | 시간 3.82 min | 평균 손실 >> 생성자/판별자 1.2947/1.1119 [판별자-진짜: 0.5925 판별자-가짜: 0.5194]\n",
      "에포크 011 | 시간 4.20 min | 평균 손실 >> 생성자/판별자 1.2626/1.1474 [판별자-진짜: 0.5971 판별자-가짜: 0.5503]\n",
      "에포크 012 | 시간 4.58 min | 평균 손실 >> 생성자/판별자 1.3056/1.0718 [판별자-진짜: 0.5747 판별자-가짜: 0.4971]\n",
      "에포크 013 | 시간 4.96 min | 평균 손실 >> 생성자/판별자 1.3801/1.0893 [판별자-진짜: 0.5682 판별자-가짜: 0.5211]\n",
      "에포크 014 | 시간 5.33 min | 평균 손실 >> 생성자/판별자 1.2757/1.1325 [판별자-진짜: 0.5884 판별자-가짜: 0.5441]\n",
      "에포크 015 | 시간 5.71 min | 평균 손실 >> 생성자/판별자 1.2446/1.1352 [판별자-진짜: 0.5898 판별자-가짜: 0.5454]\n",
      "에포크 016 | 시간 6.08 min | 평균 손실 >> 생성자/판별자 1.1949/1.1750 [판별자-진짜: 0.6070 판별자-가짜: 0.5681]\n",
      "에포크 017 | 시간 6.46 min | 평균 손실 >> 생성자/판별자 1.1773/1.1635 [판별자-진짜: 0.6024 판별자-가짜: 0.5611]\n",
      "에포크 018 | 시간 6.83 min | 평균 손실 >> 생성자/판별자 1.1617/1.1796 [판별자-진짜: 0.6074 판별자-가짜: 0.5722]\n",
      "에포크 019 | 시간 7.21 min | 평균 손실 >> 생성자/판별자 1.1599/1.1891 [판별자-진짜: 0.6080 판별자-가짜: 0.5811]\n",
      "에포크 020 | 시간 7.58 min | 평균 손실 >> 생성자/판별자 1.1158/1.1952 [판별자-진짜: 0.6150 판별자-가짜: 0.5802]\n",
      "에포크 021 | 시간 7.96 min | 평균 손실 >> 생성자/판별자 1.1030/1.2155 [판별자-진짜: 0.6204 판별자-가짜: 0.5950]\n",
      "에포크 022 | 시간 8.34 min | 평균 손실 >> 생성자/판별자 1.0918/1.2313 [판별자-진짜: 0.6269 판별자-가짜: 0.6043]\n",
      "에포크 023 | 시간 8.71 min | 평균 손실 >> 생성자/판별자 1.0641/1.2303 [판별자-진짜: 0.6283 판별자-가짜: 0.6020]\n",
      "에포크 024 | 시간 9.09 min | 평균 손실 >> 생성자/판별자 1.0718/1.2311 [판별자-진짜: 0.6267 판별자-가짜: 0.6044]\n",
      "에포크 025 | 시간 9.46 min | 평균 손실 >> 생성자/판별자 1.0523/1.2420 [판별자-진짜: 0.6292 판별자-가짜: 0.6128]\n",
      "에포크 026 | 시간 9.84 min | 평균 손실 >> 생성자/판별자 1.0049/1.2597 [판별자-진짜: 0.6391 판별자-가짜: 0.6206]\n",
      "에포크 027 | 시간 10.21 min | 평균 손실 >> 생성자/판별자 1.0539/1.2291 [판별자-진짜: 0.6255 판별자-가짜: 0.6036]\n",
      "에포크 028 | 시간 10.59 min | 평균 손실 >> 생성자/판별자 1.0843/1.2102 [판별자-진짜: 0.6155 판별자-가짜: 0.5947]\n",
      "에포크 029 | 시간 10.97 min | 평균 손실 >> 생성자/판별자 1.0590/1.2291 [판별자-진짜: 0.6237 판별자-가짜: 0.6054]\n",
      "에포크 030 | 시간 11.35 min | 평균 손실 >> 생성자/판별자 1.0700/1.2376 [판별자-진짜: 0.6266 판별자-가짜: 0.6110]\n",
      "에포크 031 | 시간 11.72 min | 평균 손실 >> 생성자/판별자 1.0408/1.2411 [판별자-진짜: 0.6277 판별자-가짜: 0.6134]\n",
      "에포크 032 | 시간 12.10 min | 평균 손실 >> 생성자/판별자 0.9812/1.2463 [판별자-진짜: 0.6323 판별자-가짜: 0.6140]\n",
      "에포크 033 | 시간 12.47 min | 평균 손실 >> 생성자/판별자 1.0411/1.2556 [판별자-진짜: 0.6327 판별자-가짜: 0.6228]\n",
      "에포크 034 | 시간 12.85 min | 평균 손실 >> 생성자/판별자 1.0427/1.2558 [판별자-진짜: 0.6321 판별자-가짜: 0.6237]\n",
      "에포크 035 | 시간 13.22 min | 평균 손실 >> 생성자/판별자 0.9673/1.2602 [판별자-진짜: 0.6380 판별자-가짜: 0.6223]\n",
      "에포크 036 | 시간 13.60 min | 평균 손실 >> 생성자/판별자 0.9638/1.2958 [판별자-진짜: 0.6534 판별자-가짜: 0.6424]\n",
      "에포크 037 | 시간 13.97 min | 평균 손실 >> 생성자/판별자 1.0370/1.2758 [판별자-진짜: 0.6390 판별자-가짜: 0.6368]\n",
      "에포크 038 | 시간 14.35 min | 평균 손실 >> 생성자/판별자 1.0314/1.2711 [판별자-진짜: 0.6400 판별자-가짜: 0.6311]\n",
      "에포크 039 | 시간 14.72 min | 평균 손실 >> 생성자/판별자 0.9343/1.2897 [판별자-진짜: 0.6500 판별자-가짜: 0.6396]\n",
      "에포크 040 | 시간 15.10 min | 평균 손실 >> 생성자/판별자 0.9799/1.2819 [판별자-진짜: 0.6428 판별자-가짜: 0.6390]\n",
      "에포크 041 | 시간 15.47 min | 평균 손실 >> 생성자/판별자 1.0000/1.2756 [판별자-진짜: 0.6415 판별자-가짜: 0.6341]\n",
      "에포크 042 | 시간 15.84 min | 평균 손실 >> 생성자/판별자 0.9462/1.3020 [판별자-진짜: 0.6549 판별자-가짜: 0.6471]\n",
      "에포크 043 | 시간 16.21 min | 평균 손실 >> 생성자/판별자 0.9092/1.3122 [판별자-진짜: 0.6582 판별자-가짜: 0.6540]\n",
      "에포크 044 | 시간 16.59 min | 평균 손실 >> 생성자/판별자 0.9746/1.2828 [판별자-진짜: 0.6464 판별자-가짜: 0.6364]\n",
      "에포크 045 | 시간 16.96 min | 평균 손실 >> 생성자/판별자 1.0354/1.2688 [판별자-진짜: 0.6384 판별자-가짜: 0.6304]\n",
      "에포크 046 | 시간 17.33 min | 평균 손실 >> 생성자/판별자 0.9676/1.2862 [판별자-진짜: 0.6467 판별자-가짜: 0.6395]\n",
      "에포크 047 | 시간 17.71 min | 평균 손실 >> 생성자/판별자 0.9005/1.3050 [판별자-진짜: 0.6581 판별자-가짜: 0.6469]\n",
      "에포크 048 | 시간 18.08 min | 평균 손실 >> 생성자/판별자 0.9437/1.2996 [판별자-진짜: 0.6513 판별자-가짜: 0.6483]\n",
      "에포크 049 | 시간 18.46 min | 평균 손실 >> 생성자/판별자 0.9662/1.2990 [판별자-진짜: 0.6527 판별자-가짜: 0.6463]\n",
      "에포크 050 | 시간 18.82 min | 평균 손실 >> 생성자/판별자 0.9128/1.3027 [판별자-진짜: 0.6555 판별자-가짜: 0.6472]\n",
      "에포크 051 | 시간 19.20 min | 평균 손실 >> 생성자/판별자 0.9636/1.2906 [판별자-진짜: 0.6471 판별자-가짜: 0.6435]\n",
      "에포크 052 | 시간 19.57 min | 평균 손실 >> 생성자/판별자 0.9660/1.2898 [판별자-진짜: 0.6483 판별자-가짜: 0.6415]\n",
      "에포크 053 | 시간 19.94 min | 평균 손실 >> 생성자/판별자 0.9158/1.3060 [판별자-진짜: 0.6575 판별자-가짜: 0.6485]\n",
      "에포크 054 | 시간 20.31 min | 평균 손실 >> 생성자/판별자 0.9169/1.2922 [판별자-진짜: 0.6502 판별자-가짜: 0.6420]\n",
      "에포크 055 | 시간 20.68 min | 평균 손실 >> 생성자/판별자 0.9900/1.2836 [판별자-진짜: 0.6441 판별자-가짜: 0.6395]\n",
      "에포크 056 | 시간 21.05 min | 평균 손실 >> 생성자/판별자 0.9622/1.2942 [판별자-진짜: 0.6487 판별자-가짜: 0.6455]\n",
      "에포크 057 | 시간 21.42 min | 평균 손실 >> 생성자/판별자 0.9020/1.3124 [판별자-진짜: 0.6588 판별자-가짜: 0.6536]\n",
      "에포크 058 | 시간 21.79 min | 평균 손실 >> 생성자/판별자 0.9240/1.3028 [판별자-진짜: 0.6539 판별자-가짜: 0.6489]\n",
      "에포크 059 | 시간 22.16 min | 평균 손실 >> 생성자/판별자 0.9533/1.2995 [판별자-진짜: 0.6526 판별자-가짜: 0.6469]\n",
      "에포크 060 | 시간 22.53 min | 평균 손실 >> 생성자/판별자 0.9490/1.2919 [판별자-진짜: 0.6480 판별자-가짜: 0.6438]\n",
      "에포크 061 | 시간 22.90 min | 평균 손실 >> 생성자/판별자 0.9707/1.2930 [판별자-진짜: 0.6466 판별자-가짜: 0.6464]\n",
      "에포크 062 | 시간 23.27 min | 평균 손실 >> 생성자/판별자 0.8799/1.3245 [판별자-진짜: 0.6659 판별자-가짜: 0.6586]\n",
      "에포크 063 | 시간 23.65 min | 평균 손실 >> 생성자/판별자 0.9837/1.2968 [판별자-진짜: 0.6481 판별자-가짜: 0.6487]\n",
      "에포크 064 | 시간 24.01 min | 평균 손실 >> 생성자/판별자 0.9276/1.3098 [판별자-진짜: 0.6597 판별자-가짜: 0.6501]\n",
      "에포크 065 | 시간 24.38 min | 평균 손실 >> 생성자/판별자 0.9153/1.3210 [판별자-진짜: 0.6627 판별자-가짜: 0.6582]\n",
      "에포크 066 | 시간 24.75 min | 평균 손실 >> 생성자/판별자 0.9073/1.3244 [판별자-진짜: 0.6648 판별자-가짜: 0.6596]\n",
      "에포크 067 | 시간 25.12 min | 평균 손실 >> 생성자/판별자 0.9706/1.2990 [판별자-진짜: 0.6501 판별자-가짜: 0.6489]\n",
      "에포크 068 | 시간 25.48 min | 평균 손실 >> 생성자/판별자 0.9240/1.3114 [판별자-진짜: 0.6579 판별자-가짜: 0.6535]\n",
      "에포크 069 | 시간 25.85 min | 평균 손실 >> 생성자/판별자 0.9145/1.3182 [판별자-진짜: 0.6597 판별자-가짜: 0.6585]\n",
      "에포크 070 | 시간 26.22 min | 평균 손실 >> 생성자/판별자 0.9188/1.3142 [판별자-진짜: 0.6584 판별자-가짜: 0.6558]\n",
      "에포크 071 | 시간 26.59 min | 평균 손실 >> 생성자/판별자 0.9239/1.3120 [판별자-진짜: 0.6572 판별자-가짜: 0.6548]\n",
      "에포크 072 | 시간 26.96 min | 평균 손실 >> 생성자/판별자 0.8992/1.3184 [판별자-진짜: 0.6610 판별자-가짜: 0.6575]\n",
      "에포크 073 | 시간 27.33 min | 평균 손실 >> 생성자/판별자 0.9090/1.3204 [판별자-진짜: 0.6638 판별자-가짜: 0.6566]\n",
      "에포크 074 | 시간 27.70 min | 평균 손실 >> 생성자/판별자 0.9474/1.3116 [판별자-진짜: 0.6573 판별자-가짜: 0.6542]\n",
      "에포크 075 | 시간 28.07 min | 평균 손실 >> 생성자/판별자 0.9132/1.3247 [판별자-진짜: 0.6638 판별자-가짜: 0.6609]\n",
      "에포크 076 | 시간 28.45 min | 평균 손실 >> 생성자/판별자 0.9072/1.3238 [판별자-진짜: 0.6663 판별자-가짜: 0.6575]\n",
      "에포크 077 | 시간 28.82 min | 평균 손실 >> 생성자/판별자 0.9849/1.3050 [판별자-진짜: 0.6535 판별자-가짜: 0.6516]\n",
      "에포크 078 | 시간 29.20 min | 평균 손실 >> 생성자/판별자 0.9248/1.3077 [판별자-진짜: 0.6562 판별자-가짜: 0.6516]\n",
      "에포크 079 | 시간 29.57 min | 평균 손실 >> 생성자/판별자 0.8864/1.3270 [판별자-진짜: 0.6661 판별자-가짜: 0.6608]\n",
      "에포크 080 | 시간 29.94 min | 평균 손실 >> 생성자/판별자 0.9781/1.3097 [판별자-진짜: 0.6547 판별자-가짜: 0.6551]\n",
      "에포크 081 | 시간 30.31 min | 평균 손실 >> 생성자/판별자 0.9084/1.3187 [판별자-진짜: 0.6618 판별자-가짜: 0.6570]\n",
      "에포크 082 | 시간 30.68 min | 평균 손실 >> 생성자/판별자 0.8742/1.3276 [판별자-진짜: 0.6660 판별자-가짜: 0.6616]\n",
      "에포크 083 | 시간 31.05 min | 평균 손실 >> 생성자/판별자 0.9612/1.3139 [판별자-진짜: 0.6595 판별자-가짜: 0.6545]\n",
      "에포크 084 | 시간 31.41 min | 평균 손실 >> 생성자/판별자 0.9115/1.3098 [판별자-진짜: 0.6590 판별자-가짜: 0.6508]\n",
      "에포크 085 | 시간 31.78 min | 평균 손실 >> 생성자/판별자 0.8947/1.3227 [판별자-진짜: 0.6627 판별자-가짜: 0.6601]\n",
      "에포크 086 | 시간 32.15 min | 평균 손실 >> 생성자/판별자 0.9682/1.3141 [판별자-진짜: 0.6551 판별자-가짜: 0.6590]\n",
      "에포크 087 | 시간 32.51 min | 평균 손실 >> 생성자/판별자 0.8828/1.3293 [판별자-진짜: 0.6662 판별자-가짜: 0.6631]\n",
      "에포크 088 | 시간 32.88 min | 평균 손실 >> 생성자/판별자 0.8961/1.3299 [판별자-진짜: 0.6652 판별자-가짜: 0.6647]\n",
      "에포크 089 | 시간 33.25 min | 평균 손실 >> 생성자/판별자 0.9277/1.3155 [판별자-진짜: 0.6588 판별자-가짜: 0.6567]\n",
      "에포크 090 | 시간 33.62 min | 평균 손실 >> 생성자/판별자 0.9120/1.3125 [판별자-진짜: 0.6569 판별자-가짜: 0.6556]\n",
      "에포크 091 | 시간 33.99 min | 평균 손실 >> 생성자/판별자 0.9494/1.3175 [판별자-진짜: 0.6578 판별자-가짜: 0.6596]\n",
      "에포크 092 | 시간 34.35 min | 평균 손실 >> 생성자/판별자 0.8954/1.3174 [판별자-진짜: 0.6619 판별자-가짜: 0.6556]\n",
      "에포크 093 | 시간 34.72 min | 평균 손실 >> 생성자/판별자 0.8986/1.3284 [판별자-진짜: 0.6665 판별자-가짜: 0.6619]\n",
      "에포크 094 | 시간 35.09 min | 평균 손실 >> 생성자/판별자 0.9400/1.3177 [판별자-진짜: 0.6591 판별자-가짜: 0.6586]\n",
      "에포크 095 | 시간 35.45 min | 평균 손실 >> 생성자/판별자 0.8947/1.3247 [판별자-진짜: 0.6648 판별자-가짜: 0.6599]\n",
      "에포크 096 | 시간 35.82 min | 평균 손실 >> 생성자/판별자 0.9315/1.3162 [판별자-진짜: 0.6598 판별자-가짜: 0.6565]\n",
      "에포크 097 | 시간 36.19 min | 평균 손실 >> 생성자/판별자 0.9156/1.3197 [판별자-진짜: 0.6632 판별자-가짜: 0.6566]\n",
      "에포크 098 | 시간 36.56 min | 평균 손실 >> 생성자/판별자 0.9022/1.3212 [판별자-진짜: 0.6629 판별자-가짜: 0.6583]\n",
      "에포크 099 | 시간 36.93 min | 평균 손실 >> 생성자/판별자 0.9096/1.3125 [판별자-진짜: 0.6597 판별자-가짜: 0.6528]\n",
      "에포크 100 | 시간 37.30 min | 평균 손실 >> 생성자/판별자 0.9205/1.3141 [판별자-진짜: 0.6602 판별자-가짜: 0.6539]\n"
     ]
    }
   ],
   "source": [
    "import time\n",
    "\n",
    "\n",
    "num_epochs = 100\n",
    "batch_size = 64\n",
    "image_size = (28, 28)\n",
    "z_size = 20\n",
    "mode_z = 'uniform'\n",
    "gen_hidden_layers = 1\n",
    "gen_hidden_size = 100\n",
    "disc_hidden_layers = 1\n",
    "disc_hidden_size = 100\n",
    "\n",
    "tf.random.set_seed(1)\n",
    "np.random.seed(1)\n",
    "\n",
    "\n",
    "if mode_z == 'uniform':\n",
    "    fixed_z = tf.random.uniform(\n",
    "        shape=(batch_size, z_size),\n",
    "        minval=-1, maxval=1)\n",
    "elif mode_z == 'normal':\n",
    "    fixed_z = tf.random.normal(\n",
    "        shape=(batch_size, z_size))\n",
    "\n",
    "\n",
    "def create_samples(g_model, input_z):\n",
    "    g_output = g_model(input_z, training=False)\n",
    "    images = tf.reshape(g_output, (batch_size, *image_size))    \n",
    "    return (images+1)/2.0\n",
    "\n",
    "## 데이터셋 준비\n",
    "mnist_trainset = mnist['train']\n",
    "mnist_trainset = mnist_trainset.map(\n",
    "    lambda ex: preprocess(ex, mode=mode_z))\n",
    "\n",
    "mnist_trainset = mnist_trainset.shuffle(10000)\n",
    "mnist_trainset = mnist_trainset.batch(\n",
    "    batch_size, drop_remainder=True)\n",
    "\n",
    "## 모델 준비\n",
    "with tf.device(device_name):\n",
    "    gen_model = make_generator_network(\n",
    "        num_hidden_layers=gen_hidden_layers, \n",
    "        num_hidden_units=gen_hidden_size,\n",
    "        num_output_units=np.prod(image_size))\n",
    "    gen_model.build(input_shape=(None, z_size))\n",
    "\n",
    "    disc_model = make_discriminator_network(\n",
    "        num_hidden_layers=disc_hidden_layers,\n",
    "        num_hidden_units=disc_hidden_size)\n",
    "    disc_model.build(input_shape=(None, np.prod(image_size)))\n",
    "\n",
    "## 손실 함수와 옵티마이저:\n",
    "loss_fn = tf.keras.losses.BinaryCrossentropy(from_logits=True)\n",
    "g_optimizer = tf.keras.optimizers.Adam()\n",
    "d_optimizer = tf.keras.optimizers.Adam()\n",
    "\n",
    "all_losses = []\n",
    "all_d_vals = []\n",
    "epoch_samples = []\n",
    "\n",
    "start_time = time.time()\n",
    "for epoch in range(1, num_epochs+1):\n",
    "    epoch_losses, epoch_d_vals = [], []\n",
    "    for i,(input_z,input_real) in enumerate(mnist_trainset):\n",
    "        \n",
    "        ## 생성자 손실을 계산합니다\n",
    "        with tf.GradientTape() as g_tape:\n",
    "            g_output = gen_model(input_z)\n",
    "            d_logits_fake = disc_model(g_output, training=True)\n",
    "            labels_real = tf.ones_like(d_logits_fake)\n",
    "            g_loss = loss_fn(y_true=labels_real, y_pred=d_logits_fake)\n",
    "            \n",
    "        # g_loss의 그래디언트를 계산합니다\n",
    "        g_grads = g_tape.gradient(g_loss, gen_model.trainable_variables)\n",
    "        \n",
    "        # 최적화: 그래디언트를 적용합니다\n",
    "        g_optimizer.apply_gradients(\n",
    "            grads_and_vars=zip(g_grads, gen_model.trainable_variables))\n",
    "\n",
    "        ## 판별자 손실을 계산합니다\n",
    "        with tf.GradientTape() as d_tape:\n",
    "            d_logits_real = disc_model(input_real, training=True)\n",
    "\n",
    "            d_labels_real = tf.ones_like(d_logits_real)\n",
    "            \n",
    "            d_loss_real = loss_fn(\n",
    "                y_true=d_labels_real, y_pred=d_logits_real)\n",
    "\n",
    "            d_logits_fake = disc_model(g_output, training=True)\n",
    "            d_labels_fake = tf.zeros_like(d_logits_fake)\n",
    "\n",
    "            d_loss_fake = loss_fn(\n",
    "                y_true=d_labels_fake, y_pred=d_logits_fake)\n",
    "\n",
    "            d_loss = d_loss_real + d_loss_fake\n",
    "\n",
    "        ## d_loss의 그래디언트를 계산합니다\n",
    "        d_grads = d_tape.gradient(d_loss, disc_model.trainable_variables)\n",
    "        \n",
    "        ## 최적화: 그래디언트를 적용합니다\n",
    "        d_optimizer.apply_gradients(\n",
    "            grads_and_vars=zip(d_grads, disc_model.trainable_variables))\n",
    "                           \n",
    "        epoch_losses.append(\n",
    "            (g_loss.numpy(), d_loss.numpy(), \n",
    "             d_loss_real.numpy(), d_loss_fake.numpy()))\n",
    "        \n",
    "        d_probs_real = tf.reduce_mean(tf.sigmoid(d_logits_real))\n",
    "        d_probs_fake = tf.reduce_mean(tf.sigmoid(d_logits_fake))\n",
    "        epoch_d_vals.append((d_probs_real.numpy(), d_probs_fake.numpy()))        \n",
    "    all_losses.append(epoch_losses)\n",
    "    all_d_vals.append(epoch_d_vals)\n",
    "    print(\n",
    "        '에포크 {:03d} | 시간 {:.2f} min | 평균 손실 >>'\n",
    "        ' 생성자/판별자 {:.4f}/{:.4f} [판별자-진짜: {:.4f} 판별자-가짜: {:.4f}]'\n",
    "        .format(\n",
    "            epoch, (time.time() - start_time)/60, \n",
    "            *list(np.mean(all_losses[-1], axis=0))))\n",
    "    epoch_samples.append(\n",
    "        create_samples(gen_model, fixed_z).numpy())"
   ]
  },
  {
   "cell_type": "code",
   "execution_count": 24,
   "metadata": {
    "colab": {
     "base_uri": "https://localhost:8080/",
     "height": 458
    },
    "id": "TQyQ8deLaHmw",
    "outputId": "59599e3c-0f8c-4793-b74c-8aa288bc5b5d"
   },
   "outputs": [
    {
     "data": {
      "image/png": "[encoded data removed]",
      "text/plain": [
       "<Figure size 1152x432 with 4 Axes>"
      ]
     },
     "metadata": {
      "needs_background": "light"
     },
     "output_type": "display_data"
    }
   ],
   "source": [
    "import itertools\n",
    "\n",
    "\n",
    "fig = plt.figure(figsize=(16, 6))\n",
    "\n",
    "## 손실 그래프\n",
    "ax = fig.add_subplot(1, 2, 1)\n",
    "g_losses = [item[0] for item in itertools.chain(*all_losses)]\n",
    "d_losses = [item[1]/2.0 for item in itertools.chain(*all_losses)]\n",
    "plt.plot(g_losses, label='Generator loss', alpha=0.95)\n",
    "plt.plot(d_losses, label='Discriminator loss', alpha=0.95)\n",
    "plt.legend(fontsize=20)\n",
    "ax.set_xlabel('Iteration', size=15)\n",
    "ax.set_ylabel('Loss', size=15)\n",
    "\n",
    "epochs = np.arange(1, 101)\n",
    "epoch2iter = lambda e: e*len(all_losses[-1])\n",
    "epoch_ticks = [1, 20, 40, 60, 80, 100]\n",
    "newpos = [epoch2iter(e) for e in epoch_ticks]\n",
    "ax2 = ax.twiny()\n",
    "ax2.set_xticks(newpos)\n",
    "ax2.set_xticklabels(epoch_ticks)\n",
    "ax2.xaxis.set_ticks_position('bottom')\n",
    "ax2.xaxis.set_label_position('bottom')\n",
    "ax2.spines['bottom'].set_position(('outward', 60))\n",
    "ax2.set_xlabel('Epoch', size=15)\n",
    "ax2.set_xlim(ax.get_xlim())\n",
    "ax.tick_params(axis='both', which='major', labelsize=15)\n",
    "ax2.tick_params(axis='both', which='major', labelsize=15)\n",
    "\n",
    "## 판별자의 출력\n",
    "ax = fig.add_subplot(1, 2, 2)\n",
    "d_vals_real = [item[0] for item in itertools.chain(*all_d_vals)]\n",
    "d_vals_fake = [item[1] for item in itertools.chain(*all_d_vals)]\n",
    "plt.plot(d_vals_real, alpha=0.75, label=r'Real: $D(\\mathbf{x})$')\n",
    "plt.plot(d_vals_fake, alpha=0.75, label=r'Fake: $D(G(\\mathbf{z}))$')\n",
    "plt.legend(fontsize=20)\n",
    "ax.set_xlabel('Iteration', size=15)\n",
    "ax.set_ylabel('Discriminator output', size=15)\n",
    "\n",
    "ax2 = ax.twiny()\n",
    "ax2.set_xticks(newpos)\n",
    "ax2.set_xticklabels(epoch_ticks)\n",
    "ax2.xaxis.set_ticks_position('bottom')\n",
    "ax2.xaxis.set_label_position('bottom')\n",
    "ax2.spines['bottom'].set_position(('outward', 60))\n",
    "ax2.set_xlabel('Epoch', size=15)\n",
    "ax2.set_xlim(ax.get_xlim())\n",
    "ax.tick_params(axis='both', which='major', labelsize=15)\n",
    "ax2.tick_params(axis='both', which='major', labelsize=15)\n",
    "\n",
    "plt.show()"
   ]
  },
  {
   "cell_type": "code",
   "execution_count": 25,
   "metadata": {
    "colab": {
     "base_uri": "https://localhost:8080/",
     "height": 783
    },
    "id": "iENdPX_gPoJ7",
    "outputId": "c157b610-9901-4f20-e7c5-6ca6113218f5"
   },
   "outputs": [
    {
     "data": {
      "image/png": "[encoded data removed]",
      "text/plain": [
       "<Figure size 720x1008 with 30 Axes>"
      ]
     },
     "metadata": {},
     "output_type": "display_data"
    }
   ],
   "source": [
    "selected_epochs = [1, 2, 4, 10, 50, 100]\n",
    "fig = plt.figure(figsize=(10, 14))\n",
    "for i,e in enumerate(selected_epochs):\n",
    "    for j in range(5):\n",
    "        ax = fig.add_subplot(6, 5, i*5+j+1)\n",
    "        ax.set_xticks([])\n",
    "        ax.set_yticks([])\n",
    "        if j == 0:\n",
    "            ax.text(\n",
    "                -0.06, 0.5, 'Epoch {}'.format(e),\n",
    "                rotation=90, size=18, color='red',\n",
    "                horizontalalignment='right',\n",
    "                verticalalignment='center', \n",
    "                transform=ax.transAxes)\n",
    "        \n",
    "        image = epoch_samples[e-1][j]\n",
    "        ax.imshow(image, cmap='gray_r')\n",
    "\n",
    "plt.show()"
   ]
  }
 ],
 "metadata": {
  "accelerator": "GPU",
  "colab": {
   "collapsed_sections": [],
   "name": "ch17-basic-GAN.ipynb",
   "provenance": []
  },
  "kernelspec": {
   "display_name": "Python 3",
   "language": "python",
   "name": "python3"
  },
  "language_info": {
   "codemirror_mode": {
    "name": "ipython",
    "version": 3
   },
   "file_extension": ".py",
   "mimetype": "text/x-python",
   "name": "python",
   "nbconvert_exporter": "python",
   "pygments_lexer": "ipython3",
   "version": "3.7.3"
  },
  "widgets": {
   "application/vnd.jupyter.widget-state+json": {
    "0aba11ef99204a2e9da2ded94decfa63": {
     "model_module": "@jupyter-widgets/controls",
     "model_module_version": "1.5.0",
     "model_name": "HBoxModel",
     "state": {
      "_dom_classes": [],
      "_model_module": "@jupyter-widgets/controls",
      "_model_module_version": "1.5.0",
      "_model_name": "HBoxModel",
      "_view_count": null,
      "_view_module": "@jupyter-widgets/controls",
      "_view_module_version": "1.5.0",
      "_view_name": "HBoxView",
      "box_style": "",
      "children": [
       "IPY_MODEL_eaad5ff14d9742c2b8d7d24c7275eb36",
       "IPY_MODEL_31fecdb6a0ef46e48370f930a8c4bf4e",
       "IPY_MODEL_143fc1816e484b1aa1201a6a351de616"
      ],
      "layout": "IPY_MODEL_deb8f1b8e7ac420385784ede5614893d"
     }
    },
    "143fc1816e484b1aa1201a6a351de616": {
     "model_module": "@jupyter-widgets/controls",
     "model_module_version": "1.5.0",
     "model_name": "HTMLModel",
     "state": {
      "_dom_classes": [],
      "_model_module": "@jupyter-widgets/controls",
      "_model_module_version": "1.5.0",
      "_model_name": "HTMLModel",
      "_view_count": null,
      "_view_module": "@jupyter-widgets/controls",
      "_view_module_version": "1.5.0",
      "_view_name": "HTMLView",
      "description": "",
      "description_tooltip": null,
      "layout": "IPY_MODEL_c3af75f9ae4249648f1d2b4a0934a696",
      "placeholder": "​",
      "style": "IPY_MODEL_9588b9f1579a4ecd958985f7fddc4fa7",
      "value": " 4/4 [00:00&lt;00:00,  9.46 file/s]"
     }
    },
    "31fecdb6a0ef46e48370f930a8c4bf4e": {
     "model_module": "@jupyter-widgets/controls",
     "model_module_version": "1.5.0",
     "model_name": "FloatProgressModel",
     "state": {
      "_dom_classes": [],
      "_model_module": "@jupyter-widgets/controls",
      "_model_module_version": "1.5.0",
      "_model_name": "FloatProgressModel",
      "_view_count": null,
      "_view_module": "@jupyter-widgets/controls",
      "_view_module_version": "1.5.0",
      "_view_name": "ProgressView",
      "bar_style": "success",
      "description": "",
      "description_tooltip": null,
      "layout": "IPY_MODEL_e4021f7dc20a4238b9351dff048641ec",
      "max": 4,
      "min": 0,
      "orientation": "horizontal",
      "style": "IPY_MODEL_358941583a784ac4aefe8e628647648d",
      "value": 4
     }
    },
    "358941583a784ac4aefe8e628647648d": {
     "model_module": "@jupyter-widgets/controls",
     "model_module_version": "1.5.0",
     "model_name": "ProgressStyleModel",
     "state": {
      "_model_module": "@jupyter-widgets/controls",
      "_model_module_version": "1.5.0",
      "_model_name": "ProgressStyleModel",
      "_view_count": null,
      "_view_module": "@jupyter-widgets/base",
      "_view_module_version": "1.2.0",
      "_view_name": "StyleView",
      "bar_color": null,
      "description_width": ""
     }
    },
    "5cae2d156acf4fedab62532ba81a364b": {
     "model_module": "@jupyter-widgets/base",
     "model_module_version": "1.2.0",
     "model_name": "LayoutModel",
     "state": {
      "_model_module": "@jupyter-widgets/base",
      "_model_module_version": "1.2.0",
      "_model_name": "LayoutModel",
      "_view_count": null,
      "_view_module": "@jupyter-widgets/base",
      "_view_module_version": "1.2.0",
      "_view_name": "LayoutView",
      "align_content": null,
      "align_items": null,
      "align_self": null,
      "border": null,
      "bottom": null,
      "display": null,
      "flex": null,
      "flex_flow": null,
      "grid_area": null,
      "grid_auto_columns": null,
      "grid_auto_flow": null,
      "grid_auto_rows": null,
      "grid_column": null,
      "grid_gap": null,
      "grid_row": null,
      "grid_template_areas": null,
      "grid_template_columns": null,
      "grid_template_rows": null,
      "height": null,
      "justify_content": null,
      "justify_items": null,
      "left": null,
      "margin": null,
      "max_height": null,
      "max_width": null,
      "min_height": null,
      "min_width": null,
      "object_fit": null,
      "object_position": null,
      "order": null,
      "overflow": null,
      "overflow_x": null,
      "overflow_y": null,
      "padding": null,
      "right": null,
      "top": null,
      "visibility": null,
      "width": null
     }
    },
    "60e521a82f8847a68bc39575831ae3de": {
     "model_module": "@jupyter-widgets/controls",
     "model_module_version": "1.5.0",
     "model_name": "DescriptionStyleModel",
     "state": {
      "_model_module": "@jupyter-widgets/controls",
      "_model_module_version": "1.5.0",
      "_model_name": "DescriptionStyleModel",
      "_view_count": null,
      "_view_module": "@jupyter-widgets/base",
      "_view_module_version": "1.2.0",
      "_view_name": "StyleView",
      "description_width": ""
     }
    },
    "9588b9f1579a4ecd958985f7fddc4fa7": {
     "model_module": "@jupyter-widgets/controls",
     "model_module_version": "1.5.0",
     "model_name": "DescriptionStyleModel",
     "state": {
      "_model_module": "@jupyter-widgets/controls",
      "_model_module_version": "1.5.0",
      "_model_name": "DescriptionStyleModel",
      "_view_count": null,
      "_view_module": "@jupyter-widgets/base",
      "_view_module_version": "1.2.0",
      "_view_name": "StyleView",
      "description_width": ""
     }
    },
    "c3af75f9ae4249648f1d2b4a0934a696": {
     "model_module": "@jupyter-widgets/base",
     "model_module_version": "1.2.0",
     "model_name": "LayoutModel",
     "state": {
      "_model_module": "@jupyter-widgets/base",
      "_model_module_version": "1.2.0",
      "_model_name": "LayoutModel",
      "_view_count": null,
      "_view_module": "@jupyter-widgets/base",
      "_view_module_version": "1.2.0",
      "_view_name": "LayoutView",
      "align_content": null,
      "align_items": null,
      "align_self": null,
      "border": null,
      "bottom": null,
      "display": null,
      "flex": null,
      "flex_flow": null,
      "grid_area": null,
      "grid_auto_columns": null,
      "grid_auto_flow": null,
      "grid_auto_rows": null,
      "grid_column": null,
      "grid_gap": null,
      "grid_row": null,
      "grid_template_areas": null,
      "grid_template_columns": null,
      "grid_template_rows": null,
      "height": null,
      "justify_content": null,
      "justify_items": null,
      "left": null,
      "margin": null,
      "max_height": null,
      "max_width": null,
      "min_height": null,
      "min_width": null,
      "object_fit": null,
      "object_position": null,
      "order": null,
      "overflow": null,
      "overflow_x": null,
      "overflow_y": null,
      "padding": null,
      "right": null,
      "top": null,
      "visibility": null,
      "width": null
     }
    },
    "deb8f1b8e7ac420385784ede5614893d": {
     "model_module": "@jupyter-widgets/base",
     "model_module_version": "1.2.0",
     "model_name": "LayoutModel",
     "state": {
      "_model_module": "@jupyter-widgets/base",
      "_model_module_version": "1.2.0",
      "_model_name": "LayoutModel",
      "_view_count": null,
      "_view_module": "@jupyter-widgets/base",
      "_view_module_version": "1.2.0",
      "_view_name": "LayoutView",
      "align_content": null,
      "align_items": null,
      "align_self": null,
      "border": null,
      "bottom": null,
      "display": null,
      "flex": null,
      "flex_flow": null,
      "grid_area": null,
      "grid_auto_columns": null,
      "grid_auto_flow": null,
      "grid_auto_rows": null,
      "grid_column": null,
      "grid_gap": null,
      "grid_row": null,
      "grid_template_areas": null,
      "grid_template_columns": null,
      "grid_template_rows": null,
      "height": null,
      "justify_content": null,
      "justify_items": null,
      "left": null,
      "margin": null,
      "max_height": null,
      "max_width": null,
      "min_height": null,
      "min_width": null,
      "object_fit": null,
      "object_position": null,
      "order": null,
      "overflow": null,
      "overflow_x": null,
      "overflow_y": null,
      "padding": null,
      "right": null,
      "top": null,
      "visibility": null,
      "width": null
     }
    },
    "e4021f7dc20a4238b9351dff048641ec": {
     "model_module": "@jupyter-widgets/base",
     "model_module_version": "1.2.0",
     "model_name": "LayoutModel",
     "state": {
      "_model_module": "@jupyter-widgets/base",
      "_model_module_version": "1.2.0",
      "_model_name": "LayoutModel",
      "_view_count": null,
      "_view_module": "@jupyter-widgets/base",
      "_view_module_version": "1.2.0",
      "_view_name": "LayoutView",
      "align_content": null,
      "align_items": null,
      "align_self": null,
      "border": null,
      "bottom": null,
      "display": null,
      "flex": null,
      "flex_flow": null,
      "grid_area": null,
      "grid_auto_columns": null,
      "grid_auto_flow": null,
      "grid_auto_rows": null,
      "grid_column": null,
      "grid_gap": null,
      "grid_row": null,
      "grid_template_areas": null,
      "grid_template_columns": null,
      "grid_template_rows": null,
      "height": null,
      "justify_content": null,
      "justify_items": null,
      "left": null,
      "margin": null,
      "max_height": null,
      "max_width": null,
      "min_height": null,
      "min_width": null,
      "object_fit": null,
      "object_position": null,
      "order": null,
      "overflow": null,
      "overflow_x": null,
      "overflow_y": null,
      "padding": null,
      "right": null,
      "top": null,
      "visibility": null,
      "width": null
     }
    },
    "eaad5ff14d9742c2b8d7d24c7275eb36": {
     "model_module": "@jupyter-widgets/controls",
     "model_module_version": "1.5.0",
     "model_name": "HTMLModel",
     "state": {
      "_dom_classes": [],
      "_model_module": "@jupyter-widgets/controls",
      "_model_module_version": "1.5.0",
      "_model_name": "HTMLModel",
      "_view_count": null,
      "_view_module": "@jupyter-widgets/controls",
      "_view_module_version": "1.5.0",
      "_view_name": "HTMLView",
      "description": "",
      "description_tooltip": null,
      "layout": "IPY_MODEL_5cae2d156acf4fedab62532ba81a364b",
      "placeholder": "​",
      "style": "IPY_MODEL_60e521a82f8847a68bc39575831ae3de",
      "value": "Dl Completed...: 100%"
     }
    }
   }
  }
 },
 "nbformat": 4,
 "nbformat_minor": 1
}
