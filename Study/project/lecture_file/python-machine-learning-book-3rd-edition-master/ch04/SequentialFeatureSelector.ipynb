{
 "cells": [
  {
   "cell_type": "markdown",
   "metadata": {},
   "source": [
    "# 머신 러닝 교과서 3판"
   ]
  },
  {
   "cell_type": "markdown",
   "metadata": {},
   "source": [
    "# 4장 - 좋은 훈련 데이터셋 만들기 – 데이터 전처리"
   ]
  },
  {
   "cell_type": "markdown",
   "metadata": {},
   "source": [
    "**아래 링크를 통해 이 노트북을 주피터 노트북 뷰어(nbviewer.jupyter.org)로 보거나 구글 코랩(colab.research.google.com)에서 실행할 수 있습니다.**\n",
    "\n",
    "<table class=\"tfo-notebook-buttons\" align=\"left\">\n",
    "  <td>\n",
    "    <a target=\"_blank\" href=\"https://nbviewer.org/github/rickiepark/python-machine-learning-book-3rd-edition/blob/master/ch04/SequentialFeatureSelector.ipynb\"><img src=\"https://jupyter.org/assets/share.png\" width=\"60\" />주피터 노트북 뷰어로 보기</a>\n",
    "  </td>\n",
    "  <td>\n",
    "    <a target=\"_blank\" href=\"https://colab.research.google.com/github/rickiepark/python-machine-learning-book-3rd-edition/blob/master/ch04/SequentialFeatureSelector.ipynb\"><img src=\"https://www.tensorflow.org/images/colab_logo_32px.png\" />구글 코랩(Colab)에서 실행하기</a>\n",
    "  </td>\n",
    "</table>"
   ]
  },
  {
   "cell_type": "markdown",
   "metadata": {
    "id": "8Os-4JDvScgV"
   },
   "source": [
    "## 4.5.4 순차 특성 선택 알고리즘"
   ]
  },
  {
   "cell_type": "code",
   "execution_count": 1,
   "metadata": {
    "colab": {
     "base_uri": "https://localhost:8080/"
    },
    "execution": {
     "iopub.execute_input": "2021-10-23T05:54:51.689148Z",
     "iopub.status.busy": "2021-10-23T05:54:51.688312Z",
     "iopub.status.idle": "2021-10-23T05:54:53.064076Z",
     "shell.execute_reply": "2021-10-23T05:54:53.063161Z"
    },
    "id": "1KNgp1IyScgZ",
    "outputId": "b9e09add-044a-48e1-c0d7-12040d113b0a"
   },
   "outputs": [
    {
     "name": "stdout",
     "output_type": "stream",
     "text": [
      "Requirement already satisfied: scikit-learn in /home/haesun/python-machine-learning-book-3rd-edition/.env/lib/python3.7/site-packages (1.0)\r\n",
      "Requirement already satisfied: numpy>=1.14.6 in /home/haesun/python-machine-learning-book-3rd-edition/.env/lib/python3.7/site-packages (from scikit-learn) (1.21.3)\r\n",
      "Requirement already satisfied: scipy>=1.1.0 in /home/haesun/python-machine-learning-book-3rd-edition/.env/lib/python3.7/site-packages (from scikit-learn) (1.7.1)\r\n",
      "Requirement already satisfied: threadpoolctl>=2.0.0 in /home/haesun/python-machine-learning-book-3rd-edition/.env/lib/python3.7/site-packages (from scikit-learn) (3.0.0)\r\n",
      "Requirement already satisfied: joblib>=0.11 in /home/haesun/python-machine-learning-book-3rd-edition/.env/lib/python3.7/site-packages (from scikit-learn) (1.1.0)\r\n"
     ]
    }
   ],
   "source": [
    "# 이 노트북은 사이킷런 0.24 이상에서 실행할 수 있습니다.\n",
    "# 코랩에서 실행할 경우 최신 버전의 사이킷런을 설치하세요.\n",
    "!pip install --upgrade scikit-learn"
   ]
  },
  {
   "cell_type": "markdown",
   "metadata": {
    "id": "B2ogTR9QScgZ"
   },
   "source": [
    "4.5절에서 사용하는 데이터셋을 로드합니다."
   ]
  },
  {
   "cell_type": "code",
   "execution_count": 2,
   "metadata": {
    "execution": {
     "iopub.execute_input": "2021-10-23T05:54:53.082464Z",
     "iopub.status.busy": "2021-10-23T05:54:53.081101Z",
     "iopub.status.idle": "2021-10-23T05:54:53.658104Z",
     "shell.execute_reply": "2021-10-23T05:54:53.658587Z"
    },
    "id": "LKqSVFwhScga"
   },
   "outputs": [],
   "source": [
    "import numpy as np\n",
    "import pandas as pd\n",
    "import matplotlib.pyplot as plt"
   ]
  },
  {
   "cell_type": "code",
   "execution_count": 3,
   "metadata": {
    "execution": {
     "iopub.execute_input": "2021-10-23T05:54:53.663305Z",
     "iopub.status.busy": "2021-10-23T05:54:53.662136Z",
     "iopub.status.idle": "2021-10-23T05:54:54.332303Z",
     "shell.execute_reply": "2021-10-23T05:54:54.331553Z"
    },
    "id": "l6Z2jGnUScga"
   },
   "outputs": [],
   "source": [
    "df_wine = pd.read_csv('https://archive.ics.uci.edu/'\n",
    "                      'ml/machine-learning-databases/wine/wine.data',\n",
    "                      header=None)\n",
    "\n",
    "df_wine.columns = ['Class label', 'Alcohol', 'Malic acid', 'Ash',\n",
    "                   'Alcalinity of ash', 'Magnesium', 'Total phenols',\n",
    "                   'Flavanoids', 'Nonflavanoid phenols', 'Proanthocyanins',\n",
    "                   'Color intensity', 'Hue', 'OD280/OD315 of diluted wines',\n",
    "                   'Proline']"
   ]
  },
  {
   "cell_type": "code",
   "execution_count": 4,
   "metadata": {
    "execution": {
     "iopub.execute_input": "2021-10-23T05:54:54.340837Z",
     "iopub.status.busy": "2021-10-23T05:54:54.339340Z",
     "iopub.status.idle": "2021-10-23T05:54:54.676341Z",
     "shell.execute_reply": "2021-10-23T05:54:54.675507Z"
    },
    "id": "-drOG_MMScga"
   },
   "outputs": [],
   "source": [
    "from sklearn.model_selection import train_test_split\n",
    "from sklearn.preprocessing import StandardScaler\n",
    "\n",
    "X, y = df_wine.iloc[:, 1:].values, df_wine.iloc[:, 0].values\n",
    "\n",
    "X_train, X_test, y_train, y_test =\\\n",
    "    train_test_split(X, y, \n",
    "                     test_size=0.3, \n",
    "                     random_state=0, \n",
    "                     stratify=y)\n",
    "\n",
    "stdsc = StandardScaler()\n",
    "X_train_std = stdsc.fit_transform(X_train)\n",
    "X_test_std = stdsc.transform(X_test)"
   ]
  },
  {
   "cell_type": "markdown",
   "metadata": {
    "id": "Gj1VsXpgScga"
   },
   "source": [
    "`SequentialFeatureSelector`를 임포트하고 최근접 이웃 분류기 객체를 준비합니다."
   ]
  },
  {
   "cell_type": "code",
   "execution_count": 5,
   "metadata": {
    "execution": {
     "iopub.execute_input": "2021-10-23T05:54:54.682705Z",
     "iopub.status.busy": "2021-10-23T05:54:54.681592Z",
     "iopub.status.idle": "2021-10-23T05:54:54.713407Z",
     "shell.execute_reply": "2021-10-23T05:54:54.713923Z"
    },
    "id": "vGEcLkkUScgb"
   },
   "outputs": [],
   "source": [
    "from sklearn.feature_selection import SequentialFeatureSelector\n",
    "from sklearn.neighbors import KNeighborsClassifier\n",
    "\n",
    "knn = KNeighborsClassifier(n_neighbors=5)"
   ]
  },
  {
   "cell_type": "markdown",
   "metadata": {
    "id": "0ghi7Y2DScgb"
   },
   "source": [
    "사용할 모델 객체를 첫 번째 매개변수로 전달합니다. 선택할 특성의 개수는 `n_features_to_select`에서 지정합니다. 기본값은 입력 특성의 절반입니다. 0~1 사이 실수를 지정하면 선택할 특성의 비율로 인식합니다.\n",
    "\n",
    "`direction` 매개변수로 특성 선택 방향(전진 또는 후진)을 선택합니다. 기본값은 전진을 의미하는 `'forward'`이고 후진을 선택하려면 `'backward'`로 지정합니다.\n",
    "\n",
    "이 클래스는 특성을 선택하기 위해 교차 검증을 사용합니다. `cv` 매개변수에서 교차 검증 횟수를 지정할 수 있습니다. 기본값은 5입니다. 회귀 모델일 경우 `KFold`, 분류 모델일 경우 `StratifiedKFold`를 사용하여 폴드를 나눕니다.\n",
    "\n",
    "이 클래스는 하나의 특성을 선택할 때마다 현재 남은 특성 개수(m)에 대해 교차 검증을 수행하므로 `m * cv`개의 모델을 만듭니다. 이렇게 단계마다 많은 모델을 만들기 때문에 일반적으로 `RFE`나 `SelectFromModel`보다 느립니다. `n_jobs` 매개변수를 1 이상으로 지정하여 여러 코어를 사용하는 것이 좋습니다."
   ]
  },
  {
   "cell_type": "code",
   "execution_count": 6,
   "metadata": {
    "execution": {
     "iopub.execute_input": "2021-10-23T05:54:54.718556Z",
     "iopub.status.busy": "2021-10-23T05:54:54.717509Z",
     "iopub.status.idle": "2021-10-23T05:55:07.167604Z",
     "shell.execute_reply": "2021-10-23T05:55:07.166601Z"
    },
    "id": "SPaLDZt6Scgb"
   },
   "outputs": [],
   "source": [
    "scores = []\n",
    "for n_features in range(1, 13):\n",
    "    sfs = SequentialFeatureSelector(knn, n_features_to_select=n_features, n_jobs=-1)\n",
    "    sfs.fit(X_train_std, y_train)\n",
    "    f_mask = sfs.support_\n",
    "    knn.fit(X_train_std[:, f_mask], y_train)\n",
    "    scores.append(knn.score(X_train_std[:, f_mask], y_train))"
   ]
  },
  {
   "cell_type": "code",
   "execution_count": 7,
   "metadata": {
    "colab": {
     "base_uri": "https://localhost:8080/",
     "height": 297
    },
    "execution": {
     "iopub.execute_input": "2021-10-23T05:55:07.188033Z",
     "iopub.status.busy": "2021-10-23T05:55:07.186998Z",
     "iopub.status.idle": "2021-10-23T05:55:07.392649Z",
     "shell.execute_reply": "2021-10-23T05:55:07.393200Z"
    },
    "id": "o7y0RoNAScgb",
    "outputId": "235b0195-8f90-40cc-a030-474fc22976ba",
    "scrolled": true
   },
   "outputs": [
    {
     "data": {
      "image/png": "[encoded data removed]",
      "text/plain": [
       "<Figure size 432x288 with 1 Axes>"
      ]
     },
     "metadata": {
      "needs_background": "light"
     },
     "output_type": "display_data"
    }
   ],
   "source": [
    "plt.plot(range(1, 13), scores, marker='o')\n",
    "plt.ylim([0.7, 1.02])\n",
    "plt.ylabel('Accuracy')\n",
    "plt.xlabel('Number of features')\n",
    "plt.grid()\n",
    "plt.tight_layout()\n",
    "# plt.savefig('images/04_sfs.png', dpi=300)\n",
    "plt.show()"
   ]
  },
  {
   "cell_type": "code",
   "execution_count": 8,
   "metadata": {
    "colab": {
     "base_uri": "https://localhost:8080/"
    },
    "execution": {
     "iopub.execute_input": "2021-10-23T05:55:07.399571Z",
     "iopub.status.busy": "2021-10-23T05:55:07.398721Z",
     "iopub.status.idle": "2021-10-23T05:55:08.427688Z",
     "shell.execute_reply": "2021-10-23T05:55:08.426653Z"
    },
    "id": "0Bt-QBgtScgc",
    "outputId": "e523911a-cc8e-4d21-de1b-3479213c75c6"
   },
   "outputs": [
    {
     "data": {
      "text/plain": [
       "SequentialFeatureSelector(estimator=KNeighborsClassifier(),\n",
       "                          n_features_to_select=7, n_jobs=-1)"
      ]
     },
     "execution_count": 8,
     "metadata": {},
     "output_type": "execute_result"
    }
   ],
   "source": [
    "sfs = SequentialFeatureSelector(knn, n_features_to_select=7, n_jobs=-1)\n",
    "sfs.fit(X_train_std, y_train)"
   ]
  },
  {
   "cell_type": "code",
   "execution_count": 9,
   "metadata": {
    "colab": {
     "base_uri": "https://localhost:8080/"
    },
    "execution": {
     "iopub.execute_input": "2021-10-23T05:55:08.434633Z",
     "iopub.status.busy": "2021-10-23T05:55:08.433618Z",
     "iopub.status.idle": "2021-10-23T05:55:08.438283Z",
     "shell.execute_reply": "2021-10-23T05:55:08.438766Z"
    },
    "id": "xHezF2ZrScgd",
    "outputId": "a19cdd1c-64d3-43cc-dca6-e90e2eb393d2",
    "scrolled": true
   },
   "outputs": [
    {
     "name": "stdout",
     "output_type": "stream",
     "text": [
      "7\n"
     ]
    },
    {
     "data": {
      "text/plain": [
       "Index(['Alcohol', 'Ash', 'Magnesium', 'Flavanoids', 'Color intensity', 'Hue',\n",
       "       'Proline'],\n",
       "      dtype='object')"
      ]
     },
     "execution_count": 9,
     "metadata": {},
     "output_type": "execute_result"
    }
   ],
   "source": [
    "print(sfs.n_features_to_select_)\n",
    "f_mask = sfs.support_\n",
    "df_wine.columns[1:][f_mask]"
   ]
  },
  {
   "cell_type": "code",
   "execution_count": 10,
   "metadata": {
    "colab": {
     "base_uri": "https://localhost:8080/"
    },
    "execution": {
     "iopub.execute_input": "2021-10-23T05:55:08.446050Z",
     "iopub.status.busy": "2021-10-23T05:55:08.445302Z",
     "iopub.status.idle": "2021-10-23T05:55:08.455316Z",
     "shell.execute_reply": "2021-10-23T05:55:08.455825Z"
    },
    "id": "76DLeStyScgd",
    "outputId": "216e01d3-7ea7-470f-865b-ddfeeeafa1d3",
    "scrolled": true
   },
   "outputs": [
    {
     "name": "stdout",
     "output_type": "stream",
     "text": [
      "훈련 정확도: 0.9838709677419355\n",
      "테스트 정확도: 0.9814814814814815\n"
     ]
    }
   ],
   "source": [
    "knn.fit(X_train_std[:, f_mask], y_train)\n",
    "print('훈련 정확도:', knn.score(X_train_std[:, f_mask], y_train))\n",
    "print('테스트 정확도:', knn.score(X_test_std[:, f_mask], y_test))"
   ]
  }
 ],
 "metadata": {
  "colab": {
   "name": "SequentialFeatureSelector.ipynb",
   "provenance": [],
   "toc_visible": true
  },
  "kernelspec": {
   "display_name": "Python 3",
   "language": "python",
   "name": "python3"
  },
  "language_info": {
   "codemirror_mode": {
    "name": "ipython",
    "version": 3
   },
   "file_extension": ".py",
   "mimetype": "text/x-python",
   "name": "python",
   "nbconvert_exporter": "python",
   "pygments_lexer": "ipython3",
   "version": "3.7.3"
  }
 },
 "nbformat": 4,
 "nbformat_minor": 4
}
