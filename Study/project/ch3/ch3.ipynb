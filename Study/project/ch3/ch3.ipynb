{
 "cells": [
  {
   "cell_type": "markdown",
   "id": "05f515bb",
   "metadata": {},
   "source": [
    "## 3.2 사이킷런 첫걸음"
   ]
  },
  {
   "cell_type": "code",
   "execution_count": 2,
   "id": "e44c41c8",
   "metadata": {},
   "outputs": [],
   "source": [
    "from sklearn import datasets\n",
    "import numpy as np"
   ]
  },
  {
   "cell_type": "code",
   "execution_count": 3,
   "id": "c1eff346",
   "metadata": {},
   "outputs": [
    {
     "name": "stdout",
     "output_type": "stream",
     "text": [
      "클래스 레이블 :  [0 1 2]\n"
     ]
    }
   ],
   "source": [
    "iris = datasets.load_iris()\n",
    "x = iris.data[:, [2, 3]]\n",
    "y = iris.target\n",
    "\n",
    "print('클래스 레이블 : ', np.unique(y))"
   ]
  },
  {
   "cell_type": "code",
   "execution_count": 7,
   "id": "8b7b24e3",
   "metadata": {},
   "outputs": [
    {
     "data": {
      "text/plain": [
       "((150, 2), (150,))"
      ]
     },
     "execution_count": 7,
     "metadata": {},
     "output_type": "execute_result"
    }
   ],
   "source": [
    "x.shape, y.shape"
   ]
  },
  {
   "cell_type": "code",
   "execution_count": 8,
   "id": "4d3223c3",
   "metadata": {},
   "outputs": [],
   "source": [
    "# 계층화가 적용된 훈련, 테스트셋\n",
    "from sklearn.model_selection import train_test_split\n",
    "\n",
    "train_x, test_x, train_y, test_y = train_test_split(x, y, test_size=0.3, random_state=1, stratify=y)"
   ]
  },
  {
   "cell_type": "code",
   "execution_count": 11,
   "id": "7cac839b",
   "metadata": {},
   "outputs": [
    {
     "name": "stdout",
     "output_type": "stream",
     "text": [
      "y의 레이블 카운트 :  [50 50 50]\n",
      "train_y의 레이블 카운트 :  [35 35 35]\n",
      "test_y의 레이블 카운트 :  [15 15 15]\n"
     ]
    }
   ],
   "source": [
    "print('y의 레이블 카운트 : ', np.bincount(y))\n",
    "print('train_y의 레이블 카운트 : ', np.bincount(train_y))\n",
    "print('test_y의 레이블 카운트 : ', np.bincount(test_y))"
   ]
  },
  {
   "cell_type": "code",
   "execution_count": 39,
   "id": "f3afd1b5",
   "metadata": {},
   "outputs": [],
   "source": [
    "# 표준화\n",
    "from sklearn.preprocessing import StandardScaler\n",
    "\n",
    "sc = StandardScaler()\n",
    "sc.fit(train_x)\n",
    "train_x_std = sc.transform(train_x)\n",
    "test_x_std = sc.transform(test_x)"
   ]
  },
  {
   "cell_type": "code",
   "execution_count": 40,
   "id": "4a3438a5",
   "metadata": {},
   "outputs": [
    {
     "data": {
      "text/plain": [
       "Perceptron(eta0=0.1, random_state=1)"
      ]
     },
     "execution_count": 40,
     "metadata": {},
     "output_type": "execute_result"
    }
   ],
   "source": [
    "from sklearn.linear_model import Perceptron\n",
    "\n",
    "ppn = Perceptron(eta0 = 0.1, random_state=1)\n",
    "ppn.fit(train_x_std, train_y)"
   ]
  },
  {
   "cell_type": "code",
   "execution_count": 41,
   "id": "fbe1ee4f",
   "metadata": {},
   "outputs": [
    {
     "name": "stdout",
     "output_type": "stream",
     "text": [
      "잘못 분류된 샘플 개수 : 1\n"
     ]
    }
   ],
   "source": [
    "y_pred = ppn.predict(test_x_std)\n",
    "\n",
    "print('잘못 분류된 샘플 개수 : %d' %(test_y != y_pred).sum() )"
   ]
  },
  {
   "cell_type": "code",
   "execution_count": 42,
   "id": "d69f766f",
   "metadata": {},
   "outputs": [
    {
     "name": "stdout",
     "output_type": "stream",
     "text": [
      "정확도 : 0.978\n"
     ]
    }
   ],
   "source": [
    "from sklearn.metrics import accuracy_score\n",
    "\n",
    "print('정확도 : %.3f' %accuracy_score(test_y, y_pred))"
   ]
  },
  {
   "cell_type": "code",
   "execution_count": 43,
   "id": "74388e01",
   "metadata": {},
   "outputs": [
    {
     "name": "stdout",
     "output_type": "stream",
     "text": [
      "정확도 : 0.978\n"
     ]
    }
   ],
   "source": [
    "print('정확도 : %.3f' %ppn.score(test_x_std, test_y))"
   ]
  },
  {
   "cell_type": "code",
   "execution_count": 44,
   "id": "3b62be59",
   "metadata": {},
   "outputs": [],
   "source": [
    "# 2장에서 쓴 코드 복사해서 수정\n",
    "\n",
    "# from matplotlib.colors import ListedColormap\n",
    "\n",
    "# def plot_decision_regions(X, y, classifier, test_idx=None,resolution= 0.02):\n",
    "#     markers = ('s', 'x', 'o', '^', 'v')\n",
    "#     colors = ('red', 'blue', 'lightgreen', 'gray', 'cyan')\n",
    "#     cmap = ListedColormap(colors[:len(np.unique(y))])\n",
    "    \n",
    "#     x1_min, x1_max = X[:, 0].min() - 1, X[:, 0].max() + 1 \n",
    "#     x2_min, x2_max = X[:, 1].min() - 1, X[:, 1].max() + 1 \n",
    "#     xx1, xx2 = np.meshgrid(np.arange(x1_min, x1_max, resolution), np.arange(x2_min, x2_max, resolution))\n",
    "    \n",
    "#     z = classifier.predict(np.array([xx1.ravel(), xx2.ravel()]).T)\n",
    "#     z = z.reshape(xx1.shape)\n",
    "    \n",
    "#     plt.contourf(xx1, xx2, z, alpha=0.3, cmap=cmap)\n",
    "#     plt.xlim(xx1.min(), xx1.max())\n",
    "#     plt.ylim(xx2.min(), xx2.max())\n",
    "    \n",
    "#     for idx, cl in enumerate(np.unique(y)):\n",
    "#         plt.scatter(x = X[y == cl, 0],\n",
    "#                     y = X[y == cl, 1],\n",
    "#                     alpha = 0.8,\n",
    "#                     c = colors[idx],\n",
    "#                     marker = markers[idx],\n",
    "#                     label = cl,\n",
    "#                     edgecolor='black'\n",
    "#                    )\n",
    "        \n",
    "#     if test_idx:\n",
    "#         test_x, test_y = x[test_idx, :], y[test_idx]\n",
    "        \n",
    "#         plt.scatter(test_x[:, 0], test_x[:, 1], facecolors='none', edgecolors='black', alpha=1.0, linewidths=1, marker='o',\n",
    "#                    s=100, label='test set')\n",
    "from matplotlib.colors import ListedColormap\n",
    "import matplotlib.pyplot as plt\n",
    "\n",
    "\n",
    "def plot_decision_regions(X, y, classifier, test_idx=None, resolution=0.02):\n",
    "\n",
    "    # 마커와 컬러맵을 설정합니다.\n",
    "    markers = ('s', 'x', 'o', '^', 'v')\n",
    "    colors = ('red', 'blue', 'lightgreen', 'gray', 'cyan')\n",
    "    cmap = ListedColormap(colors[:len(np.unique(y))])\n",
    "\n",
    "    # 결정 경계를 그립니다.\n",
    "    x1_min, x1_max = X[:, 0].min() - 1, X[:, 0].max() + 1\n",
    "    x2_min, x2_max = X[:, 1].min() - 1, X[:, 1].max() + 1\n",
    "    xx1, xx2 = np.meshgrid(np.arange(x1_min, x1_max, resolution),\n",
    "                           np.arange(x2_min, x2_max, resolution))\n",
    "    Z = classifier.predict(np.array([xx1.ravel(), xx2.ravel()]).T)\n",
    "    Z = Z.reshape(xx1.shape)\n",
    "    plt.contourf(xx1, xx2, Z, alpha=0.3, cmap=cmap)\n",
    "    plt.xlim(xx1.min(), xx1.max())\n",
    "    plt.ylim(xx2.min(), xx2.max())\n",
    "\n",
    "    for idx, cl in enumerate(np.unique(y)):\n",
    "        plt.scatter(x=X[y == cl, 0], \n",
    "                    y=X[y == cl, 1],\n",
    "                    alpha=0.8, \n",
    "                    c=colors[idx],\n",
    "                    marker=markers[idx], \n",
    "                    label=cl, \n",
    "                    edgecolor=None if idx==1 else 'black')\n",
    "\n",
    "    # 테스트 샘플을 부각하여 그립니다.\n",
    "    if test_idx:\n",
    "        # 모든 샘플을 그립니다.\n",
    "        X_test, y_test = X[test_idx, :], y[test_idx]\n",
    "\n",
    "        plt.scatter(X_test[:, 0],\n",
    "                    X_test[:, 1],\n",
    "                    facecolor='none',\n",
    "                    edgecolor='black',\n",
    "                    alpha=1.0,\n",
    "                    linewidth=1,\n",
    "                    marker='o',\n",
    "                    s=100, \n",
    "                    label='test set')"
   ]
  },
  {
   "cell_type": "code",
   "execution_count": 46,
   "id": "9bc7ac4c",
   "metadata": {},
   "outputs": [
    {
     "ename": "TypeError",
     "evalue": "'tuple' object is not callable",
     "output_type": "error",
     "traceback": [
      "\u001b[1;31m---------------------------------------------------------------------------\u001b[0m",
      "\u001b[1;31mTypeError\u001b[0m                                 Traceback (most recent call last)",
      "\u001b[1;32m~\\AppData\\Local\\Temp/ipykernel_7856/2557074754.py\u001b[0m in \u001b[0;36m<module>\u001b[1;34m\u001b[0m\n\u001b[0;32m     10\u001b[0m \u001b[1;33m\u001b[0m\u001b[0m\n\u001b[0;32m     11\u001b[0m \u001b[0mx_combined_std\u001b[0m \u001b[1;33m=\u001b[0m \u001b[0mnp\u001b[0m\u001b[1;33m.\u001b[0m\u001b[0mvstack\u001b[0m\u001b[1;33m(\u001b[0m\u001b[1;33m(\u001b[0m\u001b[0mtrain_x_std\u001b[0m\u001b[1;33m,\u001b[0m \u001b[0mtest_x_std\u001b[0m\u001b[1;33m)\u001b[0m\u001b[1;33m)\u001b[0m\u001b[1;33m\u001b[0m\u001b[1;33m\u001b[0m\u001b[0m\n\u001b[1;32m---> 12\u001b[1;33m \u001b[0my_combined\u001b[0m \u001b[1;33m=\u001b[0m \u001b[0mnp\u001b[0m\u001b[1;33m.\u001b[0m\u001b[0mhstack\u001b[0m\u001b[1;33m(\u001b[0m\u001b[1;33m(\u001b[0m\u001b[0mtrain_y\u001b[0m\u001b[1;33m,\u001b[0m \u001b[0mtest_y\u001b[0m\u001b[1;33m)\u001b[0m\u001b[1;33m)\u001b[0m\u001b[1;33m\u001b[0m\u001b[1;33m\u001b[0m\u001b[0m\n\u001b[0m\u001b[0;32m     13\u001b[0m \u001b[1;33m\u001b[0m\u001b[0m\n\u001b[0;32m     14\u001b[0m plot_decision_regions(X=x_combined_std, y=y_combined,\n",
      "\u001b[1;31mTypeError\u001b[0m: 'tuple' object is not callable"
     ]
    }
   ],
   "source": [
    "# x_combined_std = np.vstack((train_x_std, test_x_std))\n",
    "# y_combined = np.hstack((train_y, test_y))\n",
    "\n",
    "# plot_decision_regions(X = x_combined_std,\n",
    "#                      y = y_combined,\n",
    "#                      classifier=ppn,\n",
    "#                      test_idx=range(105,150))\n",
    "\n",
    "# plt.show()\n",
    "\n",
    "x_combined_std = np.vstack((train_x_std, test_x_std))\n",
    "y_combined = np.hstack((train_y, test_y))\n",
    "\n",
    "plot_decision_regions(X=x_combined_std, y=y_combined,\n",
    "                      classifier=ppn, test_idx=range(105, 150))\n",
    "plt.xlabel('petal length [standardized]')\n",
    "plt.ylabel('petal width [standardized]')\n",
    "plt.legend(loc='upper left')\n",
    "\n",
    "plt.tight_layout()\n",
    "# plt.savefig('images/03_01.png', dpi=300)\n",
    "plt.show()"
   ]
  },
  {
   "cell_type": "markdown",
   "id": "e33dedba",
   "metadata": {},
   "source": [
    "## 3.3 로지스틱 회귀를 사용한 클래스 확률 모델링"
   ]
  },
  {
   "cell_type": "markdown",
   "id": "0418fbd9",
   "metadata": {},
   "source": [
    "### 3.3.1 로지스틱 회귀의 이해"
   ]
  },
  {
   "cell_type": "code",
   "execution_count": 26,
   "id": "c9a7d535",
   "metadata": {},
   "outputs": [
    {
     "data": {
      "image/png": "[encoded data removed]",
      "text/plain": [
       "<Figure size 432x288 with 1 Axes>"
      ]
     },
     "metadata": {
      "needs_background": "light"
     },
     "output_type": "display_data"
    }
   ],
   "source": [
    "# 시그모이드 함수 그리기\n",
    "import matplotlib.pyplot as plt\n",
    "\n",
    "def sigmoid(z):\n",
    "    return 1.0 / (1.0 + np.exp(-z))\n",
    "\n",
    "z = np.arange(-5, 5, 0.1)\n",
    "\n",
    "plt.plot(z, sigmoid(z))\n",
    "plt.grid()\n",
    "plt.yticks([0.0, 0.5, 1.0])\n",
    "plt.show()"
   ]
  },
  {
   "cell_type": "markdown",
   "id": "119cc58b",
   "metadata": {},
   "source": [
    "### 3.3.4 사이킷런을 사용하여 로지스틱 회귀 모델 훈련"
   ]
  },
  {
   "cell_type": "code",
   "execution_count": 28,
   "id": "00cbb627",
   "metadata": {},
   "outputs": [
    {
     "data": {
      "text/plain": [
       "LogisticRegression()"
      ]
     },
     "execution_count": 28,
     "metadata": {},
     "output_type": "execute_result"
    }
   ],
   "source": [
    "from sklearn.linear_model import LogisticRegression\n",
    "\n",
    "lr = LogisticRegression()\n",
    "lr.fit(train_x_std, train_y)"
   ]
  },
  {
   "cell_type": "code",
   "execution_count": null,
   "id": "d4800cac",
   "metadata": {},
   "outputs": [],
   "source": [
    "plot_decision_regions()"
   ]
  }
 ],
 "metadata": {
  "kernelspec": {
   "display_name": "Python 3 (ipykernel)",
   "language": "python",
   "name": "python3"
  },
  "language_info": {
   "codemirror_mode": {
    "name": "ipython",
    "version": 3
   },
   "file_extension": ".py",
   "mimetype": "text/x-python",
   "name": "python",
   "nbconvert_exporter": "python",
   "pygments_lexer": "ipython3",
   "version": "3.8.12"
  }
 },
 "nbformat": 4,
 "nbformat_minor": 5
}
