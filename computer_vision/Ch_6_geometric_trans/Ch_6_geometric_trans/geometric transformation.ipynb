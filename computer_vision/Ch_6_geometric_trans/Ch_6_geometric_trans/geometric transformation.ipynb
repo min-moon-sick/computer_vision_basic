{
 "cells": [
  {
   "cell_type": "markdown",
   "id": "61cba47d",
   "metadata": {},
   "source": [
    "# 축 이동"
   ]
  },
  {
   "cell_type": "code",
   "execution_count": 16,
   "id": "bd89e73c",
   "metadata": {},
   "outputs": [],
   "source": [
    "import numpy as np\n",
    "import sys\n",
    "import cv2\n",
    "import matplotlib.pyplot as plt\n",
    "\n",
    "src = cv2.imread('./fig/puppy.bmp')\n",
    "\n",
    "affine = np.array([[1.5, 0, 50],  # [a 0 b], [0,1,c]  # a는 x축으로 확대\n",
    "                   [0, 1, 100]], np.float32)          # b는 x축 이동\n",
    "                                                      # c는 y축 이동\n",
    "# print(affine)\n",
    "\n",
    "# warpAffine(src, M, dsize[, dst[, flags[, borderMode[, borderValue]]]]) -> dst\n",
    "dst = cv2.warpAffine(src, affine, (2, 0)) # dsize는 out shape\n",
    "\n",
    "cv2.imshow('src', src) \n",
    "cv2.imshow('dst', dst) \n",
    "\n",
    "cv2.waitKey()\n",
    "cv2.destroyAllWindows()"
   ]
  },
  {
   "cell_type": "markdown",
   "id": "0e64ec5e",
   "metadata": {},
   "source": [
    "# 확대 및 축소"
   ]
  },
  {
   "cell_type": "code",
   "execution_count": 23,
   "id": "5446be22",
   "metadata": {},
   "outputs": [],
   "source": [
    "import numpy as np\n",
    "import sys\n",
    "import cv2\n",
    "import matplotlib.pyplot as plt\n",
    "\n",
    "src = cv2.imread('./fig/rose.jpg')\n",
    "\n",
    "dst_linear = cv2.resize(src, (int(src.shape[0] * 1.5), int(src.shape[0] * 1.5)), interpolation = cv2.INTER_LINEAR)\n",
    "dst_near = cv2.resize(src, (int(src.shape[0] * 1.5), int(src.shape[0] * 1.5)), interpolation = cv2.INTER_NEAREST)\n",
    "dst_cubic = cv2.resize(src, (int(src.shape[0] * 1.5), int(src.shape[0] * 1.5)), interpolation = cv2.INTER_CUBIC)\n",
    "\n",
    "cv2.imshow('src', src) \n",
    "cv2.imshow('dst_linear', dst_linear) \n",
    "cv2.imshow('dst_near', dst_near)\n",
    "cv2.imshow('dst_cubic', dst_cubic)\n",
    "\n",
    "cv2.waitKey()\n",
    "cv2.destroyAllWindows()"
   ]
  },
  {
   "cell_type": "markdown",
   "id": "9353a0a9",
   "metadata": {},
   "source": [
    "# 회전 변환"
   ]
  },
  {
   "cell_type": "code",
   "execution_count": 27,
   "id": "358edbf3",
   "metadata": {},
   "outputs": [],
   "source": [
    "import numpy as np\n",
    "import sys\n",
    "import cv2\n",
    "import matplotlib.pyplot as plt\n",
    "\n",
    "src = cv2.imread('./fig/puppy.bmp')\n",
    "\n",
    "h, w = src.shape[:2]\n",
    "\n",
    "# getRotationMatrix2D(center, angle, scale) -> retval\n",
    "rot_affine = cv2.getRotationMatrix2D((w//2, h//2), 290, 1)\n",
    "\n",
    "dst = cv2.warpAffine(src, rot_affine, (0, 0))\n",
    "\n",
    "cv2.imshow('src', src) \n",
    "cv2.imshow('dst', dst)\n",
    "\n",
    "cv2.waitKey()\n",
    "cv2.destroyAllWindows()"
   ]
  },
  {
   "cell_type": "code",
   "execution_count": null,
   "id": "0837fc2b",
   "metadata": {},
   "outputs": [],
   "source": []
  }
 ],
 "metadata": {
  "kernelspec": {
   "display_name": "Python 3 (ipykernel)",
   "language": "python",
   "name": "python3"
  },
  "language_info": {
   "codemirror_mode": {
    "name": "ipython",
    "version": 3
   },
   "file_extension": ".py",
   "mimetype": "text/x-python",
   "name": "python",
   "nbconvert_exporter": "python",
   "pygments_lexer": "ipython3",
   "version": "3.8.12"
  }
 },
 "nbformat": 4,
 "nbformat_minor": 5
}
