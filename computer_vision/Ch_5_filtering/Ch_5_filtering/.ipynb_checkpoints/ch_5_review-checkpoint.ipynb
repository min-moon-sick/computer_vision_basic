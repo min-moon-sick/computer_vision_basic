{
 "cells": [
  {
   "cell_type": "code",
   "execution_count": 8,
   "id": "ba2e494b",
   "metadata": {},
   "outputs": [
    {
     "name": "stdout",
     "output_type": "stream",
     "text": [
      "float64\n"
     ]
    }
   ],
   "source": [
    "import numpy as np\n",
    "import sys\n",
    "import cv2\n",
    "import matplotlib.pyplot as plt\n",
    "\n",
    "src = cv2.imread('./fig/blue_eyes.png')\n",
    "\n",
    "kernel_3 = np.ones((3, 3), np.uint8) / 9.0\n",
    "kernel_5 = np.ones((5, 5), np.uint8) / 25.0\n",
    "print(kernel.dtype)\n",
    "\n",
    "# filter2D(src, ddepth, kernel[, dst[, anchor[, delta[, borderType]]]]) -> dst\n",
    "dst_3 = cv2.filter2D(src, -1, kernel_3)  # conv 연산을 시켜주는 함수\n",
    "dst_5 = cv2.filter2D(src, -1, kernel_5)\n",
    "\n",
    "dst_blur = cv2.blur(src, (3, 3))\n",
    "\n",
    "cv2.imshow('src', src)\n",
    "cv2.imshow('dst_3', dst_3)\n",
    "cv2.imshow('dst_5', dst_5)\n",
    "cv2.imshow('dst_blur', dst_blur)\n",
    "\n",
    "cv2.waitKey()\n",
    "cv2.destroyAllWindows()"
   ]
  },
  {
   "cell_type": "code",
   "execution_count": 4,
   "id": "f0a07de5",
   "metadata": {},
   "outputs": [],
   "source": [
    "import numpy as np\n",
    "import sys\n",
    "import cv2\n",
    "import matplotlib.pyplot as plt\n",
    "\n",
    "src = cv2.imread('./fig/blue_eyes.png')\n",
    "\n",
    "cv2.imshow('src', src)\n",
    "\n",
    "for ksize in (3, 5, 7, 9):\n",
    "    \n",
    "    # blur(src, ksize[, dst[, anchor[, borderType]]]) -> dst\n",
    "    dst = cv2.blur(src, (ksize, ksize)) # \n",
    "\n",
    "    text = '{} x {}'.format(ksize, ksize)\n",
    "    cv2.putText(dst, text, (10, 30), cv2.FONT_HERSHEY_COMPLEX, 0.8, (0, 0, 255), 2 , cv2.LINE_AA)\n",
    "\n",
    "    cv2.imshow('dst', dst)\n",
    "\n",
    "    if cv2.waitKey(3000) == 27:\n",
    "        break\n",
    "        \n",
    "\n",
    "cv2.destroyAllWindows()"
   ]
  },
  {
   "cell_type": "markdown",
   "id": "af2d0de1",
   "metadata": {},
   "source": [
    "# 노이즈를 줄이기 위한 가우시안 필터"
   ]
  },
  {
   "cell_type": "code",
   "execution_count": 4,
   "id": "8f744a0e",
   "metadata": {},
   "outputs": [],
   "source": [
    "import numpy as np\n",
    "import sys\n",
    "import cv2\n",
    "import matplotlib.pyplot as plt\n",
    "\n",
    "src = cv2.imread('./fig/blue_eyes.png')\n",
    "\n",
    "# GaussianBlur(src, ksize, sigmaX[, dst[, sigmaY[, borderType]]]) -> dst    \n",
    "dst_gaussian_1 = cv2.GaussianBlur(src, (0, 0), 1) # 일반적으로 ksize는 조절하지 않고 sigma를 조절\n",
    "dst_gaussian_2 = cv2.GaussianBlur(src, (0, 0), 2) # 일반적으로 ksize는 조절하지 않고 sigma를 조절\n",
    "dst_gaussian_half = cv2.GaussianBlur(src, (0, 0), 0.5) # 일반적으로 ksize는 조절하지 않고 sigma를 조절\n",
    "\n",
    "# 비교용\n",
    "dst_blur = cv2.blur(src, (7, 7))\n",
    "\n",
    "cv2.imshow('src', src)\n",
    "cv2.imshow('dst_gaussian_1', dst_gaussian_1)\n",
    "cv2.imshow('dst_gaussian_2', dst_gaussian_2)\n",
    "cv2.imshow('dst_gaussian_half', dst_gaussian_half)\n",
    "\n",
    "cv2.imshow('dst_blur', dst_blur)\n",
    "\n",
    "\n",
    "cv2.waitKey()\n",
    "cv2.destroyAllWindows()"
   ]
  },
  {
   "cell_type": "markdown",
   "id": "aaf12e53",
   "metadata": {},
   "source": [
    "# 엣지가 더 뚜렷하게 보이게 Sharpening filter 사용"
   ]
  },
  {
   "cell_type": "code",
   "execution_count": 18,
   "id": "a15af55a",
   "metadata": {},
   "outputs": [],
   "source": [
    "import numpy as np\n",
    "import sys\n",
    "import cv2\n",
    "import matplotlib.pyplot as plt\n",
    "\n",
    "src = cv2.imread('./fig/blue_eyes.png', 0)\n",
    "# 샤프닝 필터를 사용하기 위해 일부러 원본 이미지를 뭉게버림\n",
    "# src = cv2.GaussianBlur(src, (0, 0), 3)\n",
    "\n",
    "blr = cv2.GaussianBlur(src, (0, 0), 2)\n",
    "\n",
    "# 1) 수식으로 구현\n",
    "# dst_sharp = np.clip(2.0 * src - blr, 0 , 255).astype(np.uint8)\n",
    "\n",
    "# 2) 함수로 구현\n",
    "dst_sharp = cv2.addWeighted(src, 2, blr, -1, 0)\n",
    "\n",
    "cv2.imshow('src', src)\n",
    "cv2.imshow('blr', blr)\n",
    "cv2.imshow('dst_sharp', dst_sharp)\n",
    "\n",
    "\n",
    "cv2.waitKey()\n",
    "cv2.destroyAllWindows()"
   ]
  },
  {
   "cell_type": "markdown",
   "id": "aed05347",
   "metadata": {},
   "source": [
    "### color로 sharpening filter 사용"
   ]
  },
  {
   "cell_type": "code",
   "execution_count": 28,
   "id": "bf9e6cd0",
   "metadata": {},
   "outputs": [],
   "source": [
    "import numpy as np\n",
    "import sys\n",
    "import cv2\n",
    "import matplotlib.pyplot as plt\n",
    "\n",
    "src = cv2.imread('./fig/blue_eyes.png')\n",
    "\n",
    "src_hsv = cv2.cvtColor(src, cv2.COLOR_BGR2HSV)\n",
    "\n",
    "h, s, v = cv2.split(src_hsv)\n",
    "\n",
    "# 명도의 노이즈 정리\n",
    "v_gaussian = cv2.GaussianBlur(v, (0, 0), 1)\n",
    "\n",
    "src_hsv_g = cv2.merge((h, s, v_gaussian))\n",
    "\n",
    "# 샤프닝 필터 사용\n",
    "dst = cv2.addWeighted(src_hsv, 2, src_hsv_g, -1, 0)\n",
    "\n",
    "src_result = cv2.cvtColor(dst, cv2.COLOR_HSV2BGR)\n",
    "\n",
    "cv2.imshow('src', src)\n",
    "cv2.imshow('src_hsv', src_hsv)\n",
    "cv2.imshow('dst', dst)\n",
    "cv2.imshow('src_result', src_result)\n",
    "\n",
    "cv2.waitKey()\n",
    "cv2.destroyAllWindows()"
   ]
  },
  {
   "cell_type": "markdown",
   "id": "d101f608",
   "metadata": {},
   "source": [
    "# 중앙값을 사용한 median filter"
   ]
  },
  {
   "cell_type": "code",
   "execution_count": 10,
   "id": "8c05f874",
   "metadata": {},
   "outputs": [],
   "source": [
    "import numpy as np\n",
    "import sys\n",
    "import cv2\n",
    "import matplotlib.pyplot as plt\n",
    "\n",
    "src = cv2.imread('./fig/blue_eyes.png', 0)\n",
    "\n",
    "# print(src.shape) # (553, 840)\n",
    "\n",
    "# 원래 이미지에 노이즈 추가\n",
    "noise_1 = np.random.choice((0, 255), src.shape[:2], p = (0.95, 0.05))\n",
    "noise_2 = np.random.choice((0, 255), src.shape[:2], p = (0.95, 0.05))\n",
    "\n",
    "src_noise = src + noise_1 - noise_2\n",
    "src_noise = np.clip(src_noise, 0, 255).astype(np.uint8)\n",
    "\n",
    "dst = cv2.medianBlur(src_noise, 3)\n",
    "\n",
    "cv2.imshow('src', src)\n",
    "cv2.imshow('src_noise', src_noise)\n",
    "cv2.imshow('dst', dst)\n",
    "\n",
    "cv2.waitKey()\n",
    "cv2.destroyAllWindows()"
   ]
  },
  {
   "cell_type": "markdown",
   "id": "3493fa20",
   "metadata": {},
   "source": [
    "# 양방향 필터"
   ]
  },
  {
   "cell_type": "code",
   "execution_count": 13,
   "id": "0bbd8155",
   "metadata": {},
   "outputs": [],
   "source": [
    "import numpy as np\n",
    "import sys\n",
    "import cv2\n",
    "import matplotlib.pyplot as plt\n",
    "\n",
    "src = cv2.imread('./fig/blue_eyes.png', cv2.IMREAD_GRAYSCALE)\n",
    "\n",
    "dst_Gaussian = cv2.GaussianBlur(src, (0, 0), 3) # 여기서 3은 분산을 위한 sigma\n",
    "\n",
    "# bilateralFilter(src, d, sigmaColor, sigmaSpace[, dst[, borderType]]) -> dst\n",
    "dst_bilteral = cv2.bilateralFilter(src, -1, 10, 3)   # -1 은 원본의 형태를 그대로 가져온다는 뜻\n",
    "\n",
    "cv2.imshow('src', src) \n",
    "cv2.imshow('dst_Gaussian', dst_Gaussian)\n",
    "cv2.imshow('dst_bilteral', dst_bilteral) \n",
    "\n",
    "cv2.waitKey()\n",
    "cv2.destroyAllWindows()"
   ]
  },
  {
   "cell_type": "code",
   "execution_count": 20,
   "id": "0e4982d2",
   "metadata": {},
   "outputs": [
    {
     "name": "stdout",
     "output_type": "stream",
     "text": [
      "(350, 520, 3)\n"
     ]
    }
   ],
   "source": [
    "import numpy as np\n",
    "import sys\n",
    "import cv2\n",
    "import matplotlib.pyplot as plt\n",
    "\n",
    "src = cv2.imread('./fig/son.jpg')\n",
    "blr = cv2.GaussianBlur(src, (0, 0), 2)\n",
    "edge = 255 - cv2.Canny(src, 50, 150)\n",
    "edge = cv2.cvtColor(edge, cv2.COLOR_GRAY2RGB)\n",
    "\n",
    "dst = cv2.bitwise_and(blr, edge)\n",
    "\n",
    "print(edge.shape)\n",
    "cv2.imshow('src', src) \n",
    "cv2.imshow('blr', blr) \n",
    "cv2.imshow('edge', edge) \n",
    "cv2.imshow('dst', dst) \n",
    "\n",
    "cv2.waitKey()\n",
    "cv2.destroyAllWindows()"
   ]
  },
  {
   "cell_type": "code",
   "execution_count": 72,
   "id": "fc13bbd3",
   "metadata": {},
   "outputs": [
    {
     "name": "stdout",
     "output_type": "stream",
     "text": [
      "(188, 194, 3)\n"
     ]
    }
   ],
   "source": [
    "import numpy as np\n",
    "import sys\n",
    "import cv2\n",
    "import matplotlib.pyplot as plt\n",
    "\n",
    "src = cv2.imread('./fig/cloth.PNG')\n",
    "blr = cv2.GaussianBlur(src, (0, 0), 2)\n",
    "edge = 255 - cv2.Canny(src, 300, 250)\n",
    "edge = cv2.cvtColor(edge, cv2.COLOR_GRAY2RGB)\n",
    "\n",
    "dst = cv2.bitwise_and(blr, edge)\n",
    "\n",
    "print(edge.shape)\n",
    "cv2.imshow('src', src) \n",
    "cv2.imshow('blr', blr) \n",
    "cv2.imshow('edge', edge) \n",
    "\n",
    "cv2.imshow('dst', dst) \n",
    "\n",
    "cv2.waitKey()\n",
    "cv2.destroyAllWindows()"
   ]
  },
  {
   "cell_type": "code",
   "execution_count": null,
   "id": "05b7721e",
   "metadata": {},
   "outputs": [],
   "source": []
  }
 ],
 "metadata": {
  "kernelspec": {
   "display_name": "Python 3 (ipykernel)",
   "language": "python",
   "name": "python3"
  },
  "language_info": {
   "codemirror_mode": {
    "name": "ipython",
    "version": 3
   },
   "file_extension": ".py",
   "mimetype": "text/x-python",
   "name": "python",
   "nbconvert_exporter": "python",
   "pygments_lexer": "ipython3",
   "version": "3.8.12"
  }
 },
 "nbformat": 4,
 "nbformat_minor": 5
}
