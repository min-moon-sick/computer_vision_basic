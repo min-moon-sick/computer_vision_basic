{
 "cells": [
  {
   "cell_type": "code",
   "execution_count": 1,
   "id": "6fb614c5",
   "metadata": {},
   "outputs": [],
   "source": [
    "import numpy as np\n",
    "import platform"
   ]
  },
  {
   "cell_type": "code",
   "execution_count": 2,
   "id": "71e7384b",
   "metadata": {},
   "outputs": [
    {
     "name": "stdout",
     "output_type": "stream",
     "text": [
      "Collecting opencv-python\n",
      "  Downloading opencv_python-4.5.5.62-cp36-abi3-win_amd64.whl (35.4 MB)\n",
      "Requirement already satisfied: numpy>=1.17.3 in c:\\users\\hpe\\anaconda3\\lib\\site-packages (from opencv-python) (1.20.3)\n",
      "Installing collected packages: opencv-python\n",
      "Successfully installed opencv-python-4.5.5.62\n"
     ]
    }
   ],
   "source": [
    "# ! pip install opencv-python"
   ]
  },
  {
   "cell_type": "code",
   "execution_count": 4,
   "id": "c41e3128",
   "metadata": {},
   "outputs": [
    {
     "data": {
      "text/plain": [
       "'4.5.5'"
      ]
     },
     "execution_count": 4,
     "metadata": {},
     "output_type": "execute_result"
    }
   ],
   "source": [
    "import numpy as np\n",
    "import cv2\n",
    "import sys\n",
    "\n",
    "cv2.__version__"
   ]
  },
  {
   "cell_type": "markdown",
   "id": "5f5abe5a",
   "metadata": {},
   "source": [
    "# 이미지 처리"
   ]
  },
  {
   "cell_type": "markdown",
   "id": "816b790a",
   "metadata": {},
   "source": [
    "### 1.1 이미지 읽고 출력"
   ]
  },
  {
   "cell_type": "code",
   "execution_count": null,
   "id": "a5b9c803",
   "metadata": {},
   "outputs": [],
   "source": [
    "import numpy as np\n",
    "import cv2\n",
    "import sys\n",
    "\n",
    "###imread 객체를 정의\n",
    "img = cv2.imread('./fig/puppy.bmp')\n",
    "\n",
    "# 예외 처리\n",
    "if img is None:\n",
    "    print('image read failed')\n",
    "    sys.exit()\n",
    "\n",
    "    \n",
    "### 윈도우 창 생성\n",
    "cv2.namedWindow('image')\n",
    "\n",
    "\n",
    "### 이미지 출력\n",
    "cv2.imshow('image', img)\n",
    "# cv2.waitKey()\n",
    "value = cv2.waitKey()\n",
    "\n",
    "\n",
    "### 키보드 키로 종료 시 그 키보드의 아스키 코드가 출력됨\n",
    "print(value)\n",
    "\n",
    "\n",
    "### 윈도우 종료\n",
    "cv2.destroyAllWindows()"
   ]
  },
  {
   "cell_type": "markdown",
   "id": "c865ea36",
   "metadata": {},
   "source": [
    "### 1.1.1 실습"
   ]
  },
  {
   "cell_type": "code",
   "execution_count": 4,
   "id": "dd0cbc84",
   "metadata": {},
   "outputs": [],
   "source": [
    "import numpy as np\n",
    "import cv2\n",
    "import sys\n",
    "\n",
    "img = cv2.imread('./fig/cat.bmp')\n",
    "\n",
    "if img is None:\n",
    "    print('image read failed')\n",
    "    sys.exit()\n",
    "    \n",
    "cv2.namedWindow('test')\n",
    "\n",
    "cv2.imshow('test', img)\n",
    "cv2.waitKey()\n",
    "\n",
    "cv2.destroyAllWindows()"
   ]
  },
  {
   "cell_type": "markdown",
   "id": "6ddbf854",
   "metadata": {},
   "source": [
    "### 1.2 이미지 색상 처리"
   ]
  },
  {
   "cell_type": "code",
   "execution_count": 12,
   "id": "9e56535d",
   "metadata": {},
   "outputs": [
    {
     "name": "stdout",
     "output_type": "stream",
     "text": [
      "(480, 640, 3)\n",
      "width = 640, height \\ 480\n"
     ]
    }
   ],
   "source": [
    "import numpy as np\n",
    "import cv2\n",
    "import sys\n",
    "\n",
    "# 이미지 읽어들일 때 옵션 추가\n",
    "img = cv2.imread('./fig/cat.bmp')\n",
    "img1 = cv2.imread('./fig/PD_MRI.jpeg')\n",
    "img2 = cv2.imread('./fig/PD_MRI.jpeg', cv2.IMREAD_GRAYSCALE)\n",
    "# cv2.IMREAD_COLORC : RGB COLOR로 읽기 (1)\n",
    "# cv2.IMREAD_GRAYSCALE : 그레이 COLOR로 읽기 (0)\n",
    "# cv2.IMREAD_UNCHANGED : 파일 속성대로 읽기\n",
    "\n",
    "if img is None:\n",
    "    print('image read failed')\n",
    "    sys.exit()\n",
    "    \n",
    "if img1 is None:\n",
    "    print('image read failed')\n",
    "    sys.exit()\n",
    "    \n",
    "if img2 is None:\n",
    "    print('image read failed')\n",
    "    sys.exit()\n",
    "    \n",
    "cv2.namedWindow('test')\n",
    "cv2.namedWindow('test1')\n",
    "cv2.namedWindow('test2')\n",
    "\n",
    "cv2.imshow('test', img)\n",
    "cv2.imshow('test1', img1)\n",
    "cv2.imshow('test2', img2)\n",
    "cv2.waitKey()\n",
    "\n",
    "cv2.destroyAllWindows()"
   ]
  },
  {
   "cell_type": "code",
   "execution_count": 11,
   "id": "a18e512a",
   "metadata": {},
   "outputs": [
    {
     "name": "stdout",
     "output_type": "stream",
     "text": [
      "(480, 640, 3)\n",
      "(630, 630, 3)\n",
      "(630, 630)\n"
     ]
    }
   ],
   "source": [
    "print(img.shape)\n",
    "print(img1.shape)\n",
    "print(img2.shape)"
   ]
  },
  {
   "cell_type": "markdown",
   "id": "9e92477a",
   "metadata": {},
   "source": [
    "- default로는 컬러 이미지여서 rgb가 나와서 마지막 shape가 3이 나옴"
   ]
  },
  {
   "cell_type": "code",
   "execution_count": 13,
   "id": "9f79bcb3",
   "metadata": {},
   "outputs": [
    {
     "name": "stdout",
     "output_type": "stream",
     "text": [
      "(480, 640, 3)\n",
      "width = 640, height \\ 480\n"
     ]
    }
   ],
   "source": [
    "print(img.shape)\n",
    "h, w = img.shape[:2]\n",
    "\n",
    "print('width = {}, height \\ {}'.format(w, h))"
   ]
  },
  {
   "cell_type": "markdown",
   "id": "63193580",
   "metadata": {},
   "source": [
    "### 1.3 이미지 사이즈 조절 및 저장"
   ]
  },
  {
   "cell_type": "code",
   "execution_count": 23,
   "id": "ec054e94",
   "metadata": {},
   "outputs": [
    {
     "data": {
      "text/plain": [
       "True"
      ]
     },
     "execution_count": 23,
     "metadata": {},
     "output_type": "execute_result"
    }
   ],
   "source": [
    "h, w = img.shape[:2]\n",
    "\n",
    "# 이미지 반으로 줄이기\n",
    "img_small = cv2.resize(img, (w//2, h//2), interpolation = cv2.INTER_AREA)\n",
    "\n",
    "# 이미지 2배로 늘리기\n",
    "img_large = cv2.resize(img, (int(w*2), int(h*2)), interpolation = cv2.INTER_LINEAR)\n",
    "\n",
    "# 저장\n",
    "cv2.imwrite('./fig/cat_small.png', img_small)\n",
    "cv2.imwrite('./fig/cat_large.png', img_large)"
   ]
  },
  {
   "cell_type": "markdown",
   "id": "1b752ac2",
   "metadata": {},
   "source": [
    "### 1.4 창 크기 조절"
   ]
  },
  {
   "cell_type": "code",
   "execution_count": 39,
   "id": "71466f31",
   "metadata": {},
   "outputs": [],
   "source": [
    "img = cv2.imread('./fig/cat.bmp')\n",
    "\n",
    "if img is None:\n",
    "    sys.exit()\n",
    "\n",
    "cv2.namedWindow('image', cv2.WINDOW_NORMAL)\n",
    "# cv2.WINDOW_NORMAL   : 영상크기를 창 크기에 맞게 지정\n",
    "# cv2.WINDOW_AUTOSIZE : 창크기를 영상 크기에 맞게 지정\n",
    "# cv2.moveWindow('image', 100, 200) : 창 열었을 때 위치 지정\n",
    "\n",
    "cv2.imshow('image', img)\n",
    "cv2.waitKey()\n",
    "\n",
    "cv2.destroyAllWindows()"
   ]
  },
  {
   "cell_type": "code",
   "execution_count": 32,
   "id": "c3af16da",
   "metadata": {},
   "outputs": [
    {
     "data": {
      "text/plain": [
       "dtype('uint8')"
      ]
     },
     "execution_count": 32,
     "metadata": {},
     "output_type": "execute_result"
    }
   ],
   "source": [
    "img.dtype"
   ]
  },
  {
   "cell_type": "markdown",
   "id": "66ca90db",
   "metadata": {},
   "source": [
    "### 1.5 키보드 입력 받기"
   ]
  },
  {
   "cell_type": "code",
   "execution_count": 46,
   "id": "bd99d5be",
   "metadata": {},
   "outputs": [
    {
     "name": "stdout",
     "output_type": "stream",
     "text": [
      "image saved\n",
      "97\n"
     ]
    }
   ],
   "source": [
    "import numpy as np\n",
    "import sys\n",
    "import cv2\n",
    "\n",
    "img = cv2.imread('./fig/cat.bmp', cv2.IMREAD_COLOR)\n",
    "\n",
    "if img is None:\n",
    "    sys.exit()\n",
    "    \n",
    "cv2.namedWindow('image', cv2.WINDOW_AUTOSIZE)\n",
    "\n",
    "cv2.imshow('image', img)\n",
    "\n",
    "### 일정 시간 지나면 종료\n",
    "# value = cv2.waitKey(3000)\n",
    "\n",
    "### 특정 키를 누르면 종료\n",
    "while True:\n",
    "    key = cv2.waitKey()\n",
    "    \n",
    "    if key == ord('a'):\n",
    "        break\n",
    "        \n",
    "    elif key == ord('s'):\n",
    "        print('image saved')\n",
    "        cv2.imwrite('./fig/key_test.png', img)\n",
    "print(value)\n",
    "\n",
    "cv2.destroyAllWindows()"
   ]
  },
  {
   "cell_type": "markdown",
   "id": "c592a27f",
   "metadata": {},
   "source": [
    "### 1.5.2 실습"
   ]
  },
  {
   "cell_type": "code",
   "execution_count": 48,
   "id": "85fe83cf",
   "metadata": {},
   "outputs": [
    {
     "name": "stdout",
     "output_type": "stream",
     "text": [
      "exit\n"
     ]
    }
   ],
   "source": [
    "import numpy as np\n",
    "import sys\n",
    "import cv2\n",
    "\n",
    "img = cv2.imread('./fig/puppy.bmp', cv2.IMREAD_GRAYSCALE)\n",
    "\n",
    "if img is None:\n",
    "    print('image not founded')\n",
    "    sys.exit()\n",
    "    \n",
    "    \n",
    "cv2.namedWindow('dog', cv2.WINDOW_AUTOSIZE)\n",
    "\n",
    "cv2.imshow('dog', img)\n",
    "\n",
    "while 1:\n",
    "    \n",
    "    key = cv2.waitKey()\n",
    "    if key == ord('a'):\n",
    "        print('exit')\n",
    "        break\n",
    "\n",
    "cv2.destroyAllWindows()"
   ]
  },
  {
   "cell_type": "markdown",
   "id": "f394ffbf",
   "metadata": {},
   "source": [
    "### 1.6 matplot으로 이미지 출력"
   ]
  },
  {
   "cell_type": "code",
   "execution_count": 3,
   "id": "61555c58",
   "metadata": {},
   "outputs": [
    {
     "data": {
      "image/png": "[encoded data removed]",
      "text/plain": [
       "<Figure size 720x144 with 3 Axes>"
      ]
     },
     "metadata": {
      "needs_background": "light"
     },
     "output_type": "display_data"
    },
    {
     "name": "stdout",
     "output_type": "stream",
     "text": [
      "exit\n"
     ]
    }
   ],
   "source": [
    "import numpy as np\n",
    "import sys\n",
    "import cv2\n",
    "import matplotlib.pyplot as plt\n",
    "\n",
    "imgBGR = cv2.imread('./fig/puppy.bmp')\n",
    "imgRGB = cv2.cvtColor(imgBGR, cv2.COLOR_BGR2RGB)\n",
    "\n",
    "if imgBGR is None:\n",
    "    print('image not founded')\n",
    "    sys.exit()\n",
    "\n",
    "\n",
    "plt.figure(figsize=(10,2))\n",
    "plt.subplot(131), plt.imshow(imgBGR), plt.axis('off')\n",
    "plt.subplot(132), plt.imshow(imgRGB), plt.axis('off')\n",
    "plt.subplot(133), plt.imshow(imgBGR, cmap ='gray'), plt.axis('off')\n",
    "plt.show()\n",
    "\n",
    "cv2.namedWindow('dog')\n",
    "cv2.imshow('dog', imgBGR)\n",
    "\n",
    "while 1:\n",
    "    \n",
    "    key = cv2.waitKey()\n",
    "    if key == ord('a'):\n",
    "        print('exit')\n",
    "        break\n",
    "        \n",
    "cv2.destroyAllWindows()"
   ]
  },
  {
   "cell_type": "code",
   "execution_count": 6,
   "id": "ae778d96",
   "metadata": {},
   "outputs": [
    {
     "name": "stdout",
     "output_type": "stream",
     "text": [
      "(4032, 3024, 3)\n"
     ]
    }
   ],
   "source": [
    "import numpy as np\n",
    "import cv2\n",
    "import sys\n",
    "\n",
    "img = cv2.imread('./fig/sky.jpg')\n",
    "print(img.shape)\n",
    "\n",
    "w, h = img.shape[:2]\n",
    "\n",
    "cv2.namedWindow('sky', cv2.WINDOW_AUTOSIZE)\n",
    "\n",
    "img = cv2.resize(img, (int(h//10), int(w//10)), interpolation = cv2.INTER_LINEAR)\n",
    "cv2.imshow('sky', img)\n",
    "\n",
    "while 1:\n",
    "    key = cv2.waitKey()\n",
    "    \n",
    "    if key == ord('q'):\n",
    "        break\n",
    "\n",
    "cv2.destroyAllWindows()"
   ]
  },
  {
   "cell_type": "code",
   "execution_count": null,
   "id": "d938c98d",
   "metadata": {},
   "outputs": [],
   "source": []
  }
 ],
 "metadata": {
  "kernelspec": {
   "display_name": "Python 3 (ipykernel)",
   "language": "python",
   "name": "python3"
  },
  "language_info": {
   "codemirror_mode": {
    "name": "ipython",
    "version": 3
   },
   "file_extension": ".py",
   "mimetype": "text/x-python",
   "name": "python",
   "nbconvert_exporter": "python",
   "pygments_lexer": "ipython3",
   "version": "3.8.12"
  }
 },
 "nbformat": 4,
 "nbformat_minor": 5
}
