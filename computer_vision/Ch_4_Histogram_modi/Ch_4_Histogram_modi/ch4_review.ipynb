{
 "cells": [
  {
   "cell_type": "code",
   "execution_count": 1,
   "id": "b19dd2a6",
   "metadata": {},
   "outputs": [],
   "source": [
    "import numpy as np\n",
    "import cv2\n",
    "import sys"
   ]
  },
  {
   "cell_type": "code",
   "execution_count": 5,
   "id": "d7ec2564",
   "metadata": {},
   "outputs": [],
   "source": [
    "import numpy as np\n",
    "import cv2\n",
    "import sys\n",
    "\n",
    "src = cv2.imread('../Ch_4_Histogram_modi/green/green.png', cv2.IMREAD_REDUCED_COLOR_2)\n",
    "src_hsv = cv2.cvtColor(src, cv2.COLOR_BGR2HSV)\n",
    "\n",
    "x, y, w, h = cv2.selectROI(src)\n",
    "\n",
    "crop = src_hsv[y: y+h, x:x+w]\n",
    "joint_hist = cv2.calcHist([crop], [0, 1], None, [180, 256], [0, 256, 0, 256])\n",
    "\n",
    "backproj = cv2.calcBackProject([src_hsv], [0, 1], joint_hist, [0, 180, 0, 256], 1)\n",
    "\n",
    "dst = cv2.copyTo(src, backproj)\n",
    "\n",
    "cv2.imshow('src', src)\n",
    "cv2.imshow('hist', joint_hist)\n",
    "cv2.imshow('backprojection', backproj)\n",
    "cv2.imshow('dst', dst)\n",
    "\n",
    "cv2.waitKey()\n",
    "cv2.destroyAllWindows()"
   ]
  },
  {
   "cell_type": "code",
   "execution_count": null,
   "id": "ee9a9dca",
   "metadata": {},
   "outputs": [],
   "source": []
  }
 ],
 "metadata": {
  "kernelspec": {
   "display_name": "Python 3 (ipykernel)",
   "language": "python",
   "name": "python3"
  },
  "language_info": {
   "codemirror_mode": {
    "name": "ipython",
    "version": 3
   },
   "file_extension": ".py",
   "mimetype": "text/x-python",
   "name": "python",
   "nbconvert_exporter": "python",
   "pygments_lexer": "ipython3",
   "version": "3.8.12"
  }
 },
 "nbformat": 4,
 "nbformat_minor": 5
}
