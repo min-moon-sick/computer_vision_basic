{
 "cells": [
  {
   "cell_type": "markdown",
   "id": "0bb0b7cb",
   "metadata": {},
   "source": [
    "## Fourier transform"
   ]
  },
  {
   "cell_type": "code",
   "execution_count": 30,
   "id": "50f66b5d",
   "metadata": {},
   "outputs": [],
   "source": [
    "import numpy as np\n",
    "import cv2\n",
    "import sys\n",
    "import time\n",
    "import matplotlib.pyplot as plt"
   ]
  },
  {
   "cell_type": "code",
   "execution_count": null,
   "id": "9675c2e8",
   "metadata": {},
   "outputs": [],
   "source": [
    "# 퓨리에 변환\n",
    "# cv2.dft(src[, dst[, flags[, nonzeroRows]]]) -> dst\n",
    "# src:  float type src 영상\n",
    "# dst: None\n",
    "# flags: \n",
    "#     cv2.DFT_COMPLEX_OUTPUT: complex matrix outout\n",
    "#     cv2.DFT_REAL_OUTPUT: real matrix outout, default\n",
    "\n",
    "# mag 영상\n",
    "# cv2.magnitude(x, y[, magnitude]) -> magnitude"
   ]
  },
  {
   "cell_type": "code",
   "execution_count": 33,
   "id": "ccb3023c",
   "metadata": {},
   "outputs": [
    {
     "name": "stdout",
     "output_type": "stream",
     "text": [
      "float32\n",
      "uint8\n"
     ]
    }
   ],
   "source": [
    "img = cv2.imread('./fig/nbkim_sunglass.png', cv2.IMREAD_GRAYSCALE)\n",
    "\n",
    "if img is None:\n",
    "    print('image read failed')\n",
    "    sys.exit()\n",
    "    \n",
    "## Fourier transform\n",
    "dft = cv2.dft(np.float32(img), flags = cv2.DFT_COMPLEX_OUTPUT)\n",
    "print(dft.dtype)\n",
    "dft_shift = np.fft.fftshift(dft)\n",
    "ft_output = 16*np.log(cv2.magnitude(dft_shift[...,0], dft_shift[...,1]))\n",
    "ft_output = ft_output.astype(np.uint8)\n",
    "print(ft_output.dtype)\n",
    "\n",
    "\n",
    "## Inverse Fourier transform\n",
    "inv_shift = np.fft.fftshift(dft_shift)\n",
    "inv_dft = cv2.dft(inv_shift,  flags = cv2.DFT_INVERSE)\n",
    "inv_img = cv2.magnitude(inv_dft[...,0], inv_dft[...,1])\n",
    "inv_img = cv2.normalize(inv_img, None, 0, 255, cv2.NORM_MINMAX, cv2.CV_8UC1)\n",
    "diff_img = cv2.absdiff(img, inv_img)\n",
    "\n",
    "\n",
    "\n",
    "cv2.imshow('image', img)\n",
    "cv2.imshow('ft_output', ft_output)\n",
    "cv2.imshow('inv_image', inv_img)\n",
    "cv2.imshow('img_subtract_invImg', diff_img)\n",
    "\n",
    "cv2.waitKey()\n",
    "\n",
    "cv2.destroyAllWindows()"
   ]
  },
  {
   "cell_type": "markdown",
   "id": "b2052eb7",
   "metadata": {},
   "source": [
    "## Filtering "
   ]
  },
  {
   "cell_type": "code",
   "execution_count": 57,
   "id": "3adc2645",
   "metadata": {},
   "outputs": [
    {
     "name": "stderr",
     "output_type": "stream",
     "text": [
      "<ipython-input-57-e3e7d139a270>:34: RuntimeWarning: divide by zero encountered in log\n",
      "  ft_output = 16*np.log(cv2.magnitude(dft_shift[...,0], dft_shift[...,1]))\n"
     ]
    }
   ],
   "source": [
    "import numpy as np\n",
    "import cv2\n",
    "import sys\n",
    "import time\n",
    "import matplotlib.pyplot as plt\n",
    "\n",
    "\n",
    "img = cv2.imread('./fig/nbkim_sunglass.png', cv2.IMREAD_GRAYSCALE)\n",
    "\n",
    "if img is None:\n",
    "    print('image read failed')\n",
    "    sys.exit()\n",
    "    \n",
    "## Applying filter in fourier domain\n",
    "\n",
    "dft = cv2.dft(np.float32(img), flags = cv2.DFT_COMPLEX_OUTPUT)\n",
    "dft_shift = np.fft.fftshift(dft)\n",
    "\n",
    "## filter generation\n",
    "h, w = img.shape[:2]\n",
    "rect_filter = np.zeros((h, w, 2), np.uint8)\n",
    "\n",
    "# cv2.circle(Gau_filter, (w//2, h//2), 100, 1,-1)\n",
    "n = 50\n",
    "cv2.rectangle(rect_filter, (w//2 -(n//2), h//2-(n//2), n, n), (1, 1), -1)\n",
    "\n",
    "# for _ in range(1000):\n",
    "#     rect_filter[..., 0] = cv2.GaussianBlur(rect_filter[...,0], (0, 0), 3)\n",
    "#     rect_filter[..., 1] = cv2.GaussianBlur(rect_filter[...,1], (0, 0), 3)\n",
    "\n",
    "dft_shift = dft_shift*rect_filter\n",
    "# print(dft_shift.dtype) # float32\n",
    "\n",
    "ft_output = 16*np.log(cv2.magnitude(dft_shift[...,0], dft_shift[...,1]))\n",
    "ft_output = ft_output.astype(np.uint8)\n",
    "\n",
    "\n",
    "## Inverse Fourier transform\n",
    "inv_shift = np.fft.ifftshift(dft_shift)\n",
    "inv_dft = cv2.idft(inv_shift)\n",
    "inv_img = cv2.magnitude(inv_dft[:,:,0], inv_dft[:,:,1])\n",
    "inv_img = cv2.normalize(inv_img, None, 0, 255, cv2.NORM_MINMAX, cv2.CV_8UC1)\n",
    "# diff_img = cv2.subtract(img, inv_img)\n",
    "\n",
    "\n",
    "cv2.imshow('image', img)\n",
    "cv2.imshow('ft_output', ft_output)\n",
    "cv2.imshow('inv_image', inv_img)\n",
    "# cv2.imshow('fiter', Gau_filter_int)\n",
    "cv2.imshow('img_subtract_invImg', diff_img)\n",
    "\n",
    "cv2.waitKey()\n",
    "\n",
    "cv2.destroyAllWindows()"
   ]
  },
  {
   "cell_type": "code",
   "execution_count": null,
   "id": "e26ac0c7",
   "metadata": {},
   "outputs": [],
   "source": []
  },
  {
   "cell_type": "code",
   "execution_count": null,
   "id": "8fc1d403",
   "metadata": {},
   "outputs": [],
   "source": []
  }
 ],
 "metadata": {
  "kernelspec": {
   "display_name": "Python 3 (ipykernel)",
   "language": "python",
   "name": "python3"
  },
  "language_info": {
   "codemirror_mode": {
    "name": "ipython",
    "version": 3
   },
   "file_extension": ".py",
   "mimetype": "text/x-python",
   "name": "python",
   "nbconvert_exporter": "python",
   "pygments_lexer": "ipython3",
   "version": "3.9.7"
  }
 },
 "nbformat": 4,
 "nbformat_minor": 5
}
