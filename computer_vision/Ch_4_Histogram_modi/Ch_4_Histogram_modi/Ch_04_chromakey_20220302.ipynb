{
 "cells": [
  {
   "cell_type": "code",
   "execution_count": 1,
   "id": "d09e1d9e",
   "metadata": {},
   "outputs": [],
   "source": [
    "import numpy as np\n",
    "import cv2\n",
    "import sys"
   ]
  },
  {
   "cell_type": "code",
   "execution_count": 2,
   "id": "33fa3575",
   "metadata": {},
   "outputs": [],
   "source": [
    "img = cv2.imread('./Ch_1_Opencv_Intro/fig/puppy.bmp')\n",
    "\n",
    "if img is None:\n",
    "    print('image read failed')\n",
    "    sys.exit()\n",
    "\n",
    "cv2.namedWindow('image')\n",
    "cv2.imshow('image', img)\n",
    "\n",
    "while True:\n",
    "    if cv2.waitKey() == 27:\n",
    "        break\n",
    "        \n",
    "cv2.destroyAllWindows()"
   ]
  },
  {
   "cell_type": "code",
   "execution_count": 3,
   "id": "c82958db",
   "metadata": {},
   "outputs": [],
   "source": [
    "img1 = np.zeros((400, 600, 3), np.uint8)\n",
    "img2 = np.ones((400, 600, 3), np.uint8)*255\n",
    "cv2.circle(img1, (200, 300), 50, (0,0,255), -1)\n",
    "\n",
    "\n",
    "cv2.imshow('img1', img1)\n",
    "cv2.imshow('img2', img2)\n",
    "\n",
    "cv2.waitKey()\n",
    "cv2.destroyAllWindows()\n",
    "           "
   ]
  },
  {
   "cell_type": "code",
   "execution_count": 6,
   "id": "ac9d7bbc",
   "metadata": {},
   "outputs": [],
   "source": [
    "##동영상\n",
    "\n",
    "cap = cv2.VideoCapture(0)\n",
    "\n",
    "if not cap.isOpened():\n",
    "    print('Video open failed')\n",
    "    cap.release()\n",
    "    sys.exit()\n",
    "    \n",
    "w = int(cap.get(cv2.CAP_PROP_FRAME_WIDTH))\n",
    "h = int(cap.get(cv2.CAP_PROP_FRAME_HEIGHT))\n",
    "fps = int(cap.get(cv2.CAP_PROP_FPS)*0.7)\n",
    "fourcc = cv2.VideoWriter_fourcc(*\"DIVX\")\n",
    "    \n",
    "out = cv2.VideoWriter('output.avi', fourcc, fps, (w, h))    \n",
    "while True:\n",
    "    ret, frame = cap.read()\n",
    "    \n",
    "    if not ret:\n",
    "        print('image read failed')\n",
    "        break\n",
    "        \n",
    "#     img = cv2.imread(frame)\n",
    "    \n",
    "    cv2.imshow('frame', frame)\n",
    "    out.write(frame)\n",
    "    \n",
    "    \n",
    "    if cv2.waitKey(20) ==  27:\n",
    "        break\n",
    "        \n",
    "cap.release()\n",
    "out.release()\n",
    "cv2.destroyAllWindows()"
   ]
  },
  {
   "cell_type": "code",
   "execution_count": 8,
   "id": "924dd7aa",
   "metadata": {},
   "outputs": [],
   "source": [
    "##\n",
    "oldx = oldy = -1\n",
    "\n",
    "def call_mouse(event, x, y, flags, param):\n",
    "    global oldx, oldy\n",
    "    \n",
    "    if event ==  cv2.EVENT_LBUTTONDOWN:\n",
    "        oldx, oldy = x, y\n",
    "        \n",
    "    elif event == cv2.EVENT_MOUSEMOVE:\n",
    "        if flags & cv2.EVENT_FLAG_LBUTTON:\n",
    "            cv2.line(img, (oldx, oldy), (x, y), (0, 0, 255),\n",
    "                    3, cv2.LINE_AA)\n",
    "            cv2.imshow('image', img)\n",
    "            oldx, oldy = x, y\n",
    "\n",
    "\n",
    "img = np.ones((600, 1200, 3), np.uint8)*255\n",
    "\n",
    "cv2.imshow('image', img)\n",
    "cv2.setMouseCallback('image', call_mouse, img)\n",
    "\n",
    "cv2.waitKey()\n",
    "cv2.destroyAllWindows()"
   ]
  },
  {
   "cell_type": "code",
   "execution_count": 11,
   "id": "4e0d960f",
   "metadata": {},
   "outputs": [],
   "source": [
    "def call_track(pos):\n",
    "    img[:] = pos\n",
    "    cv2.imshow('image', img)\n",
    "\n",
    "\n",
    "img = np.ones((600, 1200), np.uint8)\n",
    "\n",
    "cv2.imshow('image', img)\n",
    "cv2.createTrackbar('LEVEL', 'image', 10, 255, call_track)\n",
    "cv2.waitKey()\n",
    "cv2.destroyAllWindows()"
   ]
  },
  {
   "cell_type": "code",
   "execution_count": 3,
   "id": "53a11c0c",
   "metadata": {},
   "outputs": [],
   "source": [
    "src1 = cv2.imread('Ch_3_Basic_img_proc/fig/lenna256.bmp', cv2.IMREAD_GRAYSCALE)\n",
    "src2 = np.zeros((256, 256), dtype = np.uint8)\n",
    "\n",
    "cv2.circle(src2, (128, 128), 100, 200, -1)\n",
    "cv2.circle(src2, (128, 128), 50, 50, -1)\n",
    "\n",
    "dst1 = cv2.add(src1, src2, dtype=cv2.CV_8U)\n",
    "dst2 = cv2.addWeighted(src1, 0.5, src2, 0.5, 0.0)\n",
    "dst3 = cv2.subtract(src1, src2)\n",
    "dst4 = cv2.absdiff(src1, src2)\n",
    "dst5 = cv2.divide(src1, src2, scale = 255)\n",
    "\n",
    "cv2.imshow('src1', src1)\n",
    "cv2.imshow('src2', src2)\n",
    "cv2.imshow('add', dst1)\n",
    "cv2.imshow('weighted', dst2)\n",
    "cv2.imshow('subtract', dst3)\n",
    "cv2.imshow('abs', dst4)\n",
    "cv2.imshow('divide', dst5)\n",
    "\n",
    "\n",
    "cv2.waitKey()\n",
    "cv2.destroyAllWindows()"
   ]
  },
  {
   "cell_type": "code",
   "execution_count": 5,
   "id": "ffc3775a",
   "metadata": {},
   "outputs": [
    {
     "data": {
      "image/png": "[encoded data removed]",
      "text/plain": [
       "<Figure size 432x288 with 1 Axes>"
      ]
     },
     "metadata": {
      "needs_background": "light"
     },
     "output_type": "display_data"
    }
   ],
   "source": [
    "import matplotlib.pyplot as plt\n",
    "\n",
    "src = cv2.imread('Ch_3_Basic_img_proc/fig/lenna256.bmp')\n",
    "# calcHist(images, channels, mask, histSize, ranges[, hist[, accumulate]]) -> hist\n",
    "\n",
    "hist1 = cv2.calcHist([src], [0], None, [256], [0, 256])\n",
    "hist2 = cv2.calcHist([src], [1], None, [256], [0, 256])\n",
    "hist3 = cv2.calcHist([src], [2], None, [256], [0, 256])\n",
    "\n",
    "\n",
    "cv2.imshow('src', src)\n",
    "plt.plot(hist)\n",
    "plt.show()\n",
    "\n",
    "cv2.waitKey()\n",
    "cv2.destroyAllWindows()"
   ]
  },
  {
   "cell_type": "code",
   "execution_count": 10,
   "id": "16f77687",
   "metadata": {},
   "outputs": [],
   "source": [
    "src = cv2.imread('Ch_4_Histogram_modi/fig/candies.png', 1)\n",
    "src_hsv = cv2.cvtColor(src, cv2.COLOR_BGR2HSV)\n",
    "\n",
    "dst = cv2.inRange(src_hsv, (40, 150, 0), (70, 255, 255))\n",
    "\n",
    "cv2.imshow('src', src)\n",
    "cv2.imshow('dst', dst)\n",
    "\n",
    "\n",
    "\n",
    "cv2.waitKey()\n",
    "cv2.destroyAllWindows()"
   ]
  },
  {
   "cell_type": "code",
   "execution_count": 26,
   "id": "78ac4bd1",
   "metadata": {},
   "outputs": [
    {
     "name": "stdout",
     "output_type": "stream",
     "text": [
      "153 395 65 12\n"
     ]
    }
   ],
   "source": [
    "## 히스토그램 역투영\n",
    "\n",
    "src = cv2.imread('Ch_4_Histogram_modi/fig/green.png', cv2.IMREAD_REDUCED_COLOR_2)\n",
    "\n",
    "x, y, w, h = cv2.selectROI(src)\n",
    "print(x, y, w, h)\n",
    "\n",
    "src_ycrcb = cv2.cvtColor(src, cv2.COLOR_BGR2YCrCb)\n",
    "crop = src_ycrcb[y:y+h, x:x+w]\n",
    "\n",
    "# # cv2.calcHist(images, channels, mask, histSize, ranges[, hist[, accumulate]]) \n",
    "hist = cv2.calcHist([crop], [1, 2], None, [256, 256], [0, 256, 0, 256])\n",
    "\n",
    "# # calcBackProject(images, channels, hist, ranges, scale[, dst]) -> dst\n",
    "backproj = cv2.calcBackProject([src_ycrcb], [1, 2], hist,\n",
    "                              [0, 256, 0, 256], 1)\n",
    "\n",
    "dst = cv2.copyTo(src, backproj)\n",
    "\n",
    "\n",
    "cv2.imshow('src', src)\n",
    "cv2.imshow('crop', crop)\n",
    "cv2.imshow('hist', hist)\n",
    "cv2.imshow('backproj', backproj)\n",
    "cv2.imshow('dst', dst)\n",
    "\n",
    "cv2.waitKey()\n",
    "cv2.destroyAllWindows()\n"
   ]
  },
  {
   "cell_type": "code",
   "execution_count": 41,
   "id": "91d0c513",
   "metadata": {},
   "outputs": [
    {
     "ename": "error",
     "evalue": "OpenCV(4.5.5) D:\\a\\opencv-python\\opencv-python\\opencv\\modules\\highgui\\src\\window.cpp:862: error: (-215:Assertion failed) trackbar in function 'cv::getTrackbarPos'\n",
     "output_type": "error",
     "traceback": [
      "\u001b[1;31m---------------------------------------------------------------------------\u001b[0m",
      "\u001b[1;31merror\u001b[0m                                     Traceback (most recent call last)",
      "\u001b[1;32m~\\AppData\\Local\\Temp/ipykernel_3584/1744204901.py\u001b[0m in \u001b[0;36mcall_track\u001b[1;34m(pos)\u001b[0m\n\u001b[0;32m      3\u001b[0m \u001b[1;33m\u001b[0m\u001b[0m\n\u001b[0;32m      4\u001b[0m     \u001b[0mhmin\u001b[0m \u001b[1;33m=\u001b[0m \u001b[0mcv2\u001b[0m\u001b[1;33m.\u001b[0m\u001b[0mgetTrackbarPos\u001b[0m\u001b[1;33m(\u001b[0m\u001b[1;34m'hmin'\u001b[0m\u001b[1;33m,\u001b[0m \u001b[1;34m'mask'\u001b[0m\u001b[1;33m)\u001b[0m\u001b[1;33m\u001b[0m\u001b[1;33m\u001b[0m\u001b[0m\n\u001b[1;32m----> 5\u001b[1;33m     \u001b[0mhmax\u001b[0m \u001b[1;33m=\u001b[0m \u001b[0mcv2\u001b[0m\u001b[1;33m.\u001b[0m\u001b[0mgetTrackbarPos\u001b[0m\u001b[1;33m(\u001b[0m\u001b[1;34m'hmax'\u001b[0m\u001b[1;33m,\u001b[0m \u001b[1;34m'mask'\u001b[0m\u001b[1;33m)\u001b[0m\u001b[1;33m\u001b[0m\u001b[1;33m\u001b[0m\u001b[0m\n\u001b[0m\u001b[0;32m      6\u001b[0m     \u001b[0msmin\u001b[0m \u001b[1;33m=\u001b[0m \u001b[0mcv2\u001b[0m\u001b[1;33m.\u001b[0m\u001b[0mgetTrackbarPos\u001b[0m\u001b[1;33m(\u001b[0m\u001b[1;34m'smin'\u001b[0m\u001b[1;33m,\u001b[0m \u001b[1;34m'mask'\u001b[0m\u001b[1;33m)\u001b[0m\u001b[1;33m\u001b[0m\u001b[1;33m\u001b[0m\u001b[0m\n\u001b[0;32m      7\u001b[0m \u001b[1;33m\u001b[0m\u001b[0m\n",
      "\u001b[1;31merror\u001b[0m: OpenCV(4.5.5) D:\\a\\opencv-python\\opencv-python\\opencv\\modules\\highgui\\src\\window.cpp:862: error: (-215:Assertion failed) trackbar in function 'cv::getTrackbarPos'\n"
     ]
    },
    {
     "ename": "error",
     "evalue": "OpenCV(4.5.5) D:\\a\\opencv-python\\opencv-python\\opencv\\modules\\highgui\\src\\window.cpp:862: error: (-215:Assertion failed) trackbar in function 'cv::getTrackbarPos'\n",
     "output_type": "error",
     "traceback": [
      "\u001b[1;31m---------------------------------------------------------------------------\u001b[0m",
      "\u001b[1;31merror\u001b[0m                                     Traceback (most recent call last)",
      "\u001b[1;32m~\\AppData\\Local\\Temp/ipykernel_3584/1744204901.py\u001b[0m in \u001b[0;36mcall_track\u001b[1;34m(pos)\u001b[0m\n\u001b[0;32m      4\u001b[0m     \u001b[0mhmin\u001b[0m \u001b[1;33m=\u001b[0m \u001b[0mcv2\u001b[0m\u001b[1;33m.\u001b[0m\u001b[0mgetTrackbarPos\u001b[0m\u001b[1;33m(\u001b[0m\u001b[1;34m'hmin'\u001b[0m\u001b[1;33m,\u001b[0m \u001b[1;34m'mask'\u001b[0m\u001b[1;33m)\u001b[0m\u001b[1;33m\u001b[0m\u001b[1;33m\u001b[0m\u001b[0m\n\u001b[0;32m      5\u001b[0m     \u001b[0mhmax\u001b[0m \u001b[1;33m=\u001b[0m \u001b[0mcv2\u001b[0m\u001b[1;33m.\u001b[0m\u001b[0mgetTrackbarPos\u001b[0m\u001b[1;33m(\u001b[0m\u001b[1;34m'hmax'\u001b[0m\u001b[1;33m,\u001b[0m \u001b[1;34m'mask'\u001b[0m\u001b[1;33m)\u001b[0m\u001b[1;33m\u001b[0m\u001b[1;33m\u001b[0m\u001b[0m\n\u001b[1;32m----> 6\u001b[1;33m     \u001b[0msmin\u001b[0m \u001b[1;33m=\u001b[0m \u001b[0mcv2\u001b[0m\u001b[1;33m.\u001b[0m\u001b[0mgetTrackbarPos\u001b[0m\u001b[1;33m(\u001b[0m\u001b[1;34m'smin'\u001b[0m\u001b[1;33m,\u001b[0m \u001b[1;34m'mask'\u001b[0m\u001b[1;33m)\u001b[0m\u001b[1;33m\u001b[0m\u001b[1;33m\u001b[0m\u001b[0m\n\u001b[0m\u001b[0;32m      7\u001b[0m \u001b[1;33m\u001b[0m\u001b[0m\n\u001b[0;32m      8\u001b[0m     dst_mask = cv2.inRange(dst_hsv, (hmin, smin, 0),\n",
      "\u001b[1;31merror\u001b[0m: OpenCV(4.5.5) D:\\a\\opencv-python\\opencv-python\\opencv\\modules\\highgui\\src\\window.cpp:862: error: (-215:Assertion failed) trackbar in function 'cv::getTrackbarPos'\n"
     ]
    }
   ],
   "source": [
    "def call_track(pos):\n",
    "    global dst_hsv, dst\n",
    "    \n",
    "    hmin = cv2.getTrackbarPos('hmin', 'mask')\n",
    "    hmax = cv2.getTrackbarPos('hmax', 'mask')\n",
    "    smin = cv2.getTrackbarPos('smin', 'mask')\n",
    "    \n",
    "    dst_mask = cv2.inRange(dst_hsv, (hmin, smin, 0),\n",
    "                          (hmax, 255, 255))\n",
    "    dst1 = dst.copy()\n",
    "    cv2.copyTo(src, dst_mask, dst1)\n",
    "    cv2.imshow('mask', dst_mask)\n",
    "    cv2.imshow('dst', dst1)\n",
    "    \n",
    "    \n",
    "\n",
    "src = cv2.imread('Ch_4_Histogram_modi/fig/autumn.jpg')\n",
    "dst = cv2.imread('Ch_4_Histogram_modi/fig/chromakey.png')\n",
    "\n",
    "h, w = dst.shape[:2]\n",
    "src = cv2.resize(src, (w, h), interpolation = cv2.INTER_AREA)\n",
    "dst_hsv = cv2.cvtColor(dst, cv2.COLOR_BGR2HSV)\n",
    "\n",
    "cv2.namedWindow('mask')\n",
    "cv2.createTrackbar('hmin', 'mask', 30, 255, call_track)\n",
    "cv2.createTrackbar('hmax', 'mask', 50, 255, call_track)\n",
    "cv2.createTrackbar('smin', 'mask', 0, 255, call_track)\n",
    "\n",
    "# mask = cv2.inRange(dst_hsv, (50, 150, 0), (80, 255, 255))\n",
    "# cv2.copyTo(src, mask, dst)\n",
    "\n",
    "cv2.imshow('src', src)\n",
    "cv2.imshow('mask', mask)\n",
    "cv2.imshow('dst', dst)\n",
    "\n",
    "\n",
    "cv2.waitKey()\n",
    "cv2.destroyAllWindows()\n"
   ]
  },
  {
   "cell_type": "code",
   "execution_count": null,
   "id": "2ff3ce21",
   "metadata": {},
   "outputs": [],
   "source": []
  },
  {
   "cell_type": "code",
   "execution_count": null,
   "id": "713cd170",
   "metadata": {},
   "outputs": [],
   "source": []
  }
 ],
 "metadata": {
  "kernelspec": {
   "display_name": "Python 3 (ipykernel)",
   "language": "python",
   "name": "python3"
  },
  "language_info": {
   "codemirror_mode": {
    "name": "ipython",
    "version": 3
   },
   "file_extension": ".py",
   "mimetype": "text/x-python",
   "name": "python",
   "nbconvert_exporter": "python",
   "pygments_lexer": "ipython3",
   "version": "3.9.7"
  }
 },
 "nbformat": 4,
 "nbformat_minor": 5
}
