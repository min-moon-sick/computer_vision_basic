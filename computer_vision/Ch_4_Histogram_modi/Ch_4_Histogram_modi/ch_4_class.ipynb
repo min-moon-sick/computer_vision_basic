{
 "cells": [
  {
   "cell_type": "code",
   "execution_count": 1,
   "id": "2e8db45d",
   "metadata": {},
   "outputs": [],
   "source": [
    "import numpy as np\n",
    "import sys\n",
    "import os\n",
    "import cv2\n",
    "import matplotlib.pyplot as plt"
   ]
  },
  {
   "cell_type": "markdown",
   "id": "9d21c97c",
   "metadata": {},
   "source": [
    "# Normalization"
   ]
  },
  {
   "cell_type": "code",
   "execution_count": 19,
   "id": "2629540b",
   "metadata": {},
   "outputs": [
    {
     "name": "stdout",
     "output_type": "stream",
     "text": [
      "113.0 213.0\n",
      "(87, 5) (403, 75)\n"
     ]
    }
   ],
   "source": [
    "src = cv2.imread('./fig/Hawkes.jpg', 0)\n",
    "\n",
    "smin, smax, min_loc, max_loc = cv2.minMaxLoc(src)\n",
    "\n",
    "print(smin, smax)\n",
    "print(min_loc, max_loc)\n",
    "\n",
    "# 03 pdf 11 페이지 앤드-인 탐색 수식 활용 - 2가지 방법\n",
    "# 1) 수식\n",
    "# dst = np.clip((src - smin) * 255 / (smax - smin) + 0.0, 0, 255).astype(np.uint8)\n",
    "# 2) 함수\n",
    "dst = cv2.normalize(src, None, 0, 255, cv2.NORM_MINMAX, -1)\n",
    "\n",
    "cv2.imshow('src', src)\n",
    "cv2.imshow('dst', dst)\n",
    "\n",
    "cv2.waitKey()\n",
    "cv2.destroyAllWindows()"
   ]
  },
  {
   "cell_type": "markdown",
   "id": "3a89e83c",
   "metadata": {},
   "source": [
    "# equalization vs normalization"
   ]
  },
  {
   "cell_type": "code",
   "execution_count": 20,
   "id": "0920c6aa",
   "metadata": {},
   "outputs": [
    {
     "name": "stdout",
     "output_type": "stream",
     "text": [
      "113.0 213.0\n",
      "(87, 5) (403, 75)\n"
     ]
    }
   ],
   "source": [
    "import numpy as np\n",
    "import sys\n",
    "import os\n",
    "import cv2\n",
    "import matplotlib.pyplot as plt\n",
    "\n",
    "src = cv2.imread('./fig/Hawkes.jpg', 0)\n",
    "\n",
    "smin, smax, min_loc, max_loc = cv2.minMaxLoc(src)\n",
    "\n",
    "print(smin, smax)\n",
    "print(min_loc, max_loc)\n",
    "\n",
    "# 03 pdf 11 페이지 앤드-인 탐색 수식 활용 - 2가지 방법\n",
    "# 1) 수식\n",
    "# dst = np.clip((src - smin) * 255 / (smax - smin) + 0.0, 0, 255).astype(np.uint8)\n",
    "# 2) 함수\n",
    "dst_norm = cv2.normalize(src, None, 0, 255, cv2.NORM_MINMAX, -1)\n",
    "dst_equal = cv2.equalizeHist(src)\n",
    "\n",
    "cv2.imshow('src', src)\n",
    "cv2.imshow('dst_norm', dst_norm)\n",
    "cv2.imshow('dst_equal', dst_equal)\n",
    "\n",
    "cv2.waitKey()\n",
    "cv2.destroyAllWindows()"
   ]
  },
  {
   "cell_type": "markdown",
   "id": "d370f8ee",
   "metadata": {},
   "source": [
    "# # equalization vs normalization(Ver. Color)"
   ]
  },
  {
   "cell_type": "code",
   "execution_count": 21,
   "id": "e44fbf80",
   "metadata": {},
   "outputs": [],
   "source": [
    "import numpy as np\n",
    "import sys\n",
    "import os\n",
    "import cv2\n",
    "import matplotlib.pyplot as plt\n",
    "\n",
    "src = cv2.imread('./fig/field.bmp', 1)\n",
    "\n",
    "src_hsv = cv2.cvtColor(src, cv2.COLOR_BGR2HSV)\n",
    "h, s, v = cv2.split(src_hsv)\n",
    "\n",
    "v_prime = cv2.equalizeHist(v)\n",
    "v_norm = cv2.normalize(v, None, 0, 255, cv2.NORM_MINMAX, -1)\n",
    "\n",
    "dst_hsv = cv2.merge((h, s, v_prime))\n",
    "dst_norm = cv2.merge((h, s, v_norm))\n",
    "\n",
    "dst_equal = cv2.cvtColor(dst_hsv, cv2.COLOR_HSV2BGR)\n",
    "dst_norm = cv2.cvtColor(dst_norm, cv2.COLOR_HSV2BGR)\n",
    "\n",
    "\n",
    "cv2.imshow('src', src)\n",
    "# cv2.imshow('h', h)\n",
    "# cv2.imshow('s', s)\n",
    "# cv2.imshow('v', v)\n",
    "\n",
    "cv2.imshow('dst_norm', dst_norm)\n",
    "cv2.imshow('dst_equal', dst_equal)\n",
    "\n",
    "cv2.waitKey()\n",
    "cv2.destroyAllWindows()"
   ]
  },
  {
   "cell_type": "markdown",
   "id": "4fa6180c",
   "metadata": {},
   "source": [
    "# 원하는 색 선택"
   ]
  },
  {
   "cell_type": "code",
   "execution_count": 30,
   "id": "514cc139",
   "metadata": {},
   "outputs": [],
   "source": [
    "import numpy as np\n",
    "import sys\n",
    "import os\n",
    "import cv2\n",
    "import matplotlib.pyplot as plt\n",
    "\n",
    "src = cv2.imread('./fig/candies.png')\n",
    "\n",
    "## 색깔로 마스크 처리\n",
    "# inRange(src, 하한값, 상한값[, dst]) -> dst\n",
    "dst_bgr = cv2.inRange(src, (0, 128, 0), (100, 255, 100)) # 녹색 선택\n",
    "\n",
    "dst_hsv = cv2.cvtColor(src, cv2.COLOR_BGR2HSV)\n",
    "dst_hsv = cv2.inRange(dst_hsv, (50, 150, 0), (80, 255, 255)) # 녹색 선택\n",
    "\n",
    "cv2.imshow('src', src)\n",
    "cv2.imshow('dst_bgr', dst_bgr)\n",
    "cv2.imshow('dst_hsv', dst_hsv)\n",
    "\n",
    "cv2.waitKey()\n",
    "cv2.destroyAllWindows()\n",
    "# 결과적으로 dst_hsv가 좋은 이미지"
   ]
  },
  {
   "cell_type": "markdown",
   "id": "72b53501",
   "metadata": {},
   "source": [
    "# 트랙바 활용"
   ]
  },
  {
   "cell_type": "code",
   "execution_count": 34,
   "id": "beb0e463",
   "metadata": {},
   "outputs": [],
   "source": [
    "import numpy as np\n",
    "import sys\n",
    "import os\n",
    "import cv2\n",
    "import matplotlib.pyplot as plt\n",
    "\n",
    "def call_trackbar(pos):\n",
    "    hmin = cv2.getTrackbarPos('H_min', 'dst')\n",
    "    hmax = cv2.getTrackbarPos('H_max', 'dst')\n",
    "    \n",
    "    dst = cv2.inRange(dst_hsv, (hmin, 150, 0), (hmax, 255, 255))\n",
    "    cv2.imshow('dst', dst)\n",
    "\n",
    "src = cv2.imread('./fig/candies.png')\n",
    "\n",
    "dst_hsv = cv2.cvtColor(src, cv2.COLOR_BGR2HSV)\n",
    "\n",
    "cv2.imshow('src', src)\n",
    "\n",
    "cv2.namedWindow('dst')\n",
    "cv2.createTrackbar('H_min', 'dst', 0, 179, call_trackbar)\n",
    "cv2.createTrackbar('H_max', 'dst', 100, 179, call_trackbar)\n",
    "\n",
    "cv2.waitKey()\n",
    "cv2.destroyAllWindows()\n",
    "# 결과적으로 dst_hsv가 좋은 이미지"
   ]
  },
  {
   "cell_type": "code",
   "execution_count": null,
   "id": "a14f9f6c",
   "metadata": {},
   "outputs": [],
   "source": []
  }
 ],
 "metadata": {
  "kernelspec": {
   "display_name": "Python 3 (ipykernel)",
   "language": "python",
   "name": "python3"
  },
  "language_info": {
   "codemirror_mode": {
    "name": "ipython",
    "version": 3
   },
   "file_extension": ".py",
   "mimetype": "text/x-python",
   "name": "python",
   "nbconvert_exporter": "python",
   "pygments_lexer": "ipython3",
   "version": "3.8.12"
  }
 },
 "nbformat": 4,
 "nbformat_minor": 5
}
