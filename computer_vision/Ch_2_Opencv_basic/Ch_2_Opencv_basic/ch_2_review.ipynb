{
 "cells": [
  {
   "cell_type": "code",
   "execution_count": 1,
   "id": "ab2362bf",
   "metadata": {},
   "outputs": [],
   "source": [
    "import numpy as np\n",
    "import cv2\n",
    "import sys\n",
    "import os\n",
    "import matplotlib.pyplot as plt"
   ]
  },
  {
   "cell_type": "code",
   "execution_count": 4,
   "id": "33254da2",
   "metadata": {},
   "outputs": [],
   "source": [
    "import numpy as np\n",
    "import cv2\n",
    "import sys\n",
    "import os\n",
    "import matplotlib.pyplot as plt\n",
    "\n",
    "img_path = './fig/puppy.bmp'\n",
    "\n",
    "img = cv2.imread(img_path, 1)\n",
    "img = cv2.cvtColor(img, cv2.COLOR_BGR2HSV)\n",
    "\n",
    "if img is None:\n",
    "    print(\"img existed not path\")\n",
    "    sys.exit()\n",
    "    \n",
    "cv2.namedWindow('image', cv2.WINDOW_NORMAL)\n",
    "cv2.imshow('image', img)\n",
    "\n",
    "while 1:\n",
    "    key = cv2.waitKey()\n",
    "    if key == 27:\n",
    "        break\n",
    "        \n",
    "cv2.destroyAllWindows()"
   ]
  },
  {
   "cell_type": "markdown",
   "id": "58751917",
   "metadata": {},
   "source": [
    "# Full Screen and Slide Image"
   ]
  },
  {
   "cell_type": "code",
   "execution_count": 8,
   "id": "54ad6b5e",
   "metadata": {},
   "outputs": [],
   "source": [
    "import numpy as np\n",
    "import cv2\n",
    "import sys\n",
    "import os\n",
    "import matplotlib.pyplot as plt\n",
    "\n",
    "path = '/Users/HPE/Documents/landscape/'\n",
    "file_list = os.listdir(path)\n",
    "\n",
    "file_lists = []\n",
    "for i in file_list:\n",
    "    file_lists.append(path + i)\n",
    "    \n",
    "cv2.namedWindow('scene', cv2.WINDOW_NORMAL)\n",
    "cv2.setWindowProperty('scene', cv2.WND_PROP_FULLSCREEN, cv2.WINDOW_FULLSCREEN)\n",
    "\n",
    "idx = 0 \n",
    "\n",
    "while 1:\n",
    "    img = cv2.imread(file_lists[idx])\n",
    "    \n",
    "    if img is None:\n",
    "        sys.exit()\n",
    "        \n",
    "    cv2.imshow('scene', img)\n",
    "    \n",
    "    idx += 1\n",
    "    \n",
    "    if idx == len(file_lists):\n",
    "        idx = 0\n",
    "    \n",
    "    if cv2.waitKey(3000) == 27:\n",
    "        break\n",
    "        \n",
    "cv2.destroyAllWindows()"
   ]
  },
  {
   "cell_type": "markdown",
   "id": "b5114d6d",
   "metadata": {},
   "source": [
    "# Copy & Circle"
   ]
  },
  {
   "cell_type": "code",
   "execution_count": 13,
   "id": "69a09987",
   "metadata": {},
   "outputs": [],
   "source": [
    "import numpy as np\n",
    "import cv2\n",
    "import sys\n",
    "import os\n",
    "import matplotlib.pyplot as plt\n",
    "\n",
    "img_path = './fig/puppy.bmp'\n",
    "\n",
    "img = cv2.imread(img_path, 1)\n",
    "img = cv2.cvtColor(img, cv2.COLOR_BGR2RGB)\n",
    "\n",
    "img1 = img[200:400, 300: 600]\n",
    "img2 = img.copy()\n",
    "\n",
    "if img is None:\n",
    "    print(\"img existed not path\")\n",
    "    sys.exit()\n",
    "    \n",
    "cv2.namedWindow('image', cv2.WINDOW_AUTOSIZE)\n",
    "\n",
    "cv2.circle(img1, (100, 100), 50, (255, 0, 0), 3, cv2.LINE_AA)\n",
    "cv2.imshow('image', img)\n",
    "cv2.imshow('image1', img1)\n",
    "cv2.imshow('image2', img2)\n",
    "\n",
    "while 1:\n",
    "    key = cv2.waitKey()\n",
    "    if key == 27:\n",
    "        break\n",
    "        \n",
    "cv2.destroyAllWindows()"
   ]
  },
  {
   "cell_type": "markdown",
   "id": "17c05043",
   "metadata": {},
   "source": [
    "# Create Image"
   ]
  },
  {
   "cell_type": "code",
   "execution_count": 6,
   "id": "fd15ba76",
   "metadata": {},
   "outputs": [],
   "source": [
    "import numpy as np\n",
    "import cv2\n",
    "import sys\n",
    "import os\n",
    "import matplotlib.pyplot as plt\n",
    "\n",
    "img1= np.zeros((400, 600, 3), dtype = np.uint8) \n",
    "img2= np.ones((400, 600), dtype = np.uint8) * 255\n",
    "img3= np.full((400, 600, 3), 255, dtype = np.uint8) \n",
    "img4 = np.random.randint(0, 255, (128, 256),dtype = np.uint8 )\n",
    "\n",
    "cv2.imshow('image1', img1)\n",
    "cv2.imshow('image2', img2)\n",
    "cv2.imshow('image3', img3)\n",
    "cv2.imshow('image4', img4)\n",
    "\n",
    "cv2.waitKey()\n",
    "cv2.destroyAllWindows()"
   ]
  },
  {
   "cell_type": "markdown",
   "id": "ef7a6b1d",
   "metadata": {},
   "source": [
    "# Image Mask & Merge"
   ]
  },
  {
   "cell_type": "code",
   "execution_count": 7,
   "id": "541bd20d",
   "metadata": {},
   "outputs": [],
   "source": [
    "import numpy as np\n",
    "import cv2\n",
    "import sys\n",
    "import os\n",
    "import matplotlib.pyplot as plt\n",
    "\n",
    "src = cv2.imread('./fig/airplane.bmp')\n",
    "mask = cv2.imread('./fig/mask_plane.bmp')\n",
    "dst = cv2.imread('./fig/rudolf.png')\n",
    "\n",
    "dst = cv2.copyTo(src, mask)\n",
    "\n",
    "cv2.imshow('image1', src)\n",
    "cv2.imshow('image2', mask)\n",
    "cv2.imshow('image3', dst)\n",
    "\n",
    "cv2.waitKey()\n",
    "cv2.destroyAllWindows()"
   ]
  },
  {
   "cell_type": "markdown",
   "id": "10f12bfe",
   "metadata": {},
   "source": [
    "# Make Mask"
   ]
  },
  {
   "cell_type": "code",
   "execution_count": 99,
   "id": "8da01ec2",
   "metadata": {},
   "outputs": [],
   "source": [
    "import numpy as np\n",
    "import cv2\n",
    "import sys\n",
    "import os\n",
    "import matplotlib.pyplot as plt\n",
    "\n",
    "src = cv2.imread('./fig/cow.png')\n",
    "dst = cv2.imread('./fig/green.png')\n",
    "\n",
    "\n",
    "h, w = src.shape[:2]\n",
    "# src = cv2.resize(src, (int(w//2), int(h//2)))\n",
    "\n",
    "\n",
    "srcGray = cv2.cvtColor(src, cv2.COLOR_BGR2GRAY)\n",
    "retval, mask = cv2.threshold(srcGray, 247, 255, cv2.THRESH_BINARY_INV)\n",
    "\n",
    "dst_crop = dst[400: 400 + h, 300: 300 + w]\n",
    "# dst = cv2.resize(dst, (int(w*2), int(h*2)))\n",
    "\n",
    "cv2.copyTo(src, mask, dst_crop)\n",
    "\n",
    "cv2.namedWindow('image3', cv2.WINDOW_NORMAL)\n",
    "cv2.imshow('image1', src)\n",
    "cv2.imshow('image2', mask)\n",
    "cv2.imshow('image3', dst)\n",
    "cv2.imshow('image4', dst_crop)\n",
    "\n",
    "cv2.waitKey()\n",
    "cv2.destroyAllWindows()"
   ]
  },
  {
   "cell_type": "markdown",
   "id": "7ca05de8",
   "metadata": {},
   "source": [
    "# Alpha Channel"
   ]
  },
  {
   "cell_type": "code",
   "execution_count": 4,
   "id": "c9929982",
   "metadata": {},
   "outputs": [
    {
     "name": "stdout",
     "output_type": "stream",
     "text": [
      "(480, 640, 3)\n",
      "(150, 300, 4)\n"
     ]
    }
   ],
   "source": [
    "import numpy as np\n",
    "import cv2\n",
    "import sys\n",
    "import os\n",
    "import matplotlib.pyplot as plt\n",
    "\n",
    "src = cv2.imread('./fig/puppy.bmp')\n",
    "sunglass = cv2.imread('./fig/imgbin_sunglasses_1.png', cv2.IMREAD_UNCHANGED) # 마스크가 4개인 경우에 IMREAD_UNCHANGED 사용\n",
    "sunglass = cv2.resize(sunglass, (300, 150), interpolation = cv2.INTER_AREA)\n",
    "print(src.shape)\n",
    "print(sunglass.shape) # 차원이 4개인 이유는 마스크 채널(알파 채널)이 있기 때문\n",
    "\n",
    "mask = sunglass[:,:,-1]\n",
    "sunglass = sunglass[:, :, :-1]\n",
    "\n",
    "h,w = mask.shape[:2]\n",
    "src_crop = src[120:120+h, 220:220 + w]\n",
    "\n",
    "cv2.copyTo(sunglass, mask, src_crop)\n",
    "cv2.imshow('mask', mask)\n",
    "cv2.imshow('sunglass', sunglass)\n",
    "cv2.imshow('puppy', src)\n",
    "cv2.imshow('puppy1', src_crop)\n",
    "cv2.waitKey()\n",
    "cv2.destroyAllWindows()\n"
   ]
  },
  {
   "cell_type": "markdown",
   "id": "9f85563c",
   "metadata": {},
   "source": []
  },
  {
   "cell_type": "markdown",
   "id": "ca1f86fe",
   "metadata": {},
   "source": [
    "## Alpha Channel Practice"
   ]
  },
  {
   "cell_type": "code",
   "execution_count": 55,
   "id": "3bbfe9f8",
   "metadata": {},
   "outputs": [],
   "source": [
    "import numpy as np\n",
    "import cv2\n",
    "import sys\n",
    "import os\n",
    "import matplotlib.pyplot as plt\n",
    "\n",
    "img = cv2.imread('./fig/pngwing.com.png', cv2.IMREAD_UNCHANGED)\n",
    "img1 = cv2.imread('./fig/puppy.bmp')\n",
    "img2 = img1 \n",
    "img = cv2.resize(img, (500, 300))\n",
    "\n",
    "mask = img[:, :, -1]\n",
    "forest = img[:, :, :-1]\n",
    "\n",
    "h, w = mask.shape[:2]\n",
    "img1 = img1[100: 100+h, 100:100+w]\n",
    "cv2.copyTo(forest, mask, img1)\n",
    "\n",
    "cv2.imshow('mask', mask)\n",
    "cv2.imshow('forest', forest)\n",
    "cv2.imshow('img1', img1)\n",
    "cv2.imshow('img2', img2)\n",
    "\n",
    "cv2.waitKey()\n",
    "cv2.destroyAllWindows()"
   ]
  },
  {
   "cell_type": "markdown",
   "id": "99b97e89",
   "metadata": {},
   "source": [
    "# Draw Opencv"
   ]
  },
  {
   "cell_type": "code",
   "execution_count": 38,
   "id": "0b8ab430",
   "metadata": {},
   "outputs": [
    {
     "ename": "TypeError",
     "evalue": "'tuple' object is not callable",
     "output_type": "error",
     "traceback": [
      "\u001b[1;31m---------------------------------------------------------------------------\u001b[0m",
      "\u001b[1;31mTypeError\u001b[0m                                 Traceback (most recent call last)",
      "\u001b[1;32m~\\AppData\\Local\\Temp/ipykernel_2716/1554444348.py\u001b[0m in \u001b[0;36m<module>\u001b[1;34m\u001b[0m\n\u001b[0;32m     10\u001b[0m \u001b[0mcv2\u001b[0m\u001b[1;33m.\u001b[0m\u001b[0marrowedLine\u001b[0m\u001b[1;33m(\u001b[0m\u001b[0mcanvas\u001b[0m\u001b[1;33m,\u001b[0m \u001b[1;33m(\u001b[0m\u001b[1;36m50\u001b[0m\u001b[1;33m,\u001b[0m \u001b[1;36m50\u001b[0m\u001b[1;33m)\u001b[0m\u001b[1;33m,\u001b[0m \u001b[1;33m(\u001b[0m\u001b[1;36m300\u001b[0m\u001b[1;33m,\u001b[0m \u001b[1;36m50\u001b[0m\u001b[1;33m)\u001b[0m\u001b[1;33m,\u001b[0m \u001b[1;33m(\u001b[0m\u001b[1;36m0\u001b[0m\u001b[1;33m,\u001b[0m \u001b[1;36m0\u001b[0m\u001b[1;33m,\u001b[0m \u001b[1;36m255\u001b[0m\u001b[1;33m)\u001b[0m\u001b[1;33m,\u001b[0m \u001b[1;36m5\u001b[0m\u001b[1;33m,\u001b[0m \u001b[0mcv2\u001b[0m\u001b[1;33m.\u001b[0m\u001b[0mLINE_8\u001b[0m\u001b[1;33m)\u001b[0m\u001b[1;33m\u001b[0m\u001b[1;33m\u001b[0m\u001b[0m\n\u001b[0;32m     11\u001b[0m \u001b[1;33m\u001b[0m\u001b[0m\n\u001b[1;32m---> 12\u001b[1;33m \u001b[0mcv2\u001b[0m\u001b[1;33m.\u001b[0m\u001b[0mline\u001b[0m\u001b[1;33m(\u001b[0m\u001b[0mcanvas\u001b[0m\u001b[1;33m,\u001b[0m \u001b[1;33m(\u001b[0m\u001b[1;36m50\u001b[0m\u001b[1;33m,\u001b[0m \u001b[1;36m50\u001b[0m\u001b[1;33m)\u001b[0m\u001b[1;33m,\u001b[0m \u001b[1;33m(\u001b[0m\u001b[1;36m300\u001b[0m\u001b[1;33m,\u001b[0m \u001b[1;36m50\u001b[0m\u001b[1;33m)\u001b[0m\u001b[1;33m,\u001b[0m \u001b[1;33m(\u001b[0m\u001b[1;36m0\u001b[0m\u001b[1;33m,\u001b[0m \u001b[1;36m0\u001b[0m\u001b[1;33m,\u001b[0m \u001b[1;36m255\u001b[0m\u001b[1;33m)\u001b[0m\u001b[1;33m,\u001b[0m \u001b[1;36m5\u001b[0m\u001b[1;33m,\u001b[0m \u001b[0mcv2\u001b[0m\u001b[1;33m.\u001b[0m\u001b[0mLINE_8\u001b[0m\u001b[1;33m)\u001b[0m\u001b[1;33m\u001b[0m\u001b[1;33m\u001b[0m\u001b[0m\n\u001b[0m\u001b[0;32m     13\u001b[0m \u001b[0mcv2\u001b[0m\u001b[1;33m.\u001b[0m\u001b[0mline\u001b[0m\u001b[1;33m(\u001b[0m\u001b[0mcanvas\u001b[0m\u001b[1;33m,\u001b[0m \u001b[1;33m(\u001b[0m\u001b[1;36m300\u001b[0m\u001b[1;33m,\u001b[0m \u001b[1;36m50\u001b[0m\u001b[1;33m)\u001b[0m\u001b[1;33m,\u001b[0m \u001b[1;33m(\u001b[0m\u001b[1;36m150\u001b[0m\u001b[1;33m,\u001b[0m \u001b[1;36m300\u001b[0m\u001b[1;33m)\u001b[0m\u001b[1;33m,\u001b[0m \u001b[1;33m(\u001b[0m\u001b[1;36m0\u001b[0m\u001b[1;33m,\u001b[0m \u001b[1;36m0\u001b[0m\u001b[1;33m,\u001b[0m \u001b[1;36m255\u001b[0m\u001b[1;33m)\u001b[0m\u001b[1;33m,\u001b[0m \u001b[1;36m5\u001b[0m\u001b[1;33m)\u001b[0m\u001b[1;33m\u001b[0m\u001b[1;33m\u001b[0m\u001b[0m\n\u001b[0;32m     14\u001b[0m \u001b[1;33m\u001b[0m\u001b[0m\n",
      "\u001b[1;31mTypeError\u001b[0m: 'tuple' object is not callable"
     ]
    }
   ],
   "source": [
    "import numpy as np\n",
    "import cv2\n",
    "import sys\n",
    "import os\n",
    "import matplotlib.pyplot as plt\n",
    "\n",
    "canvas = np.full((600, 1200, 3), 255, dtype = np.uint8)\n",
    "\n",
    "#arrowedLine(img, pt1, pt2, color[, thickness[, line_type[, shift[, tipLength]]]]) -> img\n",
    "cv2.arrowedLine(canvas, (50, 50), (300, 50), (0, 0, 255), 5, cv2.LINE_8)\n",
    "\n",
    "\n",
    "# cv2.line(canvas, (50, 50), (300, 50), (0, 0, 255), 5, cv2.LINE_8)\n",
    "# cv2.line(canvas, (300, 50), (150, 200), (0, 0, 255), 5, cv2.LINE_4)\n",
    "# cv2.line(canvas, (400, 50), (400, 300), (255, 0, 0), 10)\n",
    "\n",
    "\n",
    "# rectangle(img, pt1, pt2, color[, thickness[, lineType[, shift]]])\n",
    "cv2.rectangle(canvas, (50, 400), (400, 600), (0, 0, 255), 5)\n",
    "cv2.rectangle(canvas, (50, 400, 300, 80), (0, 255, 0), -1)\n",
    "\n",
    "# circle(img, center, radius, color[, thickness[, lineType[, shift]]]) -> img\n",
    "cv2.circle(canvas, (600, 150), 100, (0, 0, 255), 5, cv2.LINE_AA)\n",
    "\n",
    "# ellipse(img, center, axes, angle, startAngle, endAngle, color[, thickness[, lineType[, shift]]]) -> img\n",
    "cv2.ellipse(canvas, (600, 150), (50, 100), 10, 0, 360, (0, 0, 255), 5, cv2.LINE_AA)\n",
    "\n",
    "text = 'hello world'\n",
    "\n",
    "#putText(img, text, org, fontFace, fontScale, color[, thickness[, lineType[, bottomLeftOrigin]]]) -> img\n",
    "cv2.putText(canvas, text, (700, 300), cv2.FONT_HERSHEY_COMPLEX, 1.2, (250 ,0 ,0), 1, cv2.LINE_AA)\n",
    "\n",
    "cv2.imshow('canvas', canvas)\n",
    "cv2.waitKey()\n",
    "cv2.destroyAllWindows()"
   ]
  },
  {
   "cell_type": "markdown",
   "id": "b8c332d3",
   "metadata": {},
   "source": [
    "# Capture"
   ]
  },
  {
   "cell_type": "code",
   "execution_count": 46,
   "id": "9d220209",
   "metadata": {},
   "outputs": [
    {
     "name": "stdout",
     "output_type": "stream",
     "text": [
      "Video open failed\n"
     ]
    },
    {
     "ename": "SystemExit",
     "evalue": "",
     "output_type": "error",
     "traceback": [
      "An exception has occurred, use %tb to see the full traceback.\n",
      "\u001b[1;31mSystemExit\u001b[0m\n"
     ]
    }
   ],
   "source": [
    "import numpy as np\n",
    "import cv2\n",
    "import sys\n",
    "import os\n",
    "import matplotlib.pyplot as plt\n",
    "\n",
    "cap = cv2.VideoCapture(0)\n",
    "\n",
    "if not cap.isOpened():\n",
    "    print('Video open failed')\n",
    "    cap.release()\n",
    "    sys.exit()\n",
    "\n",
    "w = int(cap.get(cv2.CAP_PROP_FRAME_WIDTH))\n",
    "h = int(cap.get(cv2.CAP_PROP_FRAME_HEIGHT))\n",
    "fps = int(cap.get(cv2.CAP_PROP_FPS))\n",
    "# print(w, h, fps)\n",
    "\n",
    "fourcc = cv2.VideoWriter_fourcc(*'DIVX')  # 저장 압축 방식\n",
    " \n",
    "out = cv2.VideoWriter('output.avi', fourcc, fps, (w, h))\n",
    "\n",
    "\n",
    "while 1:\n",
    "    \n",
    "    ret, frame = cap.read()\n",
    "    \n",
    "    if not ret:\n",
    "        print('Video read failed')\n",
    "        break\n",
    "    \n",
    "    # edge만 따내는 법\n",
    "    edge = cv2.Canny(frame, 50, 150)\n",
    "    blur = cv2.GaussianBlur(frame, (0,0), 1)\n",
    "    \n",
    "#     edge = cv2.cvtColor(edge, cv2.COLOR_GRAY2BGR)   # 만약 edge로 저장 하고 싶으면 BGR로 바꿔서 저장할것\n",
    "\n",
    "    cv2.imshow('image', frame)\n",
    "    cv2.imshow('edge', edge)\n",
    "    cv2.imshow('blur', blur)\n",
    "    \n",
    "    out.write(frame)\n",
    "#     out.write(edge)\n",
    "\n",
    "    if cv2.waitKey() == 27:\n",
    "        break\n",
    "        \n",
    "cap.release()\n",
    "out.release()\n",
    "cv2.destroyAllWindows()\n",
    "\n",
    "\n"
   ]
  },
  {
   "cell_type": "code",
   "execution_count": null,
   "id": "f3eb24ab",
   "metadata": {},
   "outputs": [],
   "source": []
  }
 ],
 "metadata": {
  "kernelspec": {
   "display_name": "Python 3 (ipykernel)",
   "language": "python",
   "name": "python3"
  },
  "language_info": {
   "codemirror_mode": {
    "name": "ipython",
    "version": 3
   },
   "file_extension": ".py",
   "mimetype": "text/x-python",
   "name": "python",
   "nbconvert_exporter": "python",
   "pygments_lexer": "ipython3",
   "version": "3.8.12"
  }
 },
 "nbformat": 4,
 "nbformat_minor": 5
}
