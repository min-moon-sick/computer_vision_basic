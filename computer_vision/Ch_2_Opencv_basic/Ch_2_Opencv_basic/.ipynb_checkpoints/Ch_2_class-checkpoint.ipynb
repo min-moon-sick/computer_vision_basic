{
 "cells": [
  {
   "cell_type": "code",
   "execution_count": 1,
   "id": "3b1ac789",
   "metadata": {},
   "outputs": [],
   "source": [
    "import numpy as np\n",
    "import sys\n",
    "import cv2"
   ]
  },
  {
   "cell_type": "code",
   "execution_count": 3,
   "id": "5f08b17e",
   "metadata": {},
   "outputs": [
    {
     "name": "stdout",
     "output_type": "stream",
     "text": [
      "<class 'numpy.ndarray'>\n",
      "shape of img =  (480, 640)\n",
      "shape of img2 =  (853, 1280, 3)\n",
      "dtype of img =  uint8\n",
      "dtype of img2 =  uint8\n"
     ]
    }
   ],
   "source": [
    "img = cv2.imread('./fig/puppy.bmp', 0)\n",
    "img2 = cv2.imread('./fig/puppy_1280_853.jpg', 1)\n",
    "\n",
    "if img is None or img2 is None:\n",
    "    print('image read faied')\n",
    "    sys.exit()\n",
    "\n",
    "print(type(img))\n",
    "print(\"shape of img = \", img.shape)\n",
    "print(\"shape of img2 = \", img2.shape)\n",
    "\n",
    "print(\"dtype of img = \", img.dtype)\n",
    "print(\"dtype of img2 = \", img2.dtype)\n",
    "\n",
    "cv2.namedWindow('img', cv2.WINDOW_NORMAL)\n",
    "cv2.namedWindow('img2', cv2.WINDOW_NORMAL)\n",
    "\n",
    "cv2.imshow('img', img)\n",
    "cv2.imshow('img2', img2)\n",
    "cv2.waitKey()\n",
    "\n",
    "cv2.destroyAllWindows()"
   ]
  },
  {
   "cell_type": "code",
   "execution_count": 4,
   "id": "f124ff27",
   "metadata": {},
   "outputs": [
    {
     "name": "stdout",
     "output_type": "stream",
     "text": [
      "image dimension = 640 x 480\n"
     ]
    }
   ],
   "source": [
    "h, w = img.shape[:2]\n",
    "print('image dimension = {} x {}'.format(w, h))"
   ]
  },
  {
   "cell_type": "markdown",
   "id": "ddea94f4",
   "metadata": {},
   "source": [
    "## 픽셀값 참조 하기"
   ]
  },
  {
   "cell_type": "code",
   "execution_count": 43,
   "id": "8d45795c",
   "metadata": {},
   "outputs": [],
   "source": [
    "img = cv2.imread('./fig/puppy.bmp', 1)\n",
    "img2 = cv2.imread('./fig/puppy_1280_853.jpg', 1)\n",
    "\n",
    "x = 200\n",
    "y = 300\n",
    "\n",
    "# img[10:y, 30:x] = [0, 0 , 255] # BGR         \n",
    "img[150:250, 250:500] = [0, 0 , 0] # BGR           [y축 좌표, x축 좌표]\n",
    "if img is None or img2 is None:\n",
    "    print('image read faied')\n",
    "    sys.exit()\n",
    "\n",
    "    \n",
    "cv2.namedWindow('img', cv2.WINDOW_NORMAL)\n",
    "cv2.imshow('img', img)\n",
    "\n",
    "cv2.waitKey()\n",
    "\n",
    "cv2.destroyAllWindows()"
   ]
  },
  {
   "cell_type": "markdown",
   "id": "fe1a6454",
   "metadata": {},
   "source": [
    "## 영상 생성"
   ]
  },
  {
   "cell_type": "code",
   "execution_count": 11,
   "id": "f3685a98",
   "metadata": {},
   "outputs": [],
   "source": [
    "import numpy as np\n",
    "import sys\n",
    "import cv2\n",
    "\n",
    "## 입력을 RGB로 받을 수 있음\n",
    "img1 = np.ones([400, 600, 3], dtype= np.uint8) * 128   # 255\n",
    "\n",
    "## 입력은 흑백 밖에 안됨\n",
    "# img1 = np.ones([400, 600], dtype= np.uint8) * 255 \n",
    "\n",
    "img2 = np.full((400, 600, 3), 255, dtype = np.uint8)\n",
    "img3 = np.zeros([400, 600, 3], dtype= np.uint8)\n",
    "\n",
    "# 노이즈 생성\n",
    "img4 = np.random.randint(0, 255, (400, 600), dtype= np.uint8)\n",
    "\n",
    "cv2.imshow('img1', img1)\n",
    "cv2.imshow('img2', img2)\n",
    "cv2.imshow('img3', img3)\n",
    "cv2.imshow('img4', img4)\n",
    "cv2.waitKey()\n",
    "\n",
    "cv2.destroyAllWindows()"
   ]
  },
  {
   "cell_type": "markdown",
   "id": "a85a966c",
   "metadata": {},
   "source": [
    "## 영상 복사"
   ]
  },
  {
   "cell_type": "code",
   "execution_count": 44,
   "id": "8d318544",
   "metadata": {},
   "outputs": [],
   "source": [
    "import numpy as np\n",
    "import sys\n",
    "import cv2\n",
    "\n",
    "img = cv2.imread('./fig/puppy.bmp', 1)\n",
    "img1 = img.copy()\n",
    "\n",
    "img[100: 200, 200: 300] = (0, 0, 255)\n",
    "\n",
    "cv2.imshow('img1', img1)\n",
    "cv2.waitKey()\n",
    "\n",
    "cv2.destroyAllWindows()"
   ]
  },
  {
   "cell_type": "markdown",
   "id": "a7b5e239",
   "metadata": {},
   "source": [
    "## 부분 영상 추출"
   ]
  },
  {
   "cell_type": "code",
   "execution_count": 57,
   "id": "0ea07b9f",
   "metadata": {},
   "outputs": [],
   "source": [
    "import numpy as np\n",
    "import sys\n",
    "import cv2\n",
    "\n",
    "img = cv2.imread('./fig/puppy.bmp', 1)\n",
    "img1 = img[0: 500, 100: 500]\n",
    "img2 = img[0: 500, 100: 500].copy()\n",
    "\n",
    "cv2.circle(img, (100,100),50, (0,0,255), 2, cv2.LINE_AA) # cv2.LINE_AA -> 원형을 조금 더 깔끔하게 정리\n",
    "\n",
    "cv2.imshow('img', img)\n",
    "cv2.imshow('img1', img1)\n",
    "cv2.imshow('img2', img2)\n",
    "cv2.waitKey()\n",
    "\n",
    "cv2.destroyAllWindows()"
   ]
  },
  {
   "cell_type": "markdown",
   "id": "61127d12",
   "metadata": {},
   "source": [
    "### 부분 영상 추출 및 복사 실습"
   ]
  },
  {
   "cell_type": "code",
   "execution_count": 100,
   "id": "b3d0d66b",
   "metadata": {},
   "outputs": [],
   "source": [
    "import numpy as np\n",
    "import sys\n",
    "import cv2\n",
    "\n",
    "img = cv2.imread('./fig/rudolf.png', 1)\n",
    "\n",
    "img1 = img[400: 700, 400: 600]\n",
    "img2 = img[400: 700, 400: 600].copy()\n",
    "\n",
    "cv2.circle(img, (510,530),20, (0,0,255), 100, cv2.LINE_AA)\n",
    "\n",
    "cv2.imshow('img', img)\n",
    "cv2.imshow('img1', img1)\n",
    "cv2.imshow('img2', img2)\n",
    "cv2.waitKey()\n",
    "\n",
    "cv2.destroyAllWindows()"
   ]
  },
  {
   "cell_type": "markdown",
   "id": "fee66bbc",
   "metadata": {},
   "source": [
    "## 마스크 연산"
   ]
  },
  {
   "cell_type": "code",
   "execution_count": 107,
   "id": "10e3f51f",
   "metadata": {},
   "outputs": [],
   "source": [
    "import numpy as np\n",
    "import sys\n",
    "import cv2\n",
    "\n",
    "src = cv2.imread('./fig/airplane.bmp', 1)\n",
    "mask = cv2.imread('./fig/mask_plane.bmp', cv2.IMREAD_GRAYSCALE)\n",
    "dst = cv2.imread('./fig/field.bmp', 1)\n",
    "\n",
    "# 1. 함수를 활용해 이미지 합성\n",
    "# cv2.copyTo(src, mask, dst = None) -> dst\n",
    "# cv2.copyTo(src, mask, dst)\n",
    "\n",
    "# 2. numpy를 활용해 이미지 합성\n",
    "dst[mask > 0] = src[mask > 0]\n",
    "\n",
    "\n",
    "cv2.imshow('img', src)\n",
    "cv2.imshow('img1', mask)\n",
    "cv2.imshow('img2', dst)\n",
    "\n",
    "cv2.waitKey()\n",
    "\n",
    "cv2.destroyAllWindows()"
   ]
  },
  {
   "cell_type": "code",
   "execution_count": null,
   "id": "3585dbfe",
   "metadata": {},
   "outputs": [],
   "source": []
  }
 ],
 "metadata": {
  "kernelspec": {
   "display_name": "Python 3 (ipykernel)",
   "language": "python",
   "name": "python3"
  },
  "language_info": {
   "codemirror_mode": {
    "name": "ipython",
    "version": 3
   },
   "file_extension": ".py",
   "mimetype": "text/x-python",
   "name": "python",
   "nbconvert_exporter": "python",
   "pygments_lexer": "ipython3",
   "version": "3.8.12"
  }
 },
 "nbformat": 4,
 "nbformat_minor": 5
}
